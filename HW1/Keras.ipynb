{
  "nbformat": 4,
  "nbformat_minor": 0,
  "metadata": {
    "colab": {
      "provenance": [],
      "collapsed_sections": []
    },
    "kernelspec": {
      "name": "python3",
      "display_name": "Python 3"
    },
    "language_info": {
      "name": "python"
    }
  },
  "cells": [
    {
      "cell_type": "markdown",
      "metadata": {
        "id": "g7uk8yWkokGr"
      },
      "source": [
        "# Dataset\n",
        "https://www.tensorflow.org/api_docs/python/tf/keras/datasets"
      ]
    },
    {
      "cell_type": "code",
      "metadata": {
        "id": "nVALD1hFofRY"
      },
      "source": [
        "from tensorflow.keras import datasets\n",
        "from tensorflow.keras.utils import to_categorical\n",
        "import matplotlib.pyplot as plt\n",
        "import numpy as np"
      ],
      "execution_count": 1,
      "outputs": []
    },
    {
      "cell_type": "markdown",
      "metadata": {
        "id": "gWTHXi1ep0we"
      },
      "source": [
        "## MNIST\n",
        "https://www.tensorflow.org/api_docs/python/tf/keras/datasets/mnist/load_data"
      ]
    },
    {
      "cell_type": "markdown",
      "source": [
        "### Loading dataset and Coverting labels to categorical form\n",
        "https://www.tensorflow.org/api_docs/python/tf/keras/utils/to_categorical"
      ],
      "metadata": {
        "id": "EkSbYJzHym6E"
      }
    },
    {
      "cell_type": "code",
      "metadata": {
        "id": "G_QUf-nTpNLP",
        "colab": {
          "base_uri": "https://localhost:8080/"
        },
        "outputId": "2beab8bb-e92d-4b3d-f994-ad70745fcc1f"
      },
      "source": [
        "(x_train_1, y_train_1), (x_test_1, y_test_1) = datasets.mnist.load_data()\n",
        "y_train_1 = to_categorical(y_train_1, num_classes=10)\n",
        "y_test_1 = to_categorical(y_test_1, num_classes=10)"
      ],
      "execution_count": 2,
      "outputs": [
        {
          "output_type": "stream",
          "name": "stdout",
          "text": [
            "Downloading data from https://storage.googleapis.com/tensorflow/tf-keras-datasets/mnist.npz\n",
            "11490434/11490434 [==============================] - 0s 0us/step\n"
          ]
        }
      ]
    },
    {
      "cell_type": "markdown",
      "source": [
        "### Train and Test data shapes"
      ],
      "metadata": {
        "id": "AsBhGMkvyFGN"
      }
    },
    {
      "cell_type": "code",
      "metadata": {
        "id": "jVvjb6sLph_z",
        "colab": {
          "base_uri": "https://localhost:8080/"
        },
        "outputId": "457bb3e3-edf3-49d5-fb97-b6e67d375025"
      },
      "source": [
        "print(x_train_1.shape)\n",
        "print(y_train_1.shape)"
      ],
      "execution_count": 3,
      "outputs": [
        {
          "output_type": "stream",
          "name": "stdout",
          "text": [
            "(60000, 28, 28)\n",
            "(60000, 10)\n"
          ]
        }
      ]
    },
    {
      "cell_type": "code",
      "metadata": {
        "id": "NygMmPNZpqk6",
        "colab": {
          "base_uri": "https://localhost:8080/"
        },
        "outputId": "b8dfb011-da4a-4022-e87c-985ffb1a78ad"
      },
      "source": [
        "print(x_test_1.shape)\n",
        "print(y_test_1.shape)"
      ],
      "execution_count": 4,
      "outputs": [
        {
          "output_type": "stream",
          "name": "stdout",
          "text": [
            "(10000, 28, 28)\n",
            "(10000, 10)\n"
          ]
        }
      ]
    },
    {
      "cell_type": "markdown",
      "source": [
        "### Showing one the dataset examples"
      ],
      "metadata": {
        "id": "ueAuBtxtzBk3"
      }
    },
    {
      "cell_type": "code",
      "metadata": {
        "id": "06kEayfrqgzM",
        "colab": {
          "base_uri": "https://localhost:8080/",
          "height": 283
        },
        "outputId": "eea712f2-a609-49ba-dfb2-0628c0802918"
      },
      "source": [
        "index = 0\n",
        "fig, (ax1) = plt.subplots(1, 1)\n",
        "ax1.imshow(x_train_1[index])"
      ],
      "execution_count": 5,
      "outputs": [
        {
          "output_type": "execute_result",
          "data": {
            "text/plain": [
              "<matplotlib.image.AxesImage at 0x7fe1250d8f10>"
            ]
          },
          "metadata": {},
          "execution_count": 5
        },
        {
          "output_type": "display_data",
          "data": {
            "text/plain": [
              "<Figure size 432x288 with 1 Axes>"
            ],
            "image/png": "[encoded data removed]"
          },
          "metadata": {
            "needs_background": "light"
          }
        }
      ]
    },
    {
      "cell_type": "markdown",
      "metadata": {
        "id": "7YwcmtmXp-yS"
      },
      "source": [
        "## CIFAR-10\n",
        "https://www.tensorflow.org/api_docs/python/tf/keras/datasets/cifar10/load_data"
      ]
    },
    {
      "cell_type": "markdown",
      "source": [
        "### Loading dataset and Coverting labels to categorical form\n",
        "https://www.tensorflow.org/api_docs/python/tf/keras/utils/to_categorical"
      ],
      "metadata": {
        "id": "hi48RVaKz6yM"
      }
    },
    {
      "cell_type": "code",
      "metadata": {
        "id": "xQxtIuqhpwwL",
        "colab": {
          "base_uri": "https://localhost:8080/"
        },
        "outputId": "fb1f5314-b150-4659-ff47-96a76904f0fd"
      },
      "source": [
        "(x_train_2, y_train_2), (x_test_2, y_test_2) = datasets.cifar10.load_data()\n",
        "y_train_2 = to_categorical(y_train_2, num_classes=10)\n",
        "y_test_2 = to_categorical(y_test_2, num_classes=10)"
      ],
      "execution_count": 6,
      "outputs": [
        {
          "output_type": "stream",
          "name": "stdout",
          "text": [
            "Downloading data from https://www.cs.toronto.edu/~kriz/cifar-10-python.tar.gz\n",
            "170498071/170498071 [==============================] - 7s 0us/step\n"
          ]
        }
      ]
    },
    {
      "cell_type": "markdown",
      "source": [
        "### Train and Test data shapes"
      ],
      "metadata": {
        "id": "W8YHQHg00Oq0"
      }
    },
    {
      "cell_type": "code",
      "metadata": {
        "id": "0oCJRo-EqKfp",
        "colab": {
          "base_uri": "https://localhost:8080/"
        },
        "outputId": "d84fd59f-b5b4-429b-9208-d662320a5b25"
      },
      "source": [
        "print(x_train_2.shape)\n",
        "print(y_train_2.shape)"
      ],
      "execution_count": 7,
      "outputs": [
        {
          "output_type": "stream",
          "name": "stdout",
          "text": [
            "(50000, 32, 32, 3)\n",
            "(50000, 10)\n"
          ]
        }
      ]
    },
    {
      "cell_type": "code",
      "metadata": {
        "id": "DbOirP-PqNu2",
        "colab": {
          "base_uri": "https://localhost:8080/"
        },
        "outputId": "966ea1a3-9f56-4636-d6e5-351bbd86aeb5"
      },
      "source": [
        "print(x_test_2.shape)\n",
        "print(y_test_2.shape)"
      ],
      "execution_count": 8,
      "outputs": [
        {
          "output_type": "stream",
          "name": "stdout",
          "text": [
            "(10000, 32, 32, 3)\n",
            "(10000, 10)\n"
          ]
        }
      ]
    },
    {
      "cell_type": "markdown",
      "source": [
        "### Showing one the dataset examples"
      ],
      "metadata": {
        "id": "JGRbv3Tx0VRh"
      }
    },
    {
      "cell_type": "code",
      "metadata": {
        "id": "PRDPVOAmqQjE",
        "colab": {
          "base_uri": "https://localhost:8080/",
          "height": 284
        },
        "outputId": "52f605c2-c8e0-4c66-d560-6de6c2390018"
      },
      "source": [
        "index = 4\n",
        "fig, (ax1) = plt.subplots(1, 1)\n",
        "ax1.imshow(x_train_2[index])"
      ],
      "execution_count": 9,
      "outputs": [
        {
          "output_type": "execute_result",
          "data": {
            "text/plain": [
              "<matplotlib.image.AxesImage at 0x7fe12510a890>"
            ]
          },
          "metadata": {},
          "execution_count": 9
        },
        {
          "output_type": "display_data",
          "data": {
            "text/plain": [
              "<Figure size 432x288 with 1 Axes>"
            ],
            "image/png": "[encoded data removed]"
          },
          "metadata": {
            "needs_background": "light"
          }
        }
      ]
    },
    {
      "cell_type": "markdown",
      "metadata": {
        "id": "G-xQLrD2rX_D"
      },
      "source": [
        "## FER-2013\n",
        "learn more about FER-2013 dataset:\n",
        "https://www.kaggle.com/datasets/msambare/fer2013"
      ]
    },
    {
      "cell_type": "code",
      "source": [
        "from google.colab import files\n",
        "uploaded = files.upload()"
      ],
      "metadata": {
        "colab": {
          "base_uri": "https://localhost:8080/",
          "height": 74
        },
        "id": "tgLk1CXSF2rS",
        "outputId": "fccca77f-f10f-4b16-9c0d-4aac440697ab"
      },
      "execution_count": 58,
      "outputs": [
        {
          "output_type": "display_data",
          "data": {
            "text/plain": [
              "<IPython.core.display.HTML object>"
            ],
            "text/html": [
              "\n",
              "     <input type=\"file\" id=\"files-10f0a819-15ae-4a45-849d-338ded77677c\" name=\"files[]\" multiple disabled\n",
              "        style=\"border:none\" />\n",
              "     <output id=\"result-10f0a819-15ae-4a45-849d-338ded77677c\">\n",
              "      Upload widget is only available when the cell has been executed in the\n",
              "      current browser session. Please rerun this cell to enable.\n",
              "      </output>\n",
              "      <script>// Copyright 2017 Google LLC\n",
              "//\n",
              "// Licensed under the Apache License, Version 2.0 (the \"License\");\n",
              "// you may not use this file except in compliance with the License.\n",
              "// You may obtain a copy of the License at\n",
              "//\n",
              "//      http://www.apache.org/licenses/LICENSE-2.0\n",
              "//\n",
              "// Unless required by applicable law or agreed to in writing, software\n",
              "// distributed under the License is distributed on an \"AS IS\" BASIS,\n",
              "// WITHOUT WARRANTIES OR CONDITIONS OF ANY KIND, either express or implied.\n",
              "// See the License for the specific language governing permissions and\n",
              "// limitations under the License.\n",
              "\n",
              "/**\n",
              " * @fileoverview Helpers for google.colab Python module.\n",
              " */\n",
              "(function(scope) {\n",
              "function span(text, styleAttributes = {}) {\n",
              "  const element = document.createElement('span');\n",
              "  element.textContent = text;\n",
              "  for (const key of Object.keys(styleAttributes)) {\n",
              "    element.style[key] = styleAttributes[key];\n",
              "  }\n",
              "  return element;\n",
              "}\n",
              "\n",
              "// Max number of bytes which will be uploaded at a time.\n",
              "const MAX_PAYLOAD_SIZE = 100 * 1024;\n",
              "\n",
              "function _uploadFiles(inputId, outputId) {\n",
              "  const steps = uploadFilesStep(inputId, outputId);\n",
              "  const outputElement = document.getElementById(outputId);\n",
              "  // Cache steps on the outputElement to make it available for the next call\n",
              "  // to uploadFilesContinue from Python.\n",
              "  outputElement.steps = steps;\n",
              "\n",
              "  return _uploadFilesContinue(outputId);\n",
              "}\n",
              "\n",
              "// This is roughly an async generator (not supported in the browser yet),\n",
              "// where there are multiple asynchronous steps and the Python side is going\n",
              "// to poll for completion of each step.\n",
              "// This uses a Promise to block the python side on completion of each step,\n",
              "// then passes the result of the previous step as the input to the next step.\n",
              "function _uploadFilesContinue(outputId) {\n",
              "  const outputElement = document.getElementById(outputId);\n",
              "  const steps = outputElement.steps;\n",
              "\n",
              "  const next = steps.next(outputElement.lastPromiseValue);\n",
              "  return Promise.resolve(next.value.promise).then((value) => {\n",
              "    // Cache the last promise value to make it available to the next\n",
              "    // step of the generator.\n",
              "    outputElement.lastPromiseValue = value;\n",
              "    return next.value.response;\n",
              "  });\n",
              "}\n",
              "\n",
              "/**\n",
              " * Generator function which is called between each async step of the upload\n",
              " * process.\n",
              " * @param {string} inputId Element ID of the input file picker element.\n",
              " * @param {string} outputId Element ID of the output display.\n",
              " * @return {!Iterable<!Object>} Iterable of next steps.\n",
              " */\n",
              "function* uploadFilesStep(inputId, outputId) {\n",
              "  const inputElement = document.getElementById(inputId);\n",
              "  inputElement.disabled = false;\n",
              "\n",
              "  const outputElement = document.getElementById(outputId);\n",
              "  outputElement.innerHTML = '';\n",
              "\n",
              "  const pickedPromise = new Promise((resolve) => {\n",
              "    inputElement.addEventListener('change', (e) => {\n",
              "      resolve(e.target.files);\n",
              "    });\n",
              "  });\n",
              "\n",
              "  const cancel = document.createElement('button');\n",
              "  inputElement.parentElement.appendChild(cancel);\n",
              "  cancel.textContent = 'Cancel upload';\n",
              "  const cancelPromise = new Promise((resolve) => {\n",
              "    cancel.onclick = () => {\n",
              "      resolve(null);\n",
              "    };\n",
              "  });\n",
              "\n",
              "  // Wait for the user to pick the files.\n",
              "  const files = yield {\n",
              "    promise: Promise.race([pickedPromise, cancelPromise]),\n",
              "    response: {\n",
              "      action: 'starting',\n",
              "    }\n",
              "  };\n",
              "\n",
              "  cancel.remove();\n",
              "\n",
              "  // Disable the input element since further picks are not allowed.\n",
              "  inputElement.disabled = true;\n",
              "\n",
              "  if (!files) {\n",
              "    return {\n",
              "      response: {\n",
              "        action: 'complete',\n",
              "      }\n",
              "    };\n",
              "  }\n",
              "\n",
              "  for (const file of files) {\n",
              "    const li = document.createElement('li');\n",
              "    li.append(span(file.name, {fontWeight: 'bold'}));\n",
              "    li.append(span(\n",
              "        `(${file.type || 'n/a'}) - ${file.size} bytes, ` +\n",
              "        `last modified: ${\n",
              "            file.lastModifiedDate ? file.lastModifiedDate.toLocaleDateString() :\n",
              "                                    'n/a'} - `));\n",
              "    const percent = span('0% done');\n",
              "    li.appendChild(percent);\n",
              "\n",
              "    outputElement.appendChild(li);\n",
              "\n",
              "    const fileDataPromise = new Promise((resolve) => {\n",
              "      const reader = new FileReader();\n",
              "      reader.onload = (e) => {\n",
              "        resolve(e.target.result);\n",
              "      };\n",
              "      reader.readAsArrayBuffer(file);\n",
              "    });\n",
              "    // Wait for the data to be ready.\n",
              "    let fileData = yield {\n",
              "      promise: fileDataPromise,\n",
              "      response: {\n",
              "        action: 'continue',\n",
              "      }\n",
              "    };\n",
              "\n",
              "    // Use a chunked sending to avoid message size limits. See b/62115660.\n",
              "    let position = 0;\n",
              "    do {\n",
              "      const length = Math.min(fileData.byteLength - position, MAX_PAYLOAD_SIZE);\n",
              "      const chunk = new Uint8Array(fileData, position, length);\n",
              "      position += length;\n",
              "\n",
              "      const base64 = btoa(String.fromCharCode.apply(null, chunk));\n",
              "      yield {\n",
              "        response: {\n",
              "          action: 'append',\n",
              "          file: file.name,\n",
              "          data: base64,\n",
              "        },\n",
              "      };\n",
              "\n",
              "      let percentDone = fileData.byteLength === 0 ?\n",
              "          100 :\n",
              "          Math.round((position / fileData.byteLength) * 100);\n",
              "      percent.textContent = `${percentDone}% done`;\n",
              "\n",
              "    } while (position < fileData.byteLength);\n",
              "  }\n",
              "\n",
              "  // All done.\n",
              "  yield {\n",
              "    response: {\n",
              "      action: 'complete',\n",
              "    }\n",
              "  };\n",
              "}\n",
              "\n",
              "scope.google = scope.google || {};\n",
              "scope.google.colab = scope.google.colab || {};\n",
              "scope.google.colab._files = {\n",
              "  _uploadFiles,\n",
              "  _uploadFilesContinue,\n",
              "};\n",
              "})(self);\n",
              "</script> "
            ]
          },
          "metadata": {}
        },
        {
          "output_type": "stream",
          "name": "stdout",
          "text": [
            "Saving archive.zip to archive.zip\n"
          ]
        }
      ]
    },
    {
      "cell_type": "code",
      "metadata": {
        "id": "kmX6SFoFrd_i"
      },
      "source": [
        "#!wget https://www.kaggle.com/datasets/msambare/fer2013/download?datasetVersionNumber=1\n",
        "!unzip -n -q archive.zip\n",
        "train_dir = './train/'\n",
        "test_dir = './test/'"
      ],
      "execution_count": 59,
      "outputs": []
    },
    {
      "cell_type": "markdown",
      "metadata": {
        "id": "MgvUdeSesHz6"
      },
      "source": [
        "### Image Data Generator\n",
        "https://www.tensorflow.org/api_docs/python/tf/keras/preprocessing/image/ImageDataGenerator"
      ]
    },
    {
      "cell_type": "code",
      "metadata": {
        "id": "x1jTAJBtt_1l"
      },
      "source": [
        "from tensorflow.keras.preprocessing.image import ImageDataGenerator"
      ],
      "execution_count": 17,
      "outputs": []
    },
    {
      "cell_type": "markdown",
      "source": [
        "#### Create Image Data Generator for Train and Test sets"
      ],
      "metadata": {
        "id": "NONacoWyQLt6"
      }
    },
    {
      "cell_type": "code",
      "metadata": {
        "id": "ibsA5aaqr643"
      },
      "source": [
        "train_datagen = ImageDataGenerator(\n",
        "    rescale=1./255,\n",
        "    zoom_range=0.3,\n",
        "    horizontal_flip=True,\n",
        "    vertical_flip=False,\n",
        "    validation_split=0.2,\n",
        ")\n",
        "\n",
        "test_datagen = ImageDataGenerator(rescale=1./255)"
      ],
      "execution_count": 18,
      "outputs": []
    },
    {
      "cell_type": "markdown",
      "source": [
        "#### Use **.flow_from_directory(directory)** to read Train and Test sets"
      ],
      "metadata": {
        "id": "pbDqvW_SQ4th"
      }
    },
    {
      "cell_type": "code",
      "metadata": {
        "id": "iiGZmiR7tFe5",
        "colab": {
          "base_uri": "https://localhost:8080/"
        },
        "outputId": "dc98851a-66ac-495e-a089-aab493e1139f"
      },
      "source": [
        "train_set = train_datagen.flow_from_directory(\n",
        "    train_dir,\n",
        "    batch_size=64,\n",
        "    target_size=(48, 48),\n",
        "    # shuffle=True,\n",
        "    color_mode='grayscale',\n",
        "    class_mode='categorical',\n",
        ")\n",
        "\n",
        "test_set = test_datagen.flow_from_directory(\n",
        "    test_dir,\n",
        "    batch_size=64,\n",
        "    target_size=(48, 48),\n",
        "    # shuffle=True,\n",
        "    color_mode='grayscale',\n",
        "    class_mode='categorical',\n",
        ")"
      ],
      "execution_count": 60,
      "outputs": [
        {
          "output_type": "stream",
          "name": "stdout",
          "text": [
            "Found 28709 images belonging to 7 classes.\n",
            "Found 7178 images belonging to 7 classes.\n"
          ]
        }
      ]
    },
    {
      "cell_type": "code",
      "metadata": {
        "id": "cS-22-lZuQRD",
        "colab": {
          "base_uri": "https://localhost:8080/"
        },
        "outputId": "93e6985c-51e4-4fbb-81e0-52b0794004f9"
      },
      "source": [
        "print(train_set)\n",
        "print(test_set)"
      ],
      "execution_count": 61,
      "outputs": [
        {
          "output_type": "stream",
          "name": "stdout",
          "text": [
            "<keras.preprocessing.image.DirectoryIterator object at 0x7fe11f640f50>\n",
            "<keras.preprocessing.image.DirectoryIterator object at 0x7fe11f640d90>\n"
          ]
        }
      ]
    },
    {
      "cell_type": "markdown",
      "metadata": {
        "id": "VIVa8A4Oun6c"
      },
      "source": [
        "# Model\n",
        "https://www.tensorflow.org/api_docs/python/tf/keras/models\n",
        "\n",
        "https://www.tensorflow.org/api_docs/python/tf/keras/layers\n"
      ]
    },
    {
      "cell_type": "code",
      "metadata": {
        "id": "JYhftIS6wH4h"
      },
      "source": [
        "from tensorflow.keras import layers\n",
        "from tensorflow.keras.utils import plot_model"
      ],
      "execution_count": 31,
      "outputs": []
    },
    {
      "cell_type": "markdown",
      "metadata": {
        "id": "_d0F574OviHF"
      },
      "source": [
        "## Sequential\n",
        "https://www.tensorflow.org/guide/keras/sequential_model"
      ]
    },
    {
      "cell_type": "code",
      "metadata": {
        "id": "k1-msOy3vdZd"
      },
      "source": [
        "from tensorflow.keras.models import Sequential\n",
        "from tensorflow import keras"
      ],
      "execution_count": 32,
      "outputs": []
    },
    {
      "cell_type": "code",
      "metadata": {
        "id": "CJQZG6AAvs70"
      },
      "source": [
        "model_temp_1 = Sequential()\n",
        "\n",
        "# Input Layer\n",
        "# Write your code here\n",
        "model_temp_1.add(keras.layers.Input(shape=(50,50)))\n",
        "model_temp_1.add(keras.layers.Flatten())\n",
        "# Hidden Layer\n",
        "# Write your code here\n",
        "model_temp_1.add(keras.layers.Dense(units=128, activation='relu'))\n",
        "# Output Layer\n",
        "# Write your code here\n",
        "model_temp_1.add(keras.layers.Dense(units=5, activation='softmax'))"
      ],
      "execution_count": 33,
      "outputs": []
    },
    {
      "cell_type": "markdown",
      "source": [
        "### Model Summary\n",
        "https://www.tensorflow.org/js/guide/models_and_layers#model_summary"
      ],
      "metadata": {
        "id": "wh621fXMUaYR"
      }
    },
    {
      "cell_type": "code",
      "metadata": {
        "id": "4UnIk6sGxLNh",
        "colab": {
          "base_uri": "https://localhost:8080/"
        },
        "outputId": "fd1d71db-902d-4bed-94d0-b82723743f17"
      },
      "source": [
        "model_temp_1.summary()"
      ],
      "execution_count": 34,
      "outputs": [
        {
          "output_type": "stream",
          "name": "stdout",
          "text": [
            "Model: \"sequential\"\n",
            "_________________________________________________________________\n",
            " Layer (type)                Output Shape              Param #   \n",
            "=================================================================\n",
            " flatten (Flatten)           (None, 2500)              0         \n",
            "                                                                 \n",
            " dense (Dense)               (None, 128)               320128    \n",
            "                                                                 \n",
            " dense_1 (Dense)             (None, 5)                 645       \n",
            "                                                                 \n",
            "=================================================================\n",
            "Total params: 320,773\n",
            "Trainable params: 320,773\n",
            "Non-trainable params: 0\n",
            "_________________________________________________________________\n"
          ]
        }
      ]
    },
    {
      "cell_type": "markdown",
      "source": [
        "### Plotting Model and Save it as **structure_1.png**\n",
        "https://www.tensorflow.org/api_docs/python/tf/keras/utils/plot_model "
      ],
      "metadata": {
        "id": "5cLKoVBwWoab"
      }
    },
    {
      "cell_type": "code",
      "metadata": {
        "id": "SyCzEMRYxLMC",
        "colab": {
          "base_uri": "https://localhost:8080/",
          "height": 422
        },
        "outputId": "d0e03caa-c424-4798-bc15-26080dec27f9"
      },
      "source": [
        "plot_model(\n",
        "    model_temp_1,\n",
        "    to_file=\"structure_1.png\",\n",
        "    show_shapes=True,\n",
        "    show_layer_names=True,\n",
        ")"
      ],
      "execution_count": 35,
      "outputs": [
        {
          "output_type": "execute_result",
          "data": {
            "image/png": "[encoded data removed]",
            "text/plain": [
              "<IPython.core.display.Image object>"
            ]
          },
          "metadata": {},
          "execution_count": 35
        }
      ]
    },
    {
      "cell_type": "markdown",
      "metadata": {
        "id": "a3fGzxhuvlmB"
      },
      "source": [
        "## Functional API \n",
        "https://www.tensorflow.org/guide/keras/functional"
      ]
    },
    {
      "cell_type": "code",
      "metadata": {
        "id": "zJf3UzRzvqAX"
      },
      "source": [
        "from tensorflow.keras.models import Model\n",
        "from keras.models import Model\n",
        "from keras.layers import Input\n",
        "from keras.layers import Dense\n",
        "from keras.layers import Flatten"
      ],
      "execution_count": 36,
      "outputs": []
    },
    {
      "cell_type": "code",
      "metadata": {
        "id": "issu4z2mzlpD"
      },
      "source": [
        "def model_factory(input_shape, num_classes):\n",
        "    # Input Layer\n",
        "    # Write your code here\n",
        "    input= Input(shape=input_shape)\n",
        "    flatten = Flatten()(input)\n",
        "    # Hidden Layer\n",
        "    # Write your code here\n",
        "    hidden1 = Dense(128, activation='relu')(flatten)\n",
        "    # Output Layer\n",
        "    # Write your code here\n",
        "    output = Dense(num_classes, activation='softmax')(hidden1)\n",
        "    return Model(inputs=input, outputs=output)"
      ],
      "execution_count": 37,
      "outputs": []
    },
    {
      "cell_type": "code",
      "metadata": {
        "id": "cyiFUQEx1DPw"
      },
      "source": [
        "model_template_2 = model_factory(\n",
        "    input_shape=(50, 50),\n",
        "    num_classes=5,\n",
        ")"
      ],
      "execution_count": 38,
      "outputs": []
    },
    {
      "cell_type": "markdown",
      "source": [
        "### Model Summary"
      ],
      "metadata": {
        "id": "fryM17I8YqmD"
      }
    },
    {
      "cell_type": "code",
      "metadata": {
        "id": "ZdHqhV1W1P_6",
        "colab": {
          "base_uri": "https://localhost:8080/"
        },
        "outputId": "5c9665d1-bf6e-456d-8e13-7d7e575e1c34"
      },
      "source": [
        "model_template_2.summary()"
      ],
      "execution_count": 39,
      "outputs": [
        {
          "output_type": "stream",
          "name": "stdout",
          "text": [
            "Model: \"model\"\n",
            "_________________________________________________________________\n",
            " Layer (type)                Output Shape              Param #   \n",
            "=================================================================\n",
            " input_2 (InputLayer)        [(None, 50, 50)]          0         \n",
            "                                                                 \n",
            " flatten_1 (Flatten)         (None, 2500)              0         \n",
            "                                                                 \n",
            " dense_2 (Dense)             (None, 128)               320128    \n",
            "                                                                 \n",
            " dense_3 (Dense)             (None, 5)                 645       \n",
            "                                                                 \n",
            "=================================================================\n",
            "Total params: 320,773\n",
            "Trainable params: 320,773\n",
            "Non-trainable params: 0\n",
            "_________________________________________________________________\n"
          ]
        }
      ]
    },
    {
      "cell_type": "markdown",
      "source": [
        "### Plotting Model and Save it as **structure_2.png**"
      ],
      "metadata": {
        "id": "Il7CnnQfYtFB"
      }
    },
    {
      "cell_type": "code",
      "metadata": {
        "id": "hsAMlz221RCb",
        "colab": {
          "base_uri": "https://localhost:8080/",
          "height": 422
        },
        "outputId": "8a43fc1c-480d-4d4b-8967-6659decb6990"
      },
      "source": [
        "plot_model(\n",
        "    model_template_2,\n",
        "    to_file=\"structure_2.png\",\n",
        "    show_shapes=True,\n",
        "    show_layer_names=True,\n",
        ")"
      ],
      "execution_count": 40,
      "outputs": [
        {
          "output_type": "execute_result",
          "data": {
            "image/png": "[encoded data removed]",
            "text/plain": [
              "<IPython.core.display.Image object>"
            ]
          },
          "metadata": {},
          "execution_count": 40
        }
      ]
    },
    {
      "cell_type": "markdown",
      "metadata": {
        "id": "X_k-PnIx7JTi"
      },
      "source": [
        "## Optimizers and Loss\n",
        "https://www.tensorflow.org/api_docs/python/tf/keras/optimizers/SGD\n",
        "\n",
        "https://www.tensorflow.org/api_docs/python/tf/keras/losses"
      ]
    },
    {
      "cell_type": "code",
      "metadata": {
        "id": "Ibu8V5AB7Rrb"
      },
      "source": [
        "from tensorflow.keras.optimizers import SGD"
      ],
      "execution_count": 41,
      "outputs": []
    },
    {
      "cell_type": "code",
      "metadata": {
        "id": "jd4JS7mX7P69"
      },
      "source": [
        "# Write your code here\n",
        "sgd_optimizer = SGD(learning_rate=0.01)"
      ],
      "execution_count": 42,
      "outputs": []
    },
    {
      "cell_type": "markdown",
      "metadata": {
        "id": "p52dlnj645YI"
      },
      "source": [
        "## Compile, Fit and Evaluation\n",
        "https://www.tensorflow.org/api_docs/python/tf/keras/Model#compile\n",
        "\n",
        "https://www.tensorflow.org/api_docs/python/tf/keras/Model#fit\n",
        "\n",
        "https://www.tensorflow.org/api_docs/python/tf/keras/Model#evaluate\n",
        "\n",
        "https://keras.io/api/models/model_training_apis/#predict-method"
      ]
    },
    {
      "cell_type": "markdown",
      "metadata": {
        "id": "Qj97C2Ie6d49"
      },
      "source": [
        "### MNIST"
      ]
    },
    {
      "cell_type": "code",
      "source": [
        "import tensorflow as tf"
      ],
      "metadata": {
        "id": "5hMyNnJbrqWe"
      },
      "execution_count": 44,
      "outputs": []
    },
    {
      "cell_type": "code",
      "metadata": {
        "id": "geDiiuHU47VI",
        "colab": {
          "base_uri": "https://localhost:8080/"
        },
        "outputId": "dea0e78c-db9e-4afb-ee16-8b82dacf4655"
      },
      "source": [
        "model_mnist = model_factory(\n",
        "    input_shape=(28, 28),\n",
        "    num_classes=10,\n",
        ")\n",
        "\n",
        "model_mnist.compile(\n",
        "    loss ='categorical_crossentropy',\n",
        "    optimizer=sgd_optimizer,\n",
        "    metrics=['accuracy'],\n",
        ")\n",
        "\n",
        "history = model_mnist.fit(\n",
        "    x=x_train_1,\n",
        "    y=y_train_1,\n",
        "    batch_size=64,\n",
        "    epochs=5,\n",
        "    validation_split=0.2,\n",
        "    shuffle=True,\n",
        ")"
      ],
      "execution_count": 48,
      "outputs": [
        {
          "output_type": "stream",
          "name": "stdout",
          "text": [
            "Epoch 1/5\n",
            "750/750 [==============================] - 4s 4ms/step - loss: 35.4638 - accuracy: 0.3154 - val_loss: 1.7423 - val_accuracy: 0.3588\n",
            "Epoch 2/5\n",
            "750/750 [==============================] - 3s 4ms/step - loss: 1.7475 - accuracy: 0.3425 - val_loss: 1.7294 - val_accuracy: 0.3503\n",
            "Epoch 3/5\n",
            "750/750 [==============================] - 3s 4ms/step - loss: 1.7597 - accuracy: 0.3385 - val_loss: 1.7089 - val_accuracy: 0.3575\n",
            "Epoch 4/5\n",
            "750/750 [==============================] - 3s 4ms/step - loss: 1.7109 - accuracy: 0.3460 - val_loss: 1.8014 - val_accuracy: 0.3669\n",
            "Epoch 5/5\n",
            "750/750 [==============================] - 3s 4ms/step - loss: 1.6889 - accuracy: 0.3652 - val_loss: 1.6034 - val_accuracy: 0.4017\n"
          ]
        }
      ]
    },
    {
      "cell_type": "markdown",
      "source": [
        "#### Plotting model Loss and Accuracy on train and validation sets per epoch"
      ],
      "metadata": {
        "id": "tD4ee660soz1"
      }
    },
    {
      "cell_type": "code",
      "metadata": {
        "id": "cEdazOlB_Nwm",
        "colab": {
          "base_uri": "https://localhost:8080/",
          "height": 313
        },
        "outputId": "76876881-2120-485e-cb42-90486216a9d8"
      },
      "source": [
        "fig, (ax1, ax2) = plt.subplots(1, 2)\n",
        "\n",
        "ax1.plot(history.history['accuracy'])\n",
        "ax1.plot(history.history['val_accuracy'])\n",
        "ax1.set_title('Model accuracy')\n",
        "ax1.set_ylabel('accuracy')\n",
        "ax1.set_xlabel('epoch')\n",
        "ax1.legend(['training', 'validation'], loc='lower right')\n",
        "\n",
        "ax2.plot(history.history['loss'])\n",
        "ax2.plot(history.history['val_loss'])\n",
        "ax2.set_title('Model loss')\n",
        "ax2.set_ylabel('loss')\n",
        "ax2.set_xlabel('epoch')\n",
        "ax2.legend(['training', 'validation'], loc='upper right')"
      ],
      "execution_count": 50,
      "outputs": [
        {
          "output_type": "execute_result",
          "data": {
            "text/plain": [
              "<matplotlib.legend.Legend at 0x7fe11e46a9d0>"
            ]
          },
          "metadata": {},
          "execution_count": 50
        },
        {
          "output_type": "display_data",
          "data": {
            "text/plain": [
              "<Figure size 432x288 with 2 Axes>"
            ],
            "image/png": "[encoded data removed]"
          },
          "metadata": {
            "needs_background": "light"
          }
        }
      ]
    },
    {
      "cell_type": "markdown",
      "source": [
        "#### Evaluating Test set"
      ],
      "metadata": {
        "id": "Fl9Ux9FWt4Zb"
      }
    },
    {
      "cell_type": "code",
      "metadata": {
        "id": "8LZQk6Tm8wCg",
        "colab": {
          "base_uri": "https://localhost:8080/"
        },
        "outputId": "37fc8021-60a5-4c14-fe02-ab1719a1eed7"
      },
      "source": [
        "# Write your code here\n",
        "model_mnist.evaluate(\n",
        "    x=x_test_1,\n",
        "    y=y_test_1,\n",
        "    batch_size=64,\n",
        ")"
      ],
      "execution_count": 53,
      "outputs": [
        {
          "output_type": "stream",
          "name": "stdout",
          "text": [
            "157/157 [==============================] - 0s 2ms/step - loss: 1.6051 - accuracy: 0.3966\n"
          ]
        },
        {
          "output_type": "execute_result",
          "data": {
            "text/plain": [
              "[1.6051076650619507, 0.39660000801086426]"
            ]
          },
          "metadata": {},
          "execution_count": 53
        }
      ]
    },
    {
      "cell_type": "markdown",
      "source": [
        "#### Predicting Some samples from Test set"
      ],
      "metadata": {
        "id": "5zN0uxmeu-Ru"
      }
    },
    {
      "cell_type": "code",
      "source": [
        "# Write your code here\n",
        "sample_mnist = [0, 10, 20]\n",
        "for idx in sample_mnist:\n",
        "    y_predicted = model_mnist.predict(np.array([x_test_1[idx]]))\n",
        "    print(f\"y_predicted : {np.argmax(y_predicted)} , y_true : {np.argmax(y_test_1[idx])}\")"
      ],
      "metadata": {
        "id": "FjKUvVLjvIy7",
        "colab": {
          "base_uri": "https://localhost:8080/"
        },
        "outputId": "e465519d-6e49-436e-a560-1e1162dcb377"
      },
      "execution_count": 56,
      "outputs": [
        {
          "output_type": "stream",
          "name": "stdout",
          "text": [
            "1/1 [==============================] - 0s 85ms/step\n",
            "y_predicted : 7 , y_true : 7\n",
            "1/1 [==============================] - 0s 45ms/step\n",
            "y_predicted : 9 , y_true : 0\n",
            "1/1 [==============================] - 0s 59ms/step\n",
            "y_predicted : 9 , y_true : 9\n"
          ]
        }
      ]
    },
    {
      "cell_type": "markdown",
      "metadata": {
        "id": "LwWDgkDD6jq8"
      },
      "source": [
        "### FER-2013"
      ]
    },
    {
      "cell_type": "code",
      "metadata": {
        "id": "xhpiYihb6UvK",
        "colab": {
          "base_uri": "https://localhost:8080/"
        },
        "outputId": "0dd26257-b94b-40c1-c5e7-9bb723903a31"
      },
      "source": [
        "# Write your code here\n",
        "model_fer = model_factory(\n",
        "    input_shape=(48, 48, 1),\n",
        "    num_classes=7\n",
        ")\n",
        "\n",
        "# Write your code here\n",
        "model_fer.compile(\n",
        "    loss='categorical_crossentropy',\n",
        "    optimizer=sgd_optimizer,\n",
        "    metrics=['accuracy'],\n",
        ")\n",
        "\n",
        "# Write your code here\n",
        "history = model_fer.fit(\n",
        "    x=train_set,\n",
        "    epochs=5,\n",
        "    validation_data=train_set,\n",
        ")"
      ],
      "execution_count": 62,
      "outputs": [
        {
          "output_type": "stream",
          "name": "stdout",
          "text": [
            "Epoch 1/5\n",
            "449/449 [==============================] - 67s 149ms/step - loss: 1.8017 - accuracy: 0.2593 - val_loss: 1.7772 - val_accuracy: 0.2726\n",
            "Epoch 2/5\n",
            "449/449 [==============================] - 45s 100ms/step - loss: 1.7603 - accuracy: 0.2902 - val_loss: 1.7411 - val_accuracy: 0.2968\n",
            "Epoch 3/5\n",
            "449/449 [==============================] - 65s 146ms/step - loss: 1.7375 - accuracy: 0.3092 - val_loss: 1.7188 - val_accuracy: 0.3228\n",
            "Epoch 4/5\n",
            "449/449 [==============================] - 66s 148ms/step - loss: 1.7243 - accuracy: 0.3128 - val_loss: 1.7171 - val_accuracy: 0.3231\n",
            "Epoch 5/5\n",
            "449/449 [==============================] - 65s 145ms/step - loss: 1.7172 - accuracy: 0.3184 - val_loss: 1.7020 - val_accuracy: 0.3308\n"
          ]
        }
      ]
    },
    {
      "cell_type": "markdown",
      "source": [
        "#### Plotting model Loss and Accuracy on train and validation sets per epoch"
      ],
      "metadata": {
        "id": "tamhcKqjz_7x"
      }
    },
    {
      "cell_type": "code",
      "metadata": {
        "id": "cQIveFdgEMQM",
        "colab": {
          "base_uri": "https://localhost:8080/",
          "height": 313
        },
        "outputId": "f1634924-11ca-419c-fd33-e1ac9db8313c"
      },
      "source": [
        "fig, (ax1, ax2) = plt.subplots(1, 2)\n",
        "\n",
        "ax1.plot(history.history['accuracy'])\n",
        "ax1.plot(history.history['val_accuracy'])\n",
        "ax1.set_title('Model accuracy')\n",
        "ax1.set_ylabel('accuracy')\n",
        "ax1.set_xlabel('epoch')\n",
        "ax1.legend(['training', 'validation'], loc='lower right')\n",
        "\n",
        "ax2.plot(history.history['loss'])\n",
        "ax2.plot(history.history['val_loss'])\n",
        "ax2.set_title('Model loss')\n",
        "ax2.set_ylabel('loss')\n",
        "ax2.set_xlabel('epoch')\n",
        "ax2.legend(['training', 'validation'], loc='upper right')"
      ],
      "execution_count": 63,
      "outputs": [
        {
          "output_type": "execute_result",
          "data": {
            "text/plain": [
              "<matplotlib.legend.Legend at 0x7fe11efd9f50>"
            ]
          },
          "metadata": {},
          "execution_count": 63
        },
        {
          "output_type": "display_data",
          "data": {
            "text/plain": [
              "<Figure size 432x288 with 2 Axes>"
            ],
            "image/png": "[encoded data removed]"
          },
          "metadata": {
            "needs_background": "light"
          }
        }
      ]
    },
    {
      "cell_type": "markdown",
      "source": [
        "#### Evaluating Test set"
      ],
      "metadata": {
        "id": "Mif4KIHT0F6z"
      }
    },
    {
      "cell_type": "code",
      "metadata": {
        "id": "XgC_WGxf9ikw",
        "colab": {
          "base_uri": "https://localhost:8080/"
        },
        "outputId": "dbb50761-84b2-4b98-ce3d-7cf2e7b6feae"
      },
      "source": [
        "model_fer.evaluate(\n",
        "    x=test_set,\n",
        ")"
      ],
      "execution_count": 64,
      "outputs": [
        {
          "output_type": "stream",
          "name": "stdout",
          "text": [
            "113/113 [==============================] - 3s 27ms/step - loss: 1.6786 - accuracy: 0.3504\n"
          ]
        },
        {
          "output_type": "execute_result",
          "data": {
            "text/plain": [
              "[1.6786015033721924, 0.350376158952713]"
            ]
          },
          "metadata": {},
          "execution_count": 64
        }
      ]
    },
    {
      "cell_type": "markdown",
      "source": [
        "#### Predicting Some samples from Test set"
      ],
      "metadata": {
        "id": "dT2L0pzV0ZPY"
      }
    },
    {
      "cell_type": "code",
      "source": [
        "prediction = model_fer.predict(test_set)\n",
        "# convert prediction to labels\n",
        "labels = prediction.argmax(axis=-1)\n",
        "\n",
        "# labels list\n",
        "label_list = list(test_set.class_indices.keys())\n",
        "\n",
        "plt.figure()\n",
        "f, axarr = plt.subplots(1,3) \n",
        "\n",
        "# use the created array to output your multiple images.\n",
        "axarr[0].imshow(np.squeeze(test_set[0][0][5]))\n",
        "label_1 = label_list[test_set[0][1][5].argmax(axis=-1)]\n",
        "axarr[1].imshow(np.squeeze(test_set[0][0][29]))\n",
        "label_2 = label_list[test_set[0][1][29].argmax(axis=-1)]\n",
        "axarr[2].imshow(np.squeeze(test_set[0][0][10]))\n",
        "label_3 = label_list[test_set[0][1][10].argmax(axis=-1)]\n",
        "\n",
        "# Show predicted label for each image\n",
        "axarr[0].set_title(f'predicted: {label_list[labels[5]]} \\n actual: {label_1}')\n",
        "axarr[1].set_title(f'label: {label_list[labels[29]]} \\n actual: {label_2}')\n",
        "axarr[2].set_title(f'label: {label_list[labels[10]]} \\n actual: {label_3}')"
      ],
      "metadata": {
        "id": "JzTNAgBa0aME",
        "colab": {
          "base_uri": "https://localhost:8080/",
          "height": 231
        },
        "outputId": "3820b07f-13e4-403d-e969-c307aa16608c"
      },
      "execution_count": 65,
      "outputs": [
        {
          "output_type": "stream",
          "name": "stdout",
          "text": [
            "113/113 [==============================] - 3s 25ms/step\n"
          ]
        },
        {
          "output_type": "execute_result",
          "data": {
            "text/plain": [
              "Text(0.5, 1.0, 'label: happy \\n actual: neutral')"
            ]
          },
          "metadata": {},
          "execution_count": 65
        },
        {
          "output_type": "display_data",
          "data": {
            "text/plain": [
              "<Figure size 432x288 with 0 Axes>"
            ]
          },
          "metadata": {}
        },
        {
          "output_type": "display_data",
          "data": {
            "text/plain": [
              "<Figure size 432x288 with 3 Axes>"
            ],
            "image/png": "[encoded data removed]"
          },
          "metadata": {
            "needs_background": "light"
          }
        }
      ]
    }
  ]
}