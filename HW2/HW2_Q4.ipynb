{
  "nbformat": 4,
  "nbformat_minor": 0,
  "metadata": {
    "accelerator": "GPU",
    "colab": {
      "provenance": [],
      "collapsed_sections": [
        "GrFpZXNQB9FW"
      ],
      "toc_visible": true
    },
    "kernelspec": {
      "name": "python3",
      "display_name": "Python 3"
    },
    "gpuClass": "standard"
  },
  "cells": [
    {
      "cell_type": "markdown",
      "metadata": {
        "id": "GrFpZXNQB9FW"
      },
      "source": [
        "#### Copyright 2018 Google LLC."
      ]
    },
    {
      "cell_type": "code",
      "metadata": {
        "id": "43_9Kh8LCDPK"
      },
      "source": [
        "# Licensed under the Apache License, Version 2.0 (the \"License\");\n",
        "# you may not use this file except in compliance with the License.\n",
        "# You may obtain a copy of the License at\n",
        "#\n",
        "# https://www.apache.org/licenses/LICENSE-2.0\n",
        "#\n",
        "# Unless required by applicable law or agreed to in writing, software\n",
        "# distributed under the License is distributed on an \"AS IS\" BASIS,\n",
        "# WITHOUT WARRANTIES OR CONDITIONS OF ANY KIND, either express or implied.\n",
        "# See the License for the specific language governing permissions and\n",
        "# limitations under the License."
      ],
      "execution_count": null,
      "outputs": []
    },
    {
      "cell_type": "markdown",
      "metadata": {
        "id": "YHK6DyunSbs4"
      },
      "source": [
        "# Cat vs. Dog Image Classification\n"
      ]
    },
    {
      "cell_type": "code",
      "metadata": {
        "id": "xvnAdS6YFTQZ"
      },
      "source": [
        "## Set These Parameters\n",
        "last_layer_neurons = 2\n",
        "last_layer_activation = 'softmax'\n",
        "loss_function = 'categorical_crossentropy'"
      ],
      "execution_count": 47,
      "outputs": []
    },
    {
      "cell_type": "code",
      "metadata": {
        "id": "XK-IN_zNgLlT"
      },
      "source": [
        "from tensorflow.keras.preprocessing.image import ImageDataGenerator\n",
        "\n",
        "datagen = ImageDataGenerator(\n",
        "      rotation_range=40,\n",
        "      width_shift_range=0.2,\n",
        "      height_shift_range=0.2,\n",
        "      shear_range=0.2,\n",
        "      zoom_range=0.2,\n",
        "      horizontal_flip=True,\n",
        "      fill_mode='nearest')"
      ],
      "execution_count": 36,
      "outputs": []
    },
    {
      "cell_type": "code",
      "metadata": {
        "id": "dhztKtUSFMXp",
        "colab": {
          "base_uri": "https://localhost:8080/"
        },
        "outputId": "5436cf4c-2e93-4074-c87e-648759796c93"
      },
      "source": [
        "!wget --no-check-certificate \\\n",
        "   https://storage.googleapis.com/mledu-datasets/cats_and_dogs_filtered.zip -O \\\n",
        "   /tmp/cats_and_dogs_filtered.zip"
      ],
      "execution_count": 37,
      "outputs": [
        {
          "output_type": "stream",
          "name": "stdout",
          "text": [
            "--2022-11-04 12:14:16--  https://storage.googleapis.com/mledu-datasets/cats_and_dogs_filtered.zip\n",
            "Resolving storage.googleapis.com (storage.googleapis.com)... 108.177.119.128, 108.177.126.128, 108.177.127.128, ...\n",
            "Connecting to storage.googleapis.com (storage.googleapis.com)|108.177.119.128|:443... connected.\n",
            "HTTP request sent, awaiting response... 200 OK\n",
            "Length: 68606236 (65M) [application/zip]\n",
            "Saving to: ‘/tmp/cats_and_dogs_filtered.zip’\n",
            "\n",
            "/tmp/cats_and_dogs_ 100%[===================>]  65.43M  24.4MB/s    in 2.7s    \n",
            "\n",
            "2022-11-04 12:14:18 (24.4 MB/s) - ‘/tmp/cats_and_dogs_filtered.zip’ saved [68606236/68606236]\n",
            "\n"
          ]
        }
      ]
    },
    {
      "cell_type": "code",
      "metadata": {
        "id": "LWkSRoJRfvGL"
      },
      "source": [
        "import os\n",
        "import zipfile\n",
        "\n",
        "local_zip = '/tmp/cats_and_dogs_filtered.zip'\n",
        "zip_ref = zipfile.ZipFile(local_zip, 'r')\n",
        "zip_ref.extractall('/tmp')\n",
        "zip_ref.close()\n",
        "  \n",
        "base_dir = '/tmp/cats_and_dogs_filtered'\n",
        "train_dir = os.path.join(base_dir, 'train')\n",
        "validation_dir = os.path.join(base_dir, 'validation')\n",
        "\n",
        "# Directory with our training cat pictures\n",
        "train_cats_dir = os.path.join(train_dir, 'cats')\n",
        "\n",
        "# Directory with our training dog pictures\n",
        "train_dogs_dir = os.path.join(train_dir, 'dogs')\n",
        "\n",
        "# Directory with our validation cat pictures\n",
        "validation_cats_dir = os.path.join(validation_dir, 'cats')\n",
        "\n",
        "# Directory with our validation dog pictures\n",
        "validation_dogs_dir = os.path.join(validation_dir, 'dogs')\n",
        "\n",
        "train_cat_fnames = os.listdir(train_cats_dir)\n",
        "train_dog_fnames = os.listdir(train_dogs_dir)"
      ],
      "execution_count": 43,
      "outputs": []
    },
    {
      "cell_type": "markdown",
      "metadata": {
        "id": "02r1oXaegECk"
      },
      "source": [
        "Next, let's apply the `datagen` transformations to a cat image from the training set to produce five random variants. Rerun the cell a few times to see fresh batches of random variants."
      ]
    },
    {
      "cell_type": "code",
      "metadata": {
        "id": "e8HgwcAbmdcu",
        "colab": {
          "base_uri": "https://localhost:8080/"
        },
        "outputId": "4e38e781-2f54-4024-d32e-5a921bcc5536"
      },
      "source": [
        "# Adding rescale, rotation_range, width_shift_range, height_shift_range,\n",
        "# shear_range, zoom_range, and horizontal flip to our ImageDataGenerator\n",
        "train_datagen = ImageDataGenerator(\n",
        "    rescale=1./255,\n",
        "    rotation_range=20,\n",
        "    width_shift_range=0.1,\n",
        "    height_shift_range=0.1,\n",
        "    # shear_range=0.2,\n",
        "    # zoom_range=0.2,\n",
        "    horizontal_flip=True,)\n",
        "\n",
        "# Note that the validation data should not be augmented!\n",
        "val_datagen = ImageDataGenerator(rescale=1./255)\n",
        "\n",
        "#\n",
        "class_mode = 'binary' if last_layer_neurons == 1 else 'categorical'\n",
        "\n",
        "# Flow training images in batches of 32 using train_datagen generator\n",
        "train_generator = train_datagen.flow_from_directory(\n",
        "        train_dir,  # This is the source directory for training images\n",
        "        target_size=(150, 150),  # All images will be resized to 150x150\n",
        "        batch_size=20,\n",
        "        # Since we use binary_crossentropy loss, we need binary labels\n",
        "        class_mode=class_mode)\n",
        "\n",
        "# Flow validation images in batches of 32 using val_datagen generator\n",
        "validation_generator = val_datagen.flow_from_directory(\n",
        "        validation_dir,\n",
        "        target_size=(150, 150),\n",
        "        batch_size=20,\n",
        "        class_mode=class_mode)"
      ],
      "execution_count": 44,
      "outputs": [
        {
          "output_type": "stream",
          "name": "stdout",
          "text": [
            "Found 2000 images belonging to 2 classes.\n",
            "Found 1000 images belonging to 2 classes.\n"
          ]
        }
      ]
    },
    {
      "cell_type": "markdown",
      "metadata": {
        "id": "K-3PrfDwDJjB"
      },
      "source": [
        "If we train a new network using this data augmentation configuration, our network will never see the same input twice. However the inputs that it sees are still heavily intercorrelated, so this might not be quite enough to completely get rid of overfitting."
      ]
    },
    {
      "cell_type": "markdown",
      "metadata": {
        "id": "lYguAfH3gyv6"
      },
      "source": [
        "## Building a Small ConvNet\n"
      ]
    },
    {
      "cell_type": "code",
      "metadata": {
        "id": "SVC4FgxiDje6"
      },
      "source": [
        "from tensorflow.keras import layers\n",
        "from tensorflow.keras import Model\n",
        "from tensorflow.keras import optimizers\n",
        "\n",
        "# Our input feature map is 150x150x3: 150x150 for the image pixels, and 3 for\n",
        "# the three color channels: R, G, and B\n",
        "img_input = layers.Input(shape=(150, 150, 3))\n",
        "\n",
        "# First convolution extracts 32 filters that are 3x3\n",
        "# Convolution is followed by max-pooling layer with a 2x2 window\n",
        "x = layers.Conv2D(32, 3, activation='relu')(img_input) \n",
        "x = layers.MaxPooling2D(2)(x)\n",
        "\n",
        "# Second convolution extracts 64 filters that are 3x3\n",
        "# Convolution is followed by max-pooling layer with a 2x2 window\n",
        "x = layers.Conv2D(64, 3, activation='relu')(x) \n",
        "x = layers.MaxPooling2D(2)(x)\n",
        "\n",
        "# Third convolution extracts 128 filters that are 3x3\n",
        "# Convolution is followed by max-pooling layer with a 2x2 window\n",
        "x = layers.Convolution2D(128, 3, activation='relu')(x) \n",
        "x = layers.MaxPooling2D(2)(x)\n",
        "\n",
        "# Flatten feature map to a 1-dim tensor\n",
        "x = layers.Flatten()(x)\n",
        "\n",
        "# Create a fully connected layer with ReLU activation and 512 hidden units\n",
        "x = layers.Dense(512, activation='relu')(x) \n",
        "\n",
        "# Add a dropout rate of 0.5\n",
        "x = layers.Dropout(0.2)(x)\n",
        "\n",
        "# add output layer\n",
        "output = layers.Dense(last_layer_neurons, activation=last_layer_activation)(x)\n",
        "\n",
        "# Configure and compile the model\n",
        "model = Model(img_input, output)\n",
        "model.compile(loss=loss_function,\n",
        "              optimizer=optimizers.RMSprop(lr=1e-3),\n",
        "              metrics=['acc'])"
      ],
      "execution_count": 48,
      "outputs": []
    },
    {
      "cell_type": "code",
      "metadata": {
        "cellView": "code",
        "id": "SdW6geEVi2S8",
        "colab": {
          "base_uri": "https://localhost:8080/"
        },
        "outputId": "23d65007-fa48-4c25-8d41-c32544b8e776"
      },
      "source": [
        "history = model.fit(\n",
        "      train_generator,\n",
        "      epochs=50,\n",
        "      validation_data=validation_generator,\n",
        "      verbose=1)"
      ],
      "execution_count": 49,
      "outputs": [
        {
          "output_type": "stream",
          "name": "stdout",
          "text": [
            "Epoch 1/50\n",
            "100/100 [==============================] - 25s 233ms/step - loss: 1.0583 - acc: 0.5195 - val_loss: 0.7023 - val_acc: 0.5050\n",
            "Epoch 2/50\n",
            "100/100 [==============================] - 18s 184ms/step - loss: 0.7090 - acc: 0.5640 - val_loss: 0.6372 - val_acc: 0.6620\n",
            "Epoch 3/50\n",
            "100/100 [==============================] - 18s 184ms/step - loss: 0.6520 - acc: 0.6395 - val_loss: 0.6126 - val_acc: 0.6600\n",
            "Epoch 4/50\n",
            "100/100 [==============================] - 21s 213ms/step - loss: 0.6245 - acc: 0.6575 - val_loss: 0.6041 - val_acc: 0.6660\n",
            "Epoch 5/50\n",
            "100/100 [==============================] - 18s 185ms/step - loss: 0.6108 - acc: 0.6805 - val_loss: 0.5771 - val_acc: 0.7080\n",
            "Epoch 6/50\n",
            "100/100 [==============================] - 19s 185ms/step - loss: 0.5865 - acc: 0.6980 - val_loss: 0.6304 - val_acc: 0.6790\n",
            "Epoch 7/50\n",
            "100/100 [==============================] - 19s 185ms/step - loss: 0.5689 - acc: 0.7165 - val_loss: 0.5560 - val_acc: 0.7290\n",
            "Epoch 8/50\n",
            "100/100 [==============================] - 19s 185ms/step - loss: 0.5602 - acc: 0.7195 - val_loss: 0.6700 - val_acc: 0.6930\n",
            "Epoch 9/50\n",
            "100/100 [==============================] - 19s 187ms/step - loss: 0.5562 - acc: 0.7260 - val_loss: 0.5418 - val_acc: 0.7230\n",
            "Epoch 10/50\n",
            "100/100 [==============================] - 19s 185ms/step - loss: 0.5461 - acc: 0.7080 - val_loss: 0.5560 - val_acc: 0.7270\n",
            "Epoch 11/50\n",
            "100/100 [==============================] - 18s 184ms/step - loss: 0.5216 - acc: 0.7485 - val_loss: 0.6452 - val_acc: 0.6790\n",
            "Epoch 12/50\n",
            "100/100 [==============================] - 19s 186ms/step - loss: 0.5059 - acc: 0.7515 - val_loss: 0.6088 - val_acc: 0.7160\n",
            "Epoch 13/50\n",
            "100/100 [==============================] - 19s 186ms/step - loss: 0.5132 - acc: 0.7530 - val_loss: 0.5014 - val_acc: 0.7640\n",
            "Epoch 14/50\n",
            "100/100 [==============================] - 21s 207ms/step - loss: 0.5016 - acc: 0.7550 - val_loss: 0.5119 - val_acc: 0.7540\n",
            "Epoch 15/50\n",
            "100/100 [==============================] - 19s 186ms/step - loss: 0.4922 - acc: 0.7690 - val_loss: 0.4987 - val_acc: 0.7550\n",
            "Epoch 16/50\n",
            "100/100 [==============================] - 18s 184ms/step - loss: 0.4863 - acc: 0.7645 - val_loss: 0.5331 - val_acc: 0.7490\n",
            "Epoch 17/50\n",
            "100/100 [==============================] - 18s 185ms/step - loss: 0.4811 - acc: 0.7745 - val_loss: 0.5388 - val_acc: 0.7530\n",
            "Epoch 18/50\n",
            "100/100 [==============================] - 18s 185ms/step - loss: 0.4767 - acc: 0.7760 - val_loss: 0.4823 - val_acc: 0.8000\n",
            "Epoch 19/50\n",
            "100/100 [==============================] - 19s 186ms/step - loss: 0.4618 - acc: 0.7785 - val_loss: 0.4847 - val_acc: 0.7850\n",
            "Epoch 20/50\n",
            "100/100 [==============================] - 21s 207ms/step - loss: 0.4602 - acc: 0.7865 - val_loss: 0.4458 - val_acc: 0.7910\n",
            "Epoch 21/50\n",
            "100/100 [==============================] - 19s 186ms/step - loss: 0.4622 - acc: 0.7885 - val_loss: 0.4484 - val_acc: 0.7920\n",
            "Epoch 22/50\n",
            "100/100 [==============================] - 19s 185ms/step - loss: 0.4512 - acc: 0.7965 - val_loss: 0.5155 - val_acc: 0.7580\n",
            "Epoch 23/50\n",
            "100/100 [==============================] - 19s 185ms/step - loss: 0.4527 - acc: 0.7920 - val_loss: 0.5202 - val_acc: 0.7760\n",
            "Epoch 24/50\n",
            "100/100 [==============================] - 19s 187ms/step - loss: 0.4555 - acc: 0.7980 - val_loss: 0.4664 - val_acc: 0.7840\n",
            "Epoch 25/50\n",
            "100/100 [==============================] - 19s 191ms/step - loss: 0.4382 - acc: 0.8105 - val_loss: 0.5115 - val_acc: 0.7770\n",
            "Epoch 26/50\n",
            "100/100 [==============================] - 19s 187ms/step - loss: 0.4520 - acc: 0.7895 - val_loss: 0.4396 - val_acc: 0.8000\n",
            "Epoch 27/50\n",
            "100/100 [==============================] - 19s 185ms/step - loss: 0.4409 - acc: 0.7990 - val_loss: 0.5221 - val_acc: 0.7520\n",
            "Epoch 28/50\n",
            "100/100 [==============================] - 19s 186ms/step - loss: 0.4668 - acc: 0.7925 - val_loss: 0.4546 - val_acc: 0.7940\n",
            "Epoch 29/50\n",
            "100/100 [==============================] - 19s 185ms/step - loss: 0.4310 - acc: 0.8140 - val_loss: 0.5147 - val_acc: 0.7510\n",
            "Epoch 30/50\n",
            "100/100 [==============================] - 19s 186ms/step - loss: 0.4066 - acc: 0.8175 - val_loss: 0.6133 - val_acc: 0.7810\n",
            "Epoch 31/50\n",
            "100/100 [==============================] - 21s 206ms/step - loss: 0.4138 - acc: 0.8215 - val_loss: 0.4623 - val_acc: 0.7900\n",
            "Epoch 32/50\n",
            "100/100 [==============================] - 19s 186ms/step - loss: 0.4214 - acc: 0.8140 - val_loss: 0.4686 - val_acc: 0.7810\n",
            "Epoch 33/50\n",
            "100/100 [==============================] - 19s 186ms/step - loss: 0.4213 - acc: 0.8065 - val_loss: 0.5140 - val_acc: 0.8010\n",
            "Epoch 34/50\n",
            "100/100 [==============================] - 19s 186ms/step - loss: 0.3968 - acc: 0.8185 - val_loss: 0.5106 - val_acc: 0.8000\n",
            "Epoch 35/50\n",
            "100/100 [==============================] - 19s 185ms/step - loss: 0.4039 - acc: 0.8150 - val_loss: 0.4682 - val_acc: 0.7960\n",
            "Epoch 36/50\n",
            "100/100 [==============================] - 20s 199ms/step - loss: 0.4131 - acc: 0.8175 - val_loss: 0.5215 - val_acc: 0.7850\n",
            "Epoch 37/50\n",
            "100/100 [==============================] - 19s 185ms/step - loss: 0.4376 - acc: 0.8125 - val_loss: 0.4790 - val_acc: 0.8080\n",
            "Epoch 38/50\n",
            "100/100 [==============================] - 19s 188ms/step - loss: 0.3986 - acc: 0.8295 - val_loss: 0.5457 - val_acc: 0.8050\n",
            "Epoch 39/50\n",
            "100/100 [==============================] - 19s 186ms/step - loss: 0.4103 - acc: 0.8230 - val_loss: 0.4880 - val_acc: 0.8050\n",
            "Epoch 40/50\n",
            "100/100 [==============================] - 19s 187ms/step - loss: 0.4006 - acc: 0.8200 - val_loss: 0.4771 - val_acc: 0.7890\n",
            "Epoch 41/50\n",
            "100/100 [==============================] - 19s 187ms/step - loss: 0.3946 - acc: 0.8240 - val_loss: 0.4788 - val_acc: 0.8040\n",
            "Epoch 42/50\n",
            "100/100 [==============================] - 19s 188ms/step - loss: 0.4033 - acc: 0.8270 - val_loss: 0.4892 - val_acc: 0.7890\n",
            "Epoch 43/50\n",
            "100/100 [==============================] - 19s 188ms/step - loss: 0.4088 - acc: 0.8220 - val_loss: 0.6169 - val_acc: 0.7510\n",
            "Epoch 44/50\n",
            "100/100 [==============================] - 19s 186ms/step - loss: 0.3967 - acc: 0.8360 - val_loss: 0.4565 - val_acc: 0.8300\n",
            "Epoch 45/50\n",
            "100/100 [==============================] - 19s 187ms/step - loss: 0.3954 - acc: 0.8360 - val_loss: 0.5707 - val_acc: 0.7680\n",
            "Epoch 46/50\n",
            "100/100 [==============================] - 19s 191ms/step - loss: 0.3910 - acc: 0.8365 - val_loss: 0.4546 - val_acc: 0.8010\n",
            "Epoch 47/50\n",
            "100/100 [==============================] - 19s 191ms/step - loss: 0.4123 - acc: 0.8255 - val_loss: 0.4690 - val_acc: 0.8030\n",
            "Epoch 48/50\n",
            "100/100 [==============================] - 19s 186ms/step - loss: 0.3742 - acc: 0.8390 - val_loss: 0.4407 - val_acc: 0.8060\n",
            "Epoch 49/50\n",
            "100/100 [==============================] - 19s 187ms/step - loss: 0.3754 - acc: 0.8465 - val_loss: 0.6223 - val_acc: 0.7560\n",
            "Epoch 50/50\n",
            "100/100 [==============================] - 21s 206ms/step - loss: 0.4156 - acc: 0.8335 - val_loss: 0.4559 - val_acc: 0.8080\n"
          ]
        }
      ]
    },
    {
      "cell_type": "markdown",
      "metadata": {
        "id": "1LTWMLV6SUvP"
      },
      "source": [
        "Note that with data augmentation in place, the 2,000 training images are randomly transformed each time a new training epoch runs, which means that the model will never see the same image twice during training."
      ]
    },
    {
      "cell_type": "markdown",
      "metadata": {
        "id": "IZqvC9UJlWc2"
      },
      "source": [
        "## Evaluate the Results\n",
        "\n",
        "Let's evaluate the results of model training with data augmentation and dropout:"
      ]
    },
    {
      "cell_type": "code",
      "metadata": {
        "id": "NKCjHegASXaA",
        "colab": {
          "base_uri": "https://localhost:8080/",
          "height": 563
        },
        "outputId": "02fa7781-8429-4a66-af7b-6353e49142c3"
      },
      "source": [
        "from matplotlib import pyplot as plt\n",
        "\n",
        "# Retrieve a list of accuracy results on training and validation data\n",
        "# sets for each training epoch\n",
        "acc = history.history['acc']\n",
        "val_acc = history.history['val_acc']\n",
        "\n",
        "# Retrieve a list of list results on training and validation data\n",
        "# sets for each training epoch\n",
        "loss = history.history['loss']\n",
        "val_loss = history.history['val_loss']\n",
        "\n",
        "# Get number of epochs\n",
        "epochs = range(len(acc))\n",
        "\n",
        "# Plot training and validation accuracy per epoch\n",
        "plt.plot(epochs, acc)\n",
        "plt.plot(epochs, val_acc)\n",
        "plt.title('Training and validation accuracy')\n",
        "\n",
        "plt.figure()\n",
        "\n",
        "# Plot training and validation loss per epoch\n",
        "plt.plot(epochs, loss)\n",
        "plt.plot(epochs, val_loss)\n",
        "plt.title('Training and validation loss')"
      ],
      "execution_count": 50,
      "outputs": [
        {
          "output_type": "execute_result",
          "data": {
            "text/plain": [
              "Text(0.5, 1.0, 'Training and validation loss')"
            ]
          },
          "metadata": {},
          "execution_count": 50
        },
        {
          "output_type": "display_data",
          "data": {
            "text/plain": [
              "<Figure size 432x288 with 1 Axes>"
            ],
            "image/png": "[encoded data removed]"
          },
          "metadata": {
            "needs_background": "light"
          }
        },
        {
          "output_type": "display_data",
          "data": {
            "text/plain": [
              "<Figure size 432x288 with 1 Axes>"
            ],
            "image/png": "[encoded data removed]"
          },
          "metadata": {
            "needs_background": "light"
          }
        }
      ]
    }
  ]
}