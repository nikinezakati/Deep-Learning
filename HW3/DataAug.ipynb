{
  "cells": [
    {
      "cell_type": "markdown",
      "metadata": {
        "id": "G76YLWzJ0Krp"
      },
      "source": [
        "# Data Agumentation Problem\n",
        "#### Here you need to compare two models with and without agumentation to see the difference"
      ]
    },
    {
      "cell_type": "markdown",
      "metadata": {
        "id": "_LB2Z1tr0Krs"
      },
      "source": [
        "### Import libraries"
      ]
    },
    {
      "cell_type": "code",
      "execution_count": 85,
      "metadata": {
        "id": "DApO-QgeUJyh"
      },
      "outputs": [],
      "source": [
        "import glob\n",
        "import cv2\n",
        "import numpy as np\n",
        "import random\n",
        "import os\n",
        "from PIL import Image\n",
        "import cv2\n",
        "from sklearn.model_selection import train_test_split\n",
        "import itertools "
      ]
    },
    {
      "cell_type": "markdown",
      "metadata": {
        "id": "LcdqAbaT0Kru"
      },
      "source": [
        "### Read Images"
      ]
    },
    {
      "cell_type": "code",
      "source": [
        "from google.colab import files\n",
        "uploaded = files.upload()"
      ],
      "metadata": {
        "colab": {
          "base_uri": "https://localhost:8080/",
          "height": 74
        },
        "id": "qxKM_A-y0s1l",
        "outputId": "c56b358f-8dee-44d3-dbef-23fa7760bb8e"
      },
      "execution_count": 2,
      "outputs": [
        {
          "output_type": "display_data",
          "data": {
            "text/plain": [
              "<IPython.core.display.HTML object>"
            ],
            "text/html": [
              "\n",
              "     <input type=\"file\" id=\"files-114847f4-a93b-4f4f-a0bf-246b25dbdf84\" name=\"files[]\" multiple disabled\n",
              "        style=\"border:none\" />\n",
              "     <output id=\"result-114847f4-a93b-4f4f-a0bf-246b25dbdf84\">\n",
              "      Upload widget is only available when the cell has been executed in the\n",
              "      current browser session. Please rerun this cell to enable.\n",
              "      </output>\n",
              "      <script>// Copyright 2017 Google LLC\n",
              "//\n",
              "// Licensed under the Apache License, Version 2.0 (the \"License\");\n",
              "// you may not use this file except in compliance with the License.\n",
              "// You may obtain a copy of the License at\n",
              "//\n",
              "//      http://www.apache.org/licenses/LICENSE-2.0\n",
              "//\n",
              "// Unless required by applicable law or agreed to in writing, software\n",
              "// distributed under the License is distributed on an \"AS IS\" BASIS,\n",
              "// WITHOUT WARRANTIES OR CONDITIONS OF ANY KIND, either express or implied.\n",
              "// See the License for the specific language governing permissions and\n",
              "// limitations under the License.\n",
              "\n",
              "/**\n",
              " * @fileoverview Helpers for google.colab Python module.\n",
              " */\n",
              "(function(scope) {\n",
              "function span(text, styleAttributes = {}) {\n",
              "  const element = document.createElement('span');\n",
              "  element.textContent = text;\n",
              "  for (const key of Object.keys(styleAttributes)) {\n",
              "    element.style[key] = styleAttributes[key];\n",
              "  }\n",
              "  return element;\n",
              "}\n",
              "\n",
              "// Max number of bytes which will be uploaded at a time.\n",
              "const MAX_PAYLOAD_SIZE = 100 * 1024;\n",
              "\n",
              "function _uploadFiles(inputId, outputId) {\n",
              "  const steps = uploadFilesStep(inputId, outputId);\n",
              "  const outputElement = document.getElementById(outputId);\n",
              "  // Cache steps on the outputElement to make it available for the next call\n",
              "  // to uploadFilesContinue from Python.\n",
              "  outputElement.steps = steps;\n",
              "\n",
              "  return _uploadFilesContinue(outputId);\n",
              "}\n",
              "\n",
              "// This is roughly an async generator (not supported in the browser yet),\n",
              "// where there are multiple asynchronous steps and the Python side is going\n",
              "// to poll for completion of each step.\n",
              "// This uses a Promise to block the python side on completion of each step,\n",
              "// then passes the result of the previous step as the input to the next step.\n",
              "function _uploadFilesContinue(outputId) {\n",
              "  const outputElement = document.getElementById(outputId);\n",
              "  const steps = outputElement.steps;\n",
              "\n",
              "  const next = steps.next(outputElement.lastPromiseValue);\n",
              "  return Promise.resolve(next.value.promise).then((value) => {\n",
              "    // Cache the last promise value to make it available to the next\n",
              "    // step of the generator.\n",
              "    outputElement.lastPromiseValue = value;\n",
              "    return next.value.response;\n",
              "  });\n",
              "}\n",
              "\n",
              "/**\n",
              " * Generator function which is called between each async step of the upload\n",
              " * process.\n",
              " * @param {string} inputId Element ID of the input file picker element.\n",
              " * @param {string} outputId Element ID of the output display.\n",
              " * @return {!Iterable<!Object>} Iterable of next steps.\n",
              " */\n",
              "function* uploadFilesStep(inputId, outputId) {\n",
              "  const inputElement = document.getElementById(inputId);\n",
              "  inputElement.disabled = false;\n",
              "\n",
              "  const outputElement = document.getElementById(outputId);\n",
              "  outputElement.innerHTML = '';\n",
              "\n",
              "  const pickedPromise = new Promise((resolve) => {\n",
              "    inputElement.addEventListener('change', (e) => {\n",
              "      resolve(e.target.files);\n",
              "    });\n",
              "  });\n",
              "\n",
              "  const cancel = document.createElement('button');\n",
              "  inputElement.parentElement.appendChild(cancel);\n",
              "  cancel.textContent = 'Cancel upload';\n",
              "  const cancelPromise = new Promise((resolve) => {\n",
              "    cancel.onclick = () => {\n",
              "      resolve(null);\n",
              "    };\n",
              "  });\n",
              "\n",
              "  // Wait for the user to pick the files.\n",
              "  const files = yield {\n",
              "    promise: Promise.race([pickedPromise, cancelPromise]),\n",
              "    response: {\n",
              "      action: 'starting',\n",
              "    }\n",
              "  };\n",
              "\n",
              "  cancel.remove();\n",
              "\n",
              "  // Disable the input element since further picks are not allowed.\n",
              "  inputElement.disabled = true;\n",
              "\n",
              "  if (!files) {\n",
              "    return {\n",
              "      response: {\n",
              "        action: 'complete',\n",
              "      }\n",
              "    };\n",
              "  }\n",
              "\n",
              "  for (const file of files) {\n",
              "    const li = document.createElement('li');\n",
              "    li.append(span(file.name, {fontWeight: 'bold'}));\n",
              "    li.append(span(\n",
              "        `(${file.type || 'n/a'}) - ${file.size} bytes, ` +\n",
              "        `last modified: ${\n",
              "            file.lastModifiedDate ? file.lastModifiedDate.toLocaleDateString() :\n",
              "                                    'n/a'} - `));\n",
              "    const percent = span('0% done');\n",
              "    li.appendChild(percent);\n",
              "\n",
              "    outputElement.appendChild(li);\n",
              "\n",
              "    const fileDataPromise = new Promise((resolve) => {\n",
              "      const reader = new FileReader();\n",
              "      reader.onload = (e) => {\n",
              "        resolve(e.target.result);\n",
              "      };\n",
              "      reader.readAsArrayBuffer(file);\n",
              "    });\n",
              "    // Wait for the data to be ready.\n",
              "    let fileData = yield {\n",
              "      promise: fileDataPromise,\n",
              "      response: {\n",
              "        action: 'continue',\n",
              "      }\n",
              "    };\n",
              "\n",
              "    // Use a chunked sending to avoid message size limits. See b/62115660.\n",
              "    let position = 0;\n",
              "    do {\n",
              "      const length = Math.min(fileData.byteLength - position, MAX_PAYLOAD_SIZE);\n",
              "      const chunk = new Uint8Array(fileData, position, length);\n",
              "      position += length;\n",
              "\n",
              "      const base64 = btoa(String.fromCharCode.apply(null, chunk));\n",
              "      yield {\n",
              "        response: {\n",
              "          action: 'append',\n",
              "          file: file.name,\n",
              "          data: base64,\n",
              "        },\n",
              "      };\n",
              "\n",
              "      let percentDone = fileData.byteLength === 0 ?\n",
              "          100 :\n",
              "          Math.round((position / fileData.byteLength) * 100);\n",
              "      percent.textContent = `${percentDone}% done`;\n",
              "\n",
              "    } while (position < fileData.byteLength);\n",
              "  }\n",
              "\n",
              "  // All done.\n",
              "  yield {\n",
              "    response: {\n",
              "      action: 'complete',\n",
              "    }\n",
              "  };\n",
              "}\n",
              "\n",
              "scope.google = scope.google || {};\n",
              "scope.google.colab = scope.google.colab || {};\n",
              "scope.google.colab._files = {\n",
              "  _uploadFiles,\n",
              "  _uploadFilesContinue,\n",
              "};\n",
              "})(self);\n",
              "</script> "
            ]
          },
          "metadata": {}
        },
        {
          "output_type": "stream",
          "name": "stdout",
          "text": [
            "Saving data_aug-20221101T192103Z-001.zip to data_aug-20221101T192103Z-001.zip\n"
          ]
        }
      ]
    },
    {
      "cell_type": "code",
      "execution_count": 3,
      "metadata": {
        "id": "KnJzql-edFlp",
        "colab": {
          "base_uri": "https://localhost:8080/"
        },
        "outputId": "273339df-3824-47a0-8e64-549ba85079fb"
      },
      "outputs": [
        {
          "output_type": "stream",
          "name": "stdout",
          "text": [
            "Archive:  data_aug-20221101T192103Z-001.zip\n",
            "  inflating: data_aug/cat.7305.jpg   \n",
            "  inflating: data_aug/dog.12247.jpg  \n",
            "  inflating: data_aug/dog.306.jpg    \n",
            "  inflating: data_aug/cat.4344.jpg   \n",
            "  inflating: data_aug/cat.1807.jpg   \n",
            "  inflating: data_aug/dog.11833.jpg  \n",
            "  inflating: data_aug/cat.5077.jpg   \n",
            "  inflating: data_aug/dog.10221.jpg  \n",
            "  inflating: data_aug/dog.6503.jpg   \n",
            "  inflating: data_aug/cat.5009.jpg   \n",
            "  inflating: data_aug/cat.7738.jpg   \n",
            "  inflating: data_aug/dog.9719.jpg   \n",
            "  inflating: data_aug/dog.9374.jpg   \n",
            "  inflating: data_aug/cat.10172.jpg  \n",
            "  inflating: data_aug/cat.2482.jpg   \n",
            "  inflating: data_aug/dog.42.jpg     \n",
            "  inflating: data_aug/cat.1021.jpg   \n",
            "  inflating: data_aug/dog.658.jpg    \n",
            "  inflating: data_aug/dog.1989.jpg   \n",
            "  inflating: data_aug/dog.6891.jpg   \n",
            "  inflating: data_aug/dog.301.jpg    \n",
            "  inflating: data_aug/cat.1666.jpg   \n",
            "  inflating: data_aug/dog.4439.jpg   \n",
            "  inflating: data_aug/cat.6706.jpg   \n",
            "  inflating: data_aug/cat.11843.jpg  \n",
            "  inflating: data_aug/cat.12479.jpg  \n",
            "  inflating: data_aug/dog.12181.jpg  \n",
            "  inflating: data_aug/cat.9378.jpg   \n",
            "  inflating: data_aug/cat.4772.jpg   \n",
            "  inflating: data_aug/cat.2098.jpg   \n",
            "  inflating: data_aug/dog.5657.jpg   \n",
            "  inflating: data_aug/cat.12263.jpg  \n",
            "  inflating: data_aug/dog.7487.jpg   \n",
            "  inflating: data_aug/dog.12031.jpg  \n",
            "  inflating: data_aug/dog.2078.jpg   \n",
            "  inflating: data_aug/cat.11946.jpg  \n",
            "  inflating: data_aug/cat.9501.jpg   \n",
            "  inflating: data_aug/dog.11777.jpg  \n",
            "  inflating: data_aug/dog.12399.jpg  \n",
            "  inflating: data_aug/cat.223.jpg    \n",
            "  inflating: data_aug/cat.2749.jpg   \n",
            "  inflating: data_aug/cat.8608.jpg   \n",
            "  inflating: data_aug/dog.6966.jpg   \n",
            "  inflating: data_aug/dog.6892.jpg   \n",
            "  inflating: data_aug/dog.9440.jpg   \n",
            "  inflating: data_aug/dog.1781.jpg   \n",
            "  inflating: data_aug/dog.3048.jpg   \n",
            "  inflating: data_aug/cat.3469.jpg   \n",
            "  inflating: data_aug/cat.4177.jpg   \n",
            "  inflating: data_aug/cat.5005.jpg   \n",
            "  inflating: data_aug/dog.11154.jpg  \n",
            "  inflating: data_aug/cat.6762.jpg   \n",
            "  inflating: data_aug/cat.8309.jpg   \n",
            "  inflating: data_aug/dog.2242.jpg   \n",
            "  inflating: data_aug/dog.699.jpg    \n",
            "  inflating: data_aug/cat.6038.jpg   \n",
            "  inflating: data_aug/cat.11959.jpg  \n",
            "  inflating: data_aug/cat.4071.jpg   \n",
            "  inflating: data_aug/cat.2479.jpg   \n",
            "  inflating: data_aug/cat.225.jpg    \n",
            "  inflating: data_aug/dog.7778.jpg   \n",
            "  inflating: data_aug/cat.9860.jpg   \n",
            "  inflating: data_aug/cat.9499.jpg   \n",
            "  inflating: data_aug/dog.8228.jpg   \n",
            "  inflating: data_aug/cat.11521.jpg  \n",
            "  inflating: data_aug/cat.3543.jpg   \n",
            "  inflating: data_aug/dog.10890.jpg  \n",
            "  inflating: data_aug/dog.11675.jpg  \n",
            "  inflating: data_aug/cat.11535.jpg  \n",
            "  inflating: data_aug/dog.6132.jpg   \n",
            "  inflating: data_aug/cat.4279.jpg   \n",
            "  inflating: data_aug/cat.98.jpg     \n",
            "  inflating: data_aug/dog.8629.jpg   \n",
            "  inflating: data_aug/dog.2092.jpg   \n",
            "  inflating: data_aug/cat.343.jpg    \n",
            "  inflating: data_aug/cat.9239.jpg   \n",
            "  inflating: data_aug/dog.10546.jpg  \n",
            "  inflating: data_aug/dog.12029.jpg  \n",
            "  inflating: data_aug/dog.5920.jpg   \n",
            "  inflating: data_aug/dog.11283.jpg  \n",
            "  inflating: data_aug/cat.119.jpg    \n",
            "  inflating: data_aug/cat.2326.jpg   \n",
            "  inflating: data_aug/dog.2793.jpg   \n",
            "  inflating: data_aug/dog.1687.jpg   \n",
            "  inflating: data_aug/cat.8908.jpg   \n",
            "  inflating: data_aug/cat.10949.jpg  \n",
            "  inflating: data_aug/dog.8715.jpg   \n",
            "  inflating: data_aug/cat.8740.jpg   \n",
            "  inflating: data_aug/cat.4126.jpg   \n",
            "  inflating: data_aug/cat.9890.jpg   \n",
            "  inflating: data_aug/dog.3788.jpg   \n",
            "  inflating: data_aug/dog.91.jpg     \n",
            "  inflating: data_aug/dog.3565.jpg   \n",
            "  inflating: data_aug/cat.1848.jpg   \n",
            "  inflating: data_aug/cat.10195.jpg  \n",
            "  inflating: data_aug/dog.11099.jpg  \n",
            "  inflating: data_aug/dog.6219.jpg   \n",
            "  inflating: data_aug/dog.8296.jpg   \n",
            "  inflating: data_aug/dog.11634.jpg  \n",
            "  inflating: data_aug/dog.9326.jpg   \n"
          ]
        }
      ],
      "source": [
        "# First we should read all the images from the provided directory,\n",
        "# 1. first unzip the .zip file attached with homeworks\n",
        "# 2. read images from directory\n",
        "# 3. create labels array\n",
        "\n",
        "\n",
        "\n",
        "########################\n",
        "! unzip data_aug-20221101T192103Z-001.zip && rm data_aug-20221101T192103Z-001.zip\n",
        "########################\n"
      ]
    },
    {
      "cell_type": "code",
      "source": [
        "images=[]\n",
        "labels=[]\n",
        "for image in os.listdir('data_aug'):\n",
        "  images.append(np.array(Image.open('data_aug/'+str(image)).convert('RGB')))\n",
        "  if (image.endswith(\".jpg\")):\n",
        "      if image.split('.')[0]==\"cat\":\n",
        "        labels.append(0)\n",
        "      if image.split('.')[0]==\"dog\":\n",
        "        labels.append(1)  \n",
        "\n",
        "y_train = np.array(labels)      "
      ],
      "metadata": {
        "id": "hBI0IChR1p2k"
      },
      "execution_count": 139,
      "outputs": []
    },
    {
      "cell_type": "markdown",
      "metadata": {
        "id": "tthIYYGV0Kru"
      },
      "source": [
        "### Prepare Dataset"
      ]
    },
    {
      "cell_type": "code",
      "execution_count": 5,
      "metadata": {
        "id": "AhInWVpUeqI2",
        "colab": {
          "base_uri": "https://localhost:8080/"
        },
        "outputId": "d5d2d8f6-1786-4534-92c8-a6e3c32a8851"
      },
      "outputs": [
        {
          "output_type": "stream",
          "name": "stderr",
          "text": [
            "/usr/local/lib/python3.7/dist-packages/ipykernel_launcher.py:4: VisibleDeprecationWarning: Creating an ndarray from ragged nested sequences (which is a list-or-tuple of lists-or-tuples-or ndarrays with different lengths or shapes) is deprecated. If you meant to do this, you must specify 'dtype=object' when creating the ndarray.\n",
            "  after removing the cwd from sys.path.\n"
          ]
        }
      ],
      "source": [
        "# Normalize your dataset in a way to have a image dataset with pixles in range (0 to 1)\n",
        "\n",
        "########################\n",
        "images = np.array(images)\n",
        "images = np.divide(images,255)\n",
        "########################\n"
      ]
    },
    {
      "cell_type": "code",
      "execution_count": 6,
      "metadata": {
        "id": "WJvVTTO1gwr4"
      },
      "outputs": [],
      "source": [
        "# Resize your images to (28 * 28)\n",
        "########################\n",
        "x_train=[]\n",
        "for x in images:\n",
        "  img_resized = cv2.resize(x, (28, 28))\n",
        "  x_train.append(img_resized)\n",
        "########################\n"
      ]
    },
    {
      "cell_type": "code",
      "execution_count": 7,
      "metadata": {
        "id": "hHAp88v5hjOX"
      },
      "outputs": [],
      "source": [
        "# Flatten your dataset images \n",
        "########################\n",
        "x_train = np.array(x_train)\n",
        "x_train = x_train.flatten().reshape(100, 2352)\n",
        "########################\n"
      ]
    },
    {
      "cell_type": "code",
      "execution_count": 8,
      "metadata": {
        "id": "YC-_5hy7iQy7",
        "colab": {
          "base_uri": "https://localhost:8080/"
        },
        "outputId": "eaf4ea76-11fc-4813-fde2-e399f73e4090"
      },
      "outputs": [
        {
          "output_type": "stream",
          "name": "stdout",
          "text": [
            "(100,)\n",
            "(100, 2352)\n"
          ]
        }
      ],
      "source": [
        "# Check your dataset and labels to be a numpy ndarray of sizes (800, 28 * 28 * 3) and (800, 1) respectively.\n",
        "\n",
        "\n",
        "########################\n",
        "print(y_train.shape)\n",
        "print(x_train.shape)\n",
        "########################"
      ]
    },
    {
      "cell_type": "markdown",
      "metadata": {
        "id": "GLINn6SR0Krw"
      },
      "source": [
        "### Create your Model"
      ]
    },
    {
      "cell_type": "code",
      "execution_count": 9,
      "metadata": {
        "id": "HNmVqiGd0Krx"
      },
      "outputs": [],
      "source": [
        "from tensorflow.keras.models import Sequential\n",
        "from tensorflow.keras.layers import Dense, Activation\n",
        "from tensorflow.keras.optimizers import Adam\n",
        "from tensorflow.keras.losses import BinaryCrossentropy"
      ]
    },
    {
      "cell_type": "code",
      "execution_count": 10,
      "metadata": {
        "id": "h7jhUhSJ0Krx"
      },
      "outputs": [],
      "source": [
        "# create a simple model of Keras MLP with desired number of dense layers and units and activation function\n",
        "# don't forget to shuffle the data\n",
        "# this is a binary classification problem\n",
        "\n",
        "\n",
        "\n",
        "########################\n",
        "model = Sequential()\n",
        "model.add(Dense(512, input_shape=(2352, ), activation='relu'))\n",
        "model.add(Dense(768, activation='relu'))\n",
        "model.add(Dense(10, activation='softmax'))\n",
        "model.add(Dense(1, activation='sigmoid'))\n",
        "########################"
      ]
    },
    {
      "cell_type": "code",
      "execution_count": 11,
      "metadata": {
        "id": "3MrciCZk0Krx"
      },
      "outputs": [],
      "source": [
        "# Split your dataset to test and train with your desired implementation\n",
        "# use sklearn.model_selection.train_test_split\n",
        "\n",
        "\n",
        "########################\n",
        "X_train, X_test, y_train, y_test = train_test_split(x_train, y_train, test_size=0.3)\n",
        "########################"
      ]
    },
    {
      "cell_type": "code",
      "execution_count": 12,
      "metadata": {
        "id": "6FSTP-dH0Kry",
        "colab": {
          "base_uri": "https://localhost:8080/"
        },
        "outputId": "0c88d6f4-3f35-4d05-c075-0109d22a4f6c"
      },
      "outputs": [
        {
          "output_type": "stream",
          "name": "stdout",
          "text": [
            "Epoch 1/40\n",
            "6/6 [==============================] - 1s 48ms/step - loss: 0.7016 - accuracy: 0.4643 - val_loss: 0.7058 - val_accuracy: 0.4286\n",
            "Epoch 2/40\n",
            "6/6 [==============================] - 0s 18ms/step - loss: 0.6956 - accuracy: 0.5000 - val_loss: 0.7055 - val_accuracy: 0.4286\n",
            "Epoch 3/40\n",
            "6/6 [==============================] - 0s 14ms/step - loss: 0.6956 - accuracy: 0.5000 - val_loss: 0.7051 - val_accuracy: 0.4286\n",
            "Epoch 4/40\n",
            "6/6 [==============================] - 0s 16ms/step - loss: 0.6954 - accuracy: 0.5000 - val_loss: 0.7048 - val_accuracy: 0.4286\n",
            "Epoch 5/40\n",
            "6/6 [==============================] - 0s 14ms/step - loss: 0.6952 - accuracy: 0.5000 - val_loss: 0.7044 - val_accuracy: 0.4286\n",
            "Epoch 6/40\n",
            "6/6 [==============================] - 0s 15ms/step - loss: 0.6954 - accuracy: 0.5000 - val_loss: 0.7039 - val_accuracy: 0.4286\n",
            "Epoch 7/40\n",
            "6/6 [==============================] - 0s 14ms/step - loss: 0.6950 - accuracy: 0.5000 - val_loss: 0.7037 - val_accuracy: 0.4286\n",
            "Epoch 8/40\n",
            "6/6 [==============================] - 0s 13ms/step - loss: 0.6950 - accuracy: 0.5000 - val_loss: 0.7034 - val_accuracy: 0.4286\n",
            "Epoch 9/40\n",
            "6/6 [==============================] - 0s 14ms/step - loss: 0.6950 - accuracy: 0.5000 - val_loss: 0.7031 - val_accuracy: 0.4286\n",
            "Epoch 10/40\n",
            "6/6 [==============================] - 0s 13ms/step - loss: 0.6949 - accuracy: 0.5000 - val_loss: 0.7030 - val_accuracy: 0.4286\n",
            "Epoch 11/40\n",
            "6/6 [==============================] - 0s 14ms/step - loss: 0.6948 - accuracy: 0.5000 - val_loss: 0.7027 - val_accuracy: 0.4286\n",
            "Epoch 12/40\n",
            "6/6 [==============================] - 0s 15ms/step - loss: 0.6947 - accuracy: 0.5000 - val_loss: 0.7027 - val_accuracy: 0.4286\n",
            "Epoch 13/40\n",
            "6/6 [==============================] - 0s 14ms/step - loss: 0.6947 - accuracy: 0.5000 - val_loss: 0.7024 - val_accuracy: 0.4286\n",
            "Epoch 14/40\n",
            "6/6 [==============================] - 0s 19ms/step - loss: 0.6946 - accuracy: 0.5000 - val_loss: 0.7023 - val_accuracy: 0.4286\n",
            "Epoch 15/40\n",
            "6/6 [==============================] - 0s 15ms/step - loss: 0.6945 - accuracy: 0.5000 - val_loss: 0.7021 - val_accuracy: 0.4286\n",
            "Epoch 16/40\n",
            "6/6 [==============================] - 0s 13ms/step - loss: 0.6946 - accuracy: 0.5000 - val_loss: 0.7016 - val_accuracy: 0.4286\n",
            "Epoch 17/40\n",
            "6/6 [==============================] - 0s 13ms/step - loss: 0.6944 - accuracy: 0.5000 - val_loss: 0.7014 - val_accuracy: 0.4286\n",
            "Epoch 18/40\n",
            "6/6 [==============================] - 0s 16ms/step - loss: 0.6943 - accuracy: 0.5000 - val_loss: 0.7012 - val_accuracy: 0.4286\n",
            "Epoch 19/40\n",
            "6/6 [==============================] - 0s 14ms/step - loss: 0.6943 - accuracy: 0.5000 - val_loss: 0.7010 - val_accuracy: 0.4286\n",
            "Epoch 20/40\n",
            "6/6 [==============================] - 0s 14ms/step - loss: 0.6943 - accuracy: 0.5000 - val_loss: 0.7009 - val_accuracy: 0.4286\n",
            "Epoch 21/40\n",
            "6/6 [==============================] - 0s 13ms/step - loss: 0.6942 - accuracy: 0.5000 - val_loss: 0.7006 - val_accuracy: 0.4286\n",
            "Epoch 22/40\n",
            "6/6 [==============================] - 0s 14ms/step - loss: 0.6942 - accuracy: 0.5000 - val_loss: 0.7005 - val_accuracy: 0.4286\n",
            "Epoch 23/40\n",
            "6/6 [==============================] - 0s 13ms/step - loss: 0.6941 - accuracy: 0.5000 - val_loss: 0.7003 - val_accuracy: 0.4286\n",
            "Epoch 24/40\n",
            "6/6 [==============================] - 0s 14ms/step - loss: 0.6941 - accuracy: 0.5000 - val_loss: 0.7001 - val_accuracy: 0.4286\n",
            "Epoch 25/40\n",
            "6/6 [==============================] - 0s 17ms/step - loss: 0.6940 - accuracy: 0.5000 - val_loss: 0.7001 - val_accuracy: 0.4286\n",
            "Epoch 26/40\n",
            "6/6 [==============================] - 0s 14ms/step - loss: 0.6940 - accuracy: 0.5000 - val_loss: 0.7000 - val_accuracy: 0.4286\n",
            "Epoch 27/40\n",
            "6/6 [==============================] - 0s 14ms/step - loss: 0.6940 - accuracy: 0.5000 - val_loss: 0.6997 - val_accuracy: 0.4286\n",
            "Epoch 28/40\n",
            "6/6 [==============================] - 0s 19ms/step - loss: 0.6940 - accuracy: 0.5000 - val_loss: 0.6995 - val_accuracy: 0.4286\n",
            "Epoch 29/40\n",
            "6/6 [==============================] - 0s 14ms/step - loss: 0.6939 - accuracy: 0.5000 - val_loss: 0.6994 - val_accuracy: 0.4286\n",
            "Epoch 30/40\n",
            "6/6 [==============================] - 0s 17ms/step - loss: 0.6939 - accuracy: 0.5000 - val_loss: 0.6992 - val_accuracy: 0.4286\n",
            "Epoch 31/40\n",
            "6/6 [==============================] - 0s 14ms/step - loss: 0.6939 - accuracy: 0.5000 - val_loss: 0.6991 - val_accuracy: 0.4286\n",
            "Epoch 32/40\n",
            "6/6 [==============================] - 0s 13ms/step - loss: 0.6939 - accuracy: 0.5000 - val_loss: 0.6989 - val_accuracy: 0.4286\n",
            "Epoch 33/40\n",
            "6/6 [==============================] - 0s 16ms/step - loss: 0.6938 - accuracy: 0.5000 - val_loss: 0.6988 - val_accuracy: 0.4286\n",
            "Epoch 34/40\n",
            "6/6 [==============================] - 0s 14ms/step - loss: 0.6938 - accuracy: 0.5000 - val_loss: 0.6987 - val_accuracy: 0.4286\n",
            "Epoch 35/40\n",
            "6/6 [==============================] - 0s 13ms/step - loss: 0.6937 - accuracy: 0.5000 - val_loss: 0.6986 - val_accuracy: 0.4286\n",
            "Epoch 36/40\n",
            "6/6 [==============================] - 0s 17ms/step - loss: 0.6938 - accuracy: 0.5000 - val_loss: 0.6986 - val_accuracy: 0.4286\n",
            "Epoch 37/40\n",
            "6/6 [==============================] - 0s 16ms/step - loss: 0.6937 - accuracy: 0.5000 - val_loss: 0.6985 - val_accuracy: 0.4286\n",
            "Epoch 38/40\n",
            "6/6 [==============================] - 0s 13ms/step - loss: 0.6937 - accuracy: 0.5000 - val_loss: 0.6984 - val_accuracy: 0.4286\n",
            "Epoch 39/40\n",
            "6/6 [==============================] - 0s 16ms/step - loss: 0.6937 - accuracy: 0.5000 - val_loss: 0.6982 - val_accuracy: 0.4286\n",
            "Epoch 40/40\n",
            "6/6 [==============================] - 0s 13ms/step - loss: 0.6937 - accuracy: 0.5000 - val_loss: 0.6980 - val_accuracy: 0.4286\n"
          ]
        }
      ],
      "source": [
        "# Compile with your desired optimizer and loss function with 'accuracy' as metric\n",
        "# # Don't forget to monitor the overfitting, you should take care of val_accuracy and val_loss\n",
        "\n",
        "########################\n",
        "model.compile(loss='binary_crossentropy', optimizer='adam', metrics=['accuracy'])\n",
        "#\n",
        "# uncomment below and complete the code\n",
        "history = model.fit(X_train, y_train, epochs=40, batch_size=10, validation_split=0.2)\n",
        "########################\n",
        "\n"
      ]
    },
    {
      "cell_type": "markdown",
      "metadata": {
        "id": "IFLoAGMR0Kry"
      },
      "source": [
        "### Plot results"
      ]
    },
    {
      "cell_type": "code",
      "execution_count": 13,
      "metadata": {
        "id": "A42F62gE0Kry",
        "colab": {
          "base_uri": "https://localhost:8080/",
          "height": 545
        },
        "outputId": "8b7dff07-0067-476b-e49e-4dc02746f2d3"
      },
      "outputs": [
        {
          "output_type": "display_data",
          "data": {
            "text/plain": [
              "<Figure size 432x288 with 1 Axes>"
            ],
            "image/png": "[encoded data removed]"
          },
          "metadata": {
            "needs_background": "light"
          }
        },
        {
          "output_type": "display_data",
          "data": {
            "text/plain": [
              "<Figure size 432x288 with 1 Axes>"
            ],
            "image/png": "[encoded data removed]"
          },
          "metadata": {
            "needs_background": "light"
          }
        }
      ],
      "source": [
        "# Plot your data\n",
        "\n",
        "import matplotlib.pyplot as plt\n",
        "acc = history.history['accuracy']\n",
        "val_acc = history.history['val_accuracy']\n",
        "loss = history.history['loss']\n",
        "val_loss = history.history['val_loss']\n",
        "\n",
        "epochs = range(len(acc))\n",
        "\n",
        "plt.plot(epochs, acc, 'r', label='Training accuracy')\n",
        "plt.plot(epochs, val_acc, 'b', label='Validation accuracy')\n",
        "plt.title('Training and validation accuracy')\n",
        "plt.legend()\n",
        "\n",
        "plt.figure()\n",
        "\n",
        "plt.plot(epochs, loss, 'r', label='Training Loss')\n",
        "plt.plot(epochs, val_loss, 'b', label='Validation Loss')\n",
        "plt.title('Training and validation loss')\n",
        "plt.legend()\n",
        "\n",
        "plt.show()"
      ]
    },
    {
      "cell_type": "markdown",
      "metadata": {
        "id": "xiQbU9fj0Kry"
      },
      "source": [
        "### Evaluate results"
      ]
    },
    {
      "cell_type": "code",
      "execution_count": 14,
      "metadata": {
        "id": "H2VXaBgR0Krz",
        "colab": {
          "base_uri": "https://localhost:8080/"
        },
        "outputId": "a4095858-fe10-4acf-a314-ea85f4d7b0ab"
      },
      "outputs": [
        {
          "output_type": "stream",
          "name": "stdout",
          "text": [
            "1/1 [==============================] - 0s 20ms/step - loss: 0.6916 - accuracy: 0.5333\n"
          ]
        },
        {
          "output_type": "execute_result",
          "data": {
            "text/plain": [
              "[0.6915684938430786, 0.5333333611488342]"
            ]
          },
          "metadata": {},
          "execution_count": 14
        }
      ],
      "source": [
        "# Evaluate your model on the test data\n",
        "\n",
        "\n",
        "########################\n",
        "model.evaluate(\n",
        "    x=X_test,\n",
        "    y=y_test,\n",
        ")\n",
        "########################\n"
      ]
    },
    {
      "cell_type": "markdown",
      "metadata": {
        "id": "QmcNhI1t0Krz"
      },
      "source": [
        "# Compare results with and without using agumentation\n",
        "### Now we need to do agumentation to create more images to help us overcome underfitting"
      ]
    },
    {
      "cell_type": "markdown",
      "metadata": {
        "id": "GnHiZ_K90Krz"
      },
      "source": [
        "### Agumentation Methods\n",
        "Here you should do the agumentation methods to produce more images\n"
      ]
    },
    {
      "cell_type": "code",
      "execution_count": 15,
      "metadata": {
        "id": "T6Y6_veDcNwt"
      },
      "outputs": [],
      "source": [
        "# In this cell you need to implement agumentation methods to increase our data\n",
        "# NOTICE! Only use libraries in CV2 or others, DON'T use KERAS and Pytorch!\n",
        "\n",
        "\n",
        "def fill(img, h, w):\n",
        "    ''' \n",
        "    we use this function to resize the shifted image and fill border pixles with different methods\n",
        "    \n",
        "    arguments \n",
        "    input img: a Numpy ndarray from any size of h * w * ch\n",
        "          h: an integer defining the height of target image\n",
        "          w: an integer defining the width of target image\n",
        "    \n",
        "    output: resized and interpolated image \n",
        "\n",
        "    '''\n",
        "        \n",
        "    img = cv2.resize(img, (h, w), cv2.INTER_CUBIC)\n",
        "    return img\n",
        "\n",
        "\n",
        "def horizontal_shift(img, ratio=0.5):\n",
        "\n",
        "    ''' \n",
        "    we use this function to shift the image horizontally with the given ratio\n",
        "    width_target = width_input - ratio * width_input\n",
        "    \n",
        "    Hint: select ratio in range (-ratio to ratio) uniformly, to simulate horizontally shift to right and left with different ratios\n",
        "\n",
        "\n",
        "    arguments \n",
        "    input img: a Numpy ndarray from any size of h * w * ch\n",
        "          ratio: a float number between 0 and 1\n",
        "    \n",
        "    output: resized and interpolated image \n",
        "\n",
        "    '''\n",
        "    \n",
        "    if ratio > 1 or ratio < 0:\n",
        "        print('Value should be less than 1 and greater than 0')\n",
        "        return img\n",
        "    ratio = random.uniform(-ratio, ratio) # you can change this\n",
        "    h, w = img.shape[:2]\n",
        "    to_shift = w*ratio\n",
        "    if ratio > 0:\n",
        "        img = img[:, :int(w-to_shift), :]\n",
        "    if ratio < 0:\n",
        "        img = img[:, int(-1*to_shift):, :]\n",
        "\n",
        "    img = fill(img, h, w) # fill image borders\n",
        "\n",
        "    return img\n"
      ]
    },
    {
      "cell_type": "code",
      "execution_count": 16,
      "metadata": {
        "id": "cmDF6i2kdKli"
      },
      "outputs": [],
      "source": [
        "    \n",
        "def vertical_shift(img, ratio=0.5):\n",
        "\n",
        "    ''' \n",
        "    we use this function to shift the image vertically with the given ratio\n",
        "    width_target = width_input - ratio * width_input\n",
        "    \n",
        "    Hint: select ratio in range (-ratio to ratio) uniformly, to simulate vertically shift to up and down with different ratios\n",
        "\n",
        "\n",
        "    arguments \n",
        "    input img: a Numpy ndarray from any size of h * w * ch\n",
        "          ratio: a float number between 0 and 1\n",
        "    \n",
        "    output: resized and interpolated image \n",
        "\n",
        "    '''\n",
        "\n",
        "    if ratio > 1 or ratio < 0:\n",
        "        print('Value should be less than 1 and greater than 0')\n",
        "        return img\n",
        "    ratio = random.uniform(-ratio, ratio)\n",
        "    h, w = img.shape[:2]\n",
        "    to_shift = h*ratio\n",
        "    if ratio > 0:\n",
        "        img = img[:int(h-to_shift), :, :]\n",
        "    if ratio < 0:\n",
        "        img = img[int(-1*to_shift):, :, :]\n",
        "        \n",
        "    img = fill(img, h, w)\n",
        "\n",
        "    return img\n",
        "\n"
      ]
    },
    {
      "cell_type": "code",
      "execution_count": 17,
      "metadata": {
        "id": "pJ31WDBQdNhz"
      },
      "outputs": [],
      "source": [
        "def brightness(img, low, high):\n",
        "\n",
        "    ''' \n",
        "    we use this function to change the brightness of the image with given high and low values\n",
        "    \n",
        "    Hint: first convert to HSV color domain, Next make your image brighter or darker then convert back to BGR\n",
        "\n",
        "    arguments \n",
        "    input img: a Numpy ndarray from any size of h * w * ch\n",
        "          low:\n",
        "          high:\n",
        "    \n",
        "    output: image with different brightness\n",
        "\n",
        "    '''\n",
        "\n",
        "    value = random.uniform(low, high)\n",
        "    hsv = cv2.cvtColor(img, cv2.COLOR_BGR2HSV)\n",
        "    hsv = np.array(hsv, dtype = np.float64)\n",
        "    hsv[:,:,1] = hsv[:,:,1]*value\n",
        "    hsv[:,:,1][hsv[:,:,1]>255]  = 255\n",
        "    hsv[:,:,2] = hsv[:,:,2]*value \n",
        "    hsv[:,:,2][hsv[:,:,2]>255]  = 255\n",
        "    hsv = np.array(hsv, dtype = np.uint8)\n",
        "    img = cv2.cvtColor(hsv, cv2.COLOR_HSV2BGR)\n",
        "    \n",
        "    return img"
      ]
    },
    {
      "cell_type": "code",
      "execution_count": 18,
      "metadata": {
        "id": "buuw_F7Bdaq-"
      },
      "outputs": [],
      "source": [
        "\n",
        "def zoom(img, value):\n",
        "\n",
        "    ''' \n",
        "    we use this function to zoom the image with given value\n",
        "    \n",
        "    arguments \n",
        "    input img: a Numpy ndarray from any size of h * w * ch\n",
        "          value: an integer number indicating the zoom effect\n",
        "    \n",
        "    output: zoomed image\n",
        "\n",
        "    '''\n",
        "    \n",
        "    if value > 1 or value < 0:\n",
        "        print('Value for zoom should be less than 1 and greater than 0')\n",
        "        return img\n",
        "    value = random.uniform(value, 1)\n",
        "    h, w = img.shape[:2]\n",
        "    h_taken = int(value*h)\n",
        "    w_taken = int(value*w)\n",
        "    h_start = random.randint(0, h-h_taken)\n",
        "    w_start = random.randint(0, w-w_taken)\n",
        "    img = img[h_start:h_start+h_taken, w_start:w_start+w_taken, :]\n",
        "    \n",
        "    img = fill(img, h, w)\n",
        "\n",
        "    return img"
      ]
    },
    {
      "cell_type": "code",
      "execution_count": 19,
      "metadata": {
        "id": "dRQTWQiYde3-"
      },
      "outputs": [],
      "source": [
        "def channel_shift(img, value):\n",
        "\n",
        "    ''' \n",
        "    we use this function to shift color channels to play with colors in the image\n",
        "    \n",
        "    arguments \n",
        "    input img: a Numpy ndarray from any size of h * w * ch\n",
        "          value: an integer number indicating the color change effect\n",
        "    \n",
        "    output: image with changed colors\n",
        "\n",
        "    '''\n",
        "    \n",
        "    value = int(random.uniform(-value, value))\n",
        "    img = img + value\n",
        "    img[:,:,:][img[:,:,:]>255]  = 255\n",
        "    img[:,:,:][img[:,:,:]<0]  = 0\n",
        "    img = img.astype(np.uint8)\n",
        "    \n",
        "    return img"
      ]
    },
    {
      "cell_type": "code",
      "execution_count": 20,
      "metadata": {
        "id": "-8fUbL8odizd"
      },
      "outputs": [],
      "source": [
        "def horizontal_flip(img):\n",
        "\n",
        "    ''' \n",
        "    we use this function to flip the image horizontally\n",
        "\n",
        "    arguments \n",
        "    input img: a Numpy ndarray from any size of h * w * ch\n",
        "    \n",
        "    output: horizontally fliped image\n",
        "\n",
        "    '''\n",
        "\n",
        "    return cv2.flip(img, 1)\n"
      ]
    },
    {
      "cell_type": "code",
      "execution_count": 21,
      "metadata": {
        "id": "_oXvmff4dtd7"
      },
      "outputs": [],
      "source": [
        "def vertical_flip(img):\n",
        "\n",
        "    ''' \n",
        "    we use this function to flip the image vertically\n",
        "    \n",
        "    arguments \n",
        "    input img: a Numpy ndarray from any size of h * w * ch\n",
        "    \n",
        "    output: vertically fliped image\n",
        "\n",
        "    '''\n",
        "    \n",
        "    return cv2.flip(img, 0)\n"
      ]
    },
    {
      "cell_type": "markdown",
      "metadata": {
        "id": "nYMoEoFw0Kr1"
      },
      "source": [
        "### Prepare your dataset"
      ]
    },
    {
      "cell_type": "code",
      "execution_count": 140,
      "metadata": {
        "id": "AiAQnha9dwJ8"
      },
      "outputs": [],
      "source": [
        "# For each image in our dataset run the previous methods and create a new dataset\n",
        "\n",
        "    ########################\n",
        "images1=[]\n",
        "for image in images:\n",
        "    i=fill(image,10,10)\n",
        "    images1.append(i)\n",
        "    ########################\n",
        "\n"
      ]
    },
    {
      "cell_type": "code",
      "source": [
        "images2=[]\n",
        "for image in images:\n",
        "    i=horizontal_shift(image)\n",
        "    images2.append(i)\n",
        "    "
      ],
      "metadata": {
        "id": "LeWaQ4_Gbifu"
      },
      "execution_count": 141,
      "outputs": []
    },
    {
      "cell_type": "code",
      "source": [
        "images3=[]\n",
        "for image in images:\n",
        "    i=vertical_shift(image)\n",
        "    images3.append(i)"
      ],
      "metadata": {
        "id": "7FHlKgGsby6J"
      },
      "execution_count": 142,
      "outputs": []
    },
    {
      "cell_type": "code",
      "source": [
        "images4=[]\n",
        "for image in images:\n",
        "    i=brightness(image.astype('float32'),20,30)\n",
        "    images4.append(i)"
      ],
      "metadata": {
        "id": "Wc27KShmcDBC"
      },
      "execution_count": 143,
      "outputs": []
    },
    {
      "cell_type": "code",
      "source": [
        "images5=[]\n",
        "for image in images:\n",
        "    i=zoom(image,0.5)\n",
        "    images5.append(i)"
      ],
      "metadata": {
        "id": "WiG-AIcgcCyb"
      },
      "execution_count": 144,
      "outputs": []
    },
    {
      "cell_type": "code",
      "source": [
        "images6=[]\n",
        "for image in images:\n",
        "    i=channel_shift(image,10)\n",
        "    images6.append(i)"
      ],
      "metadata": {
        "id": "T7NxfyEkcOeD"
      },
      "execution_count": 145,
      "outputs": []
    },
    {
      "cell_type": "code",
      "source": [
        "images7=[]\n",
        "for image in images:\n",
        "    i=horizontal_flip(image)\n",
        "    images7.append(i)"
      ],
      "metadata": {
        "id": "tHSeRZiGcSsv"
      },
      "execution_count": 146,
      "outputs": []
    },
    {
      "cell_type": "code",
      "source": [
        "images8=[]\n",
        "for image in images:\n",
        "    i=vertical_flip(image)\n",
        "    images8.append(i)\n"
      ],
      "metadata": {
        "id": "3IYNrK_kcWgi"
      },
      "execution_count": 147,
      "outputs": []
    },
    {
      "cell_type": "code",
      "source": [
        "images_aug = list(itertools.chain(images1,images2,images3,images4,images5,images6,images7,images8)) "
      ],
      "metadata": {
        "id": "z-6ce62AdUm2"
      },
      "execution_count": 148,
      "outputs": []
    },
    {
      "cell_type": "code",
      "source": [
        "images_aug = np.array(images_aug)     "
      ],
      "metadata": {
        "colab": {
          "base_uri": "https://localhost:8080/"
        },
        "id": "6tex-Do9e5Fm",
        "outputId": "1a09a629-2d9e-4a66-b373-b9d161a16074"
      },
      "execution_count": 123,
      "outputs": [
        {
          "output_type": "stream",
          "name": "stderr",
          "text": [
            "/usr/local/lib/python3.7/dist-packages/ipykernel_launcher.py:1: VisibleDeprecationWarning: Creating an ndarray from ragged nested sequences (which is a list-or-tuple of lists-or-tuples-or ndarrays with different lengths or shapes) is deprecated. If you meant to do this, you must specify 'dtype=object' when creating the ndarray.\n",
            "  \"\"\"Entry point for launching an IPython kernel.\n"
          ]
        }
      ]
    },
    {
      "cell_type": "code",
      "execution_count": 124,
      "metadata": {
        "id": "INX5G0lfgOz4"
      },
      "outputs": [],
      "source": [
        "\n",
        "# Extend your labels array new size with correct labels maped to each agumented image\n",
        "\n",
        "    ########################\n",
        "labels_aug = list(itertools.chain(labels,labels,labels,labels,labels,labels,labels,labels)) \n",
        "labels_aug = np.array(labels_aug)   \n",
        "    ########################\n"
      ]
    },
    {
      "cell_type": "code",
      "execution_count": 125,
      "metadata": {
        "id": "cGzMr9wx0Kr1"
      },
      "outputs": [],
      "source": [
        "# Normalize your dataset in a way to have a image dataset with pixles in range (0 to 1)\n",
        "\n",
        "########################\n",
        "images_aug = np.divide(images_aug,255)\n",
        "########################\n"
      ]
    },
    {
      "cell_type": "code",
      "execution_count": 126,
      "metadata": {
        "id": "z5yDWLn80Kr1"
      },
      "outputs": [],
      "source": [
        "# Resize your images to (28 * 28)\n",
        "\n",
        "\n",
        "########################\n",
        "x_train_aug=[]\n",
        "for x in images_aug:\n",
        "  img_resized = cv2.resize(x, (28, 28))\n",
        "  x_train_aug.append(img_resized)\n",
        "########################\n"
      ]
    },
    {
      "cell_type": "code",
      "execution_count": 127,
      "metadata": {
        "id": "b2Km9V7M0Kr1"
      },
      "outputs": [],
      "source": [
        "# Flatten your dataset images \n",
        "\n",
        "\n",
        "########################\n",
        "x_train_aug = np.array(x_train_aug)\n",
        "x_train_aug = x_train_aug.flatten().reshape(800, 2352)\n",
        "########################\n"
      ]
    },
    {
      "cell_type": "code",
      "source": [
        "y_train_aug = np.array(labels_aug)      "
      ],
      "metadata": {
        "id": "gkeQxIjfijc2"
      },
      "execution_count": 128,
      "outputs": []
    },
    {
      "cell_type": "code",
      "execution_count": 129,
      "metadata": {
        "id": "0lOBASj50Kr1",
        "colab": {
          "base_uri": "https://localhost:8080/"
        },
        "outputId": "457bdbdd-eee8-427e-b57f-215e7602eba8"
      },
      "outputs": [
        {
          "output_type": "stream",
          "name": "stdout",
          "text": [
            "(800, 2352)\n",
            "(800,)\n"
          ]
        }
      ],
      "source": [
        "# Check your dataset and labels to be a numpy ndarray of sizes (800, 28 * 28 * 3) and (800, 1) respectively.\n",
        "\n",
        "\n",
        "########################\n",
        "print(x_train_aug.shape)\n",
        "print(y_train_aug.shape)\n",
        "########################"
      ]
    },
    {
      "cell_type": "markdown",
      "metadata": {
        "id": "HvNTaOhq0Kr2"
      },
      "source": [
        "### Create your model"
      ]
    },
    {
      "cell_type": "code",
      "execution_count": 130,
      "metadata": {
        "id": "GERRcH9P0Kr2"
      },
      "outputs": [],
      "source": [
        "# create a simple model of Keras MLP with desired number of dense layers and units and activation function\n",
        "# don't forget to shuffle the data\n",
        "# this is a binary classification problem\n",
        "\n",
        "\n",
        "\n",
        "########################\n",
        "model = Sequential()\n",
        "model.add(Dense(512, input_shape=(2352, ), activation='relu'))\n",
        "model.add(Dense(768, activation='relu'))\n",
        "model.add(Dense(10, activation='softmax'))\n",
        "model.add(Dense(1, activation='sigmoid'))\n",
        "########################"
      ]
    },
    {
      "cell_type": "code",
      "execution_count": null,
      "metadata": {
        "id": "azRmsB0l0Kr2"
      },
      "outputs": [],
      "source": [
        "# Split your dataset to test and train with the desired implementation\n",
        "# use sklearn.model_selection.train_test_split\n",
        "\n",
        "\n",
        "########################\n",
        "X_train_aug, X_test_aug, y_train_aug, y_test_aug = train_test_split(x_train_aug, y_train_aug, test_size=0.3)\n",
        "########################"
      ]
    },
    {
      "cell_type": "code",
      "execution_count": 133,
      "metadata": {
        "id": "stcZzU_W0Kr2",
        "colab": {
          "base_uri": "https://localhost:8080/"
        },
        "outputId": "157e70ed-895c-401d-c437-ee68e04a5fa3"
      },
      "outputs": [
        {
          "output_type": "stream",
          "name": "stdout",
          "text": [
            "Epoch 1/40\n",
            "1/1 [==============================] - 1s 1s/step - loss: 0.6945 - accuracy: 0.5000 - val_loss: 0.6983 - val_accuracy: 0.5268\n",
            "Epoch 2/40\n",
            "1/1 [==============================] - 0s 141ms/step - loss: 0.7027 - accuracy: 0.5000 - val_loss: 0.6905 - val_accuracy: 0.5268\n",
            "Epoch 3/40\n",
            "1/1 [==============================] - 0s 147ms/step - loss: 0.6947 - accuracy: 0.5000 - val_loss: 0.6912 - val_accuracy: 0.5268\n",
            "Epoch 4/40\n",
            "1/1 [==============================] - 0s 146ms/step - loss: 0.6948 - accuracy: 0.5000 - val_loss: 0.6912 - val_accuracy: 0.5268\n",
            "Epoch 5/40\n",
            "1/1 [==============================] - 0s 169ms/step - loss: 0.6946 - accuracy: 0.5022 - val_loss: 0.6907 - val_accuracy: 0.5446\n",
            "Epoch 6/40\n",
            "1/1 [==============================] - 0s 164ms/step - loss: 0.6940 - accuracy: 0.5156 - val_loss: 0.6909 - val_accuracy: 0.5446\n",
            "Epoch 7/40\n",
            "1/1 [==============================] - 0s 145ms/step - loss: 0.6932 - accuracy: 0.5089 - val_loss: 0.6943 - val_accuracy: 0.4911\n",
            "Epoch 8/40\n",
            "1/1 [==============================] - 0s 103ms/step - loss: 0.6914 - accuracy: 0.5268 - val_loss: 0.6898 - val_accuracy: 0.5446\n",
            "Epoch 9/40\n",
            "1/1 [==============================] - 0s 105ms/step - loss: 0.6930 - accuracy: 0.5156 - val_loss: 0.6914 - val_accuracy: 0.5268\n",
            "Epoch 10/40\n",
            "1/1 [==============================] - 0s 96ms/step - loss: 0.6940 - accuracy: 0.5089 - val_loss: 0.6917 - val_accuracy: 0.5268\n",
            "Epoch 11/40\n",
            "1/1 [==============================] - 0s 102ms/step - loss: 0.6944 - accuracy: 0.5045 - val_loss: 0.6917 - val_accuracy: 0.5268\n",
            "Epoch 12/40\n",
            "1/1 [==============================] - 0s 96ms/step - loss: 0.6945 - accuracy: 0.5022 - val_loss: 0.6917 - val_accuracy: 0.5268\n",
            "Epoch 13/40\n",
            "1/1 [==============================] - 0s 95ms/step - loss: 0.6945 - accuracy: 0.5045 - val_loss: 0.6917 - val_accuracy: 0.5268\n",
            "Epoch 14/40\n",
            "1/1 [==============================] - 0s 95ms/step - loss: 0.6942 - accuracy: 0.5045 - val_loss: 0.6917 - val_accuracy: 0.5268\n",
            "Epoch 15/40\n",
            "1/1 [==============================] - 0s 93ms/step - loss: 0.6938 - accuracy: 0.5067 - val_loss: 0.6917 - val_accuracy: 0.5268\n",
            "Epoch 16/40\n",
            "1/1 [==============================] - 0s 100ms/step - loss: 0.6931 - accuracy: 0.5089 - val_loss: 0.6914 - val_accuracy: 0.5268\n",
            "Epoch 17/40\n",
            "1/1 [==============================] - 0s 91ms/step - loss: 0.6922 - accuracy: 0.5112 - val_loss: 0.6899 - val_accuracy: 0.5446\n",
            "Epoch 18/40\n",
            "1/1 [==============================] - 0s 92ms/step - loss: 0.6911 - accuracy: 0.5156 - val_loss: 0.6849 - val_accuracy: 0.5536\n",
            "Epoch 19/40\n",
            "1/1 [==============================] - 0s 106ms/step - loss: 0.6900 - accuracy: 0.5156 - val_loss: 0.6865 - val_accuracy: 0.5536\n",
            "Epoch 20/40\n",
            "1/1 [==============================] - 0s 92ms/step - loss: 0.6923 - accuracy: 0.4955 - val_loss: 0.6842 - val_accuracy: 0.5536\n",
            "Epoch 21/40\n",
            "1/1 [==============================] - 0s 91ms/step - loss: 0.6898 - accuracy: 0.5156 - val_loss: 0.6872 - val_accuracy: 0.5536\n",
            "Epoch 22/40\n",
            "1/1 [==============================] - 0s 98ms/step - loss: 0.6900 - accuracy: 0.5156 - val_loss: 0.6900 - val_accuracy: 0.5446\n",
            "Epoch 23/40\n",
            "1/1 [==============================] - 0s 92ms/step - loss: 0.6905 - accuracy: 0.5156 - val_loss: 0.6909 - val_accuracy: 0.5268\n",
            "Epoch 24/40\n",
            "1/1 [==============================] - 0s 95ms/step - loss: 0.6907 - accuracy: 0.5134 - val_loss: 0.6910 - val_accuracy: 0.5268\n",
            "Epoch 25/40\n",
            "1/1 [==============================] - 0s 96ms/step - loss: 0.6906 - accuracy: 0.5134 - val_loss: 0.6907 - val_accuracy: 0.5357\n",
            "Epoch 26/40\n",
            "1/1 [==============================] - 0s 98ms/step - loss: 0.6903 - accuracy: 0.5156 - val_loss: 0.6889 - val_accuracy: 0.5446\n",
            "Epoch 27/40\n",
            "1/1 [==============================] - 0s 90ms/step - loss: 0.6898 - accuracy: 0.5156 - val_loss: 0.6861 - val_accuracy: 0.5536\n",
            "Epoch 28/40\n",
            "1/1 [==============================] - 0s 92ms/step - loss: 0.6894 - accuracy: 0.5156 - val_loss: 0.6847 - val_accuracy: 0.5536\n",
            "Epoch 29/40\n",
            "1/1 [==============================] - 0s 101ms/step - loss: 0.6893 - accuracy: 0.5156 - val_loss: 0.6839 - val_accuracy: 0.5536\n",
            "Epoch 30/40\n",
            "1/1 [==============================] - 0s 105ms/step - loss: 0.6892 - accuracy: 0.5156 - val_loss: 0.6836 - val_accuracy: 0.5536\n",
            "Epoch 31/40\n",
            "1/1 [==============================] - 0s 114ms/step - loss: 0.6892 - accuracy: 0.5156 - val_loss: 0.6840 - val_accuracy: 0.5446\n",
            "Epoch 32/40\n",
            "1/1 [==============================] - 0s 139ms/step - loss: 0.6889 - accuracy: 0.5179 - val_loss: 0.6859 - val_accuracy: 0.5446\n",
            "Epoch 33/40\n",
            "1/1 [==============================] - 0s 152ms/step - loss: 0.6891 - accuracy: 0.5089 - val_loss: 0.6851 - val_accuracy: 0.5446\n",
            "Epoch 34/40\n",
            "1/1 [==============================] - 0s 109ms/step - loss: 0.6885 - accuracy: 0.5156 - val_loss: 0.6839 - val_accuracy: 0.5446\n",
            "Epoch 35/40\n",
            "1/1 [==============================] - 0s 93ms/step - loss: 0.6883 - accuracy: 0.5201 - val_loss: 0.6836 - val_accuracy: 0.5446\n",
            "Epoch 36/40\n",
            "1/1 [==============================] - 0s 97ms/step - loss: 0.6882 - accuracy: 0.5201 - val_loss: 0.6837 - val_accuracy: 0.5446\n",
            "Epoch 37/40\n",
            "1/1 [==============================] - 0s 94ms/step - loss: 0.6879 - accuracy: 0.5201 - val_loss: 0.6842 - val_accuracy: 0.5446\n",
            "Epoch 38/40\n",
            "1/1 [==============================] - 0s 104ms/step - loss: 0.6875 - accuracy: 0.5223 - val_loss: 0.6844 - val_accuracy: 0.5446\n",
            "Epoch 39/40\n",
            "1/1 [==============================] - 0s 90ms/step - loss: 0.6873 - accuracy: 0.5134 - val_loss: 0.6836 - val_accuracy: 0.5446\n",
            "Epoch 40/40\n",
            "1/1 [==============================] - 0s 115ms/step - loss: 0.6868 - accuracy: 0.5223 - val_loss: 0.6829 - val_accuracy: 0.5446\n"
          ]
        }
      ],
      "source": [
        "# Compile your model to introduce loss function optimizer and metrices to monitor accuracy metric and train on the data\n",
        "# Don't forget to monitor the overfitting, you should take care of val_accuracy and val_loss\n",
        "#\n",
        "# uncomment below and complete the code\n",
        "########################\n",
        "model.compile(loss='binary_crossentropy', optimizer='adam', metrics=['accuracy'])\n",
        "\n",
        "#\n",
        "# uncomment below and complete the code\n",
        "history = model.fit(X_train_aug, y_train_aug, epochs=40, batch_size=800, validation_split=0.2)\n",
        "\n",
        "########################\n",
        "\n"
      ]
    },
    {
      "cell_type": "markdown",
      "metadata": {
        "id": "qaf2aeWp0Kr2"
      },
      "source": [
        "### Plot your results"
      ]
    },
    {
      "cell_type": "code",
      "execution_count": 134,
      "metadata": {
        "id": "l_EoB4bO0Kr2",
        "colab": {
          "base_uri": "https://localhost:8080/",
          "height": 545
        },
        "outputId": "afb9de92-f293-44bb-c113-101e9519aef8"
      },
      "outputs": [
        {
          "output_type": "display_data",
          "data": {
            "text/plain": [
              "<Figure size 432x288 with 1 Axes>"
            ],
            "image/png": "[encoded data removed]"
          },
          "metadata": {
            "needs_background": "light"
          }
        },
        {
          "output_type": "display_data",
          "data": {
            "text/plain": [
              "<Figure size 432x288 with 1 Axes>"
            ],
            "image/png": "[encoded data removed]"
          },
          "metadata": {
            "needs_background": "light"
          }
        }
      ],
      "source": [
        "# Plot your data\n",
        "\n",
        "import matplotlib.pyplot as plt\n",
        "acc = history.history['accuracy']\n",
        "val_acc = history.history['val_accuracy']\n",
        "loss = history.history['loss']\n",
        "val_loss = history.history['val_loss']\n",
        "\n",
        "epochs = range(len(acc))\n",
        "\n",
        "plt.plot(epochs, acc, 'r', label='Training accuracy')\n",
        "plt.plot(epochs, val_acc, 'b', label='Validation accuracy')\n",
        "plt.title('Training and validation accuracy')\n",
        "plt.legend()\n",
        "\n",
        "plt.figure()\n",
        "\n",
        "plt.plot(epochs, loss, 'r', label='Training Loss')\n",
        "plt.plot(epochs, val_loss, 'b', label='Validation Loss')\n",
        "plt.title('Training and validation loss')\n",
        "plt.legend()\n",
        "\n",
        "plt.show()"
      ]
    },
    {
      "cell_type": "markdown",
      "metadata": {
        "id": "1yjEeTvc0Kr3"
      },
      "source": [
        "### Evaluate results"
      ]
    },
    {
      "cell_type": "code",
      "execution_count": 136,
      "metadata": {
        "id": "tMDbnKgk0Kr3",
        "colab": {
          "base_uri": "https://localhost:8080/"
        },
        "outputId": "0a1477e6-960a-483f-b1af-318c96e7ba60"
      },
      "outputs": [
        {
          "output_type": "stream",
          "name": "stdout",
          "text": [
            "8/8 [==============================] - 0s 6ms/step - loss: 0.6958 - accuracy: 0.4875\n"
          ]
        },
        {
          "output_type": "execute_result",
          "data": {
            "text/plain": [
              "[0.6958144307136536, 0.48750001192092896]"
            ]
          },
          "metadata": {},
          "execution_count": 136
        }
      ],
      "source": [
        "# Evaluate your model on the test data\n",
        "\n",
        "\n",
        "########################\n",
        "model.evaluate(\n",
        "    x=X_test_aug,\n",
        "    y=y_test_aug,\n",
        ")\n",
        "########################\n"
      ]
    },
    {
      "cell_type": "markdown",
      "metadata": {
        "id": "e3IOuytL0Kr3"
      },
      "source": [
        "# Compare your results with and without using agumentation to see the difference"
      ]
    },
    {
      "cell_type": "markdown",
      "metadata": {
        "id": "HPkV0qiN0Kr3"
      },
      "source": [
        "## Optional Bonus Activity"
      ]
    },
    {
      "cell_type": "code",
      "execution_count": 155,
      "metadata": {
        "id": "VuifPrHPm40L"
      },
      "outputs": [],
      "source": [
        "# Optional\n",
        "\n",
        "# Keras data Augmentation\n",
        "\n",
        "#use the bellow links\n",
        "\n",
        "# https://keras.io/guides/keras_cv/custom_image_augmentations/\n",
        "\n",
        "# https://keras.io/api/preprocessing/image/\n"
      ]
    }
  ],
  "metadata": {
    "colab": {
      "provenance": [],
      "collapsed_sections": [
        "HvNTaOhq0Kr2",
        "qaf2aeWp0Kr2",
        "1yjEeTvc0Kr3"
      ]
    },
    "kernelspec": {
      "display_name": "Python 3.10.4 64-bit",
      "language": "python",
      "name": "python3"
    },
    "language_info": {
      "codemirror_mode": {
        "name": "ipython",
        "version": 3
      },
      "file_extension": ".py",
      "mimetype": "text/x-python",
      "name": "python",
      "nbconvert_exporter": "python",
      "pygments_lexer": "ipython3",
      "version": "3.10.4"
    },
    "vscode": {
      "interpreter": {
        "hash": "4ee546d62f846516ddb8e27534e16a3e95e555642571b21ccffd475d8dbd5c7d"
      }
    }
  },
  "nbformat": 4,
  "nbformat_minor": 0
}