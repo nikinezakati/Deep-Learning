{
  "cells": [
    {
      "cell_type": "code",
      "execution_count": 1,
      "metadata": {
        "id": "02ik9B4YDzpA"
      },
      "outputs": [],
      "source": [
        "import sys\n",
        "import glob\n",
        "import cv2\n",
        "import numpy as np\n",
        "import os\n",
        "\n",
        "from shutil import copytree\n",
        "from shutil import rmtree\n",
        "\n",
        "\n",
        "\n",
        "import pickle\n",
        "import math, re\n",
        "from os import path\n",
        "\n",
        "import tensorflow as tf\n",
        "import tensorflow.keras as keras\n",
        "from keras_preprocessing.image import ImageDataGenerator\n",
        "from tensorflow.keras import layers\n",
        "from tensorflow.keras import Sequential, Model\n",
        "from sklearn.model_selection import train_test_split\n",
        "from tensorflow.keras.callbacks import EarlyStopping, ReduceLROnPlateau, ModelCheckpoint\n",
        "from tensorflow.keras.losses import CategoricalCrossentropy\n",
        "from tensorflow.keras.optimizers import Adamax, RMSprop\n",
        "import matplotlib.pyplot as plt\n",
        "\n",
        "import pandas as pd\n",
        "import random\n",
        "import shutil\n",
        "import pathlib"
      ]
    },
    {
      "cell_type": "markdown",
      "metadata": {
        "id": "k7trQz3vOvt0"
      },
      "source": [
        "## **Data preparation**\n",
        "\n",
        "In this cell you're going to:\n",
        "1.   Read images\n",
        "2.   Preprocess them\n",
        "3.   Create labels from the dirs.\n",
        "\n",
        "Don't forget to create test, val and train sets\n",
        "\n",
        "Split them appropriately\n",
        "\n",
        "If you want to use **ImageDataGenerator** please write your final dataset in a directory\n"
      ]
    },
    {
      "cell_type": "code",
      "execution_count": 2,
      "metadata": {
        "colab": {
          "base_uri": "https://localhost:8080/"
        },
        "id": "zFGaBfCIcgoj",
        "outputId": "e57365bc-e6a0-44ed-967a-0ab613855c6f"
      },
      "outputs": [
        {
          "output_type": "stream",
          "name": "stdout",
          "text": [
            "Mounted at /content/drive/\n"
          ]
        }
      ],
      "source": [
        "import zipfile\n",
        "from google.colab import drive\n",
        "\n",
        "drive.mount('/content/drive/')\n",
        "path = \"/content/drive/My Drive/DeepLearning/HW4/\"\n"
      ]
    },
    {
      "cell_type": "code",
      "execution_count": 18,
      "metadata": {
        "id": "Wvj93O5uOq5Q"
      },
      "outputs": [],
      "source": [
        "#####################################\n",
        "##### Your implementation here ######\n",
        "images = []\n",
        "labels = []\n",
        "for root, dirs, files in os.walk(path + \"dataset_new/\"):\n",
        "    label = os.path.basename(root)\n",
        "    for file_ in files:\n",
        "      full_file_path = os.path.join(root, file_)\n",
        "      img = cv2.imread(full_file_path)\n",
        "      img = cv2.cvtColor(img, cv2.COLOR_BGR2RGB)\n",
        "      s = img.shape\n",
        "      if s[0] < 300 or s[1] < 300:\n",
        "          continue\n",
        "      images.append(img[:300, :300])\n",
        "      labels.append(label)\n",
        "\n",
        "#####################################"
      ]
    },
    {
      "cell_type": "markdown",
      "metadata": {
        "id": "wGRHt1xKQl5I"
      },
      "source": [
        "## **Define global variable**\n",
        "\n",
        "Feel free to change them"
      ]
    },
    {
      "cell_type": "code",
      "execution_count": 4,
      "metadata": {
        "id": "LgKAYMVDQO2r"
      },
      "outputs": [],
      "source": [
        "num_classes = 5\n",
        "EPOCHS = 150\n",
        "BATCH_SIZE = 20\n",
        "\n",
        "BASE_FOLDER = './data/'"
      ]
    },
    {
      "cell_type": "markdown",
      "metadata": {
        "id": "EcK030kfTjlH"
      },
      "source": [
        "## **Create your own CNN model**"
      ]
    },
    {
      "cell_type": "code",
      "execution_count": 5,
      "metadata": {
        "id": "Fd_B3oMsRUWk"
      },
      "outputs": [],
      "source": [
        "def create_cnn_model():\n",
        "  '''\n",
        "  In this function you should create your CNN model and define layers\n",
        "  via Sequential or Functional API\n",
        "  \n",
        "  Feel free to set hyperparameters of model as you desired\n",
        "\n",
        "  Then compile your model and define optimizer ans loss function\n",
        "\n",
        "  Please set your metrices to monitor the accuracy\n",
        "\n",
        "  At the end of the code please print the summary of the model\n",
        "\n",
        "  Arguments:\n",
        "  output: created model\n",
        "  '''\n",
        "  #####################################\n",
        "  ##### Your implementation here ######\n",
        "\n",
        "  model = Sequential([\n",
        "                    layers.Conv2D(16,3,padding='SAME',activation=\"relu\",input_shape=(224,224,3)),\n",
        "                    layers.MaxPooling2D(2),\n",
        "                    layers.Conv2D(32,3,padding='SAME',activation=\"relu\"),\n",
        "                    layers.MaxPooling2D(2),\n",
        "                    layers.Flatten(),\n",
        "                    layers.Dense(64,activation=\"relu\"),\n",
        "                    layers.Dense(5,activation=\"softmax\")])\n",
        "\n",
        "  model.compile(\n",
        "      optimizer='adam',\n",
        "      loss='categorical_crossentropy',\n",
        "      metrics=['accuracy'])\n",
        "\n",
        "  print(model.summary())\n",
        "\n",
        "\n",
        "  #####################################\n",
        "  \n",
        "  return model"
      ]
    },
    {
      "cell_type": "code",
      "execution_count": 6,
      "metadata": {
        "id": "k2mnIG0MSe_4"
      },
      "outputs": [],
      "source": [
        "def create_callbacks():\n",
        "  '''\n",
        "  We prefer use three of the callbacks in the keras API\n",
        "\n",
        "  1. early stopping: take a look at https://keras.io/api/callbacks/early_stopping/\n",
        "  2. reduce_lr: take a look at https://keras.io/api/callbacks/reduce_lr_on_plateau/\n",
        "  3. model_checkpoints: take a look at https://keras.io/api/callbacks/model_checkpoint/\n",
        "\n",
        "  Arguments:\n",
        "    output: a list of callbacks\n",
        "\n",
        "  '''\n",
        "  #####################################\n",
        "  ##### Your implementation here ######  \n",
        "\n",
        "\n",
        "  callback = tf.keras.callbacks.EarlyStopping(monitor='loss', patience=3)\n",
        "  reduce_lr = ReduceLROnPlateau(monitor='val_loss', factor=0.2,\n",
        "                              patience=5, min_lr=0.001)\n",
        "  checkpoint_filepath = path + 'tmp/checkpoint'\n",
        "  model_checkpoint_callback = tf.keras.callbacks.ModelCheckpoint(\n",
        "      filepath=checkpoint_filepath,\n",
        "      save_weights_only=True,\n",
        "      monitor='val_accuracy',\n",
        "      mode='max',\n",
        "      save_best_only=True)\n",
        "\n",
        "  callbacks = [\n",
        "      callback,\n",
        "      reduce_lr,\n",
        "      model_checkpoint_callback\n",
        "  ]\n",
        "\n",
        "\n",
        "  #####################################\n",
        "\n",
        "  return callbacks"
      ]
    },
    {
      "cell_type": "code",
      "execution_count": 7,
      "metadata": {
        "id": "5kDFNRpkS-jg"
      },
      "outputs": [],
      "source": [
        "def train_model_naive_split():\n",
        "  '''\n",
        "  We need to first read our stored data then fit our created model with provided callbacks\n",
        "\n",
        "  For this use the https://www.tensorflow.org/api_docs/python/tf/keras/preprocessing/image/ImageDataGenerator function\n",
        "\n",
        "  You can load your data in a way you feel comfortable and there is no force to use this methods\n",
        "\n",
        "  outputs: The History of the training process\n",
        "  '''\n",
        "  #####################################\n",
        "  ##### Your implementation here ######  \n",
        "\n",
        "  train_datagen = ImageDataGenerator(rotation_range=5,  \n",
        "                                   width_shift_range=0.2,  \n",
        "                                   height_shift_range=0.2, \n",
        "                                   zoom_range=0.2,  \n",
        "                                   horizontal_flip=True,  \n",
        "                                   brightness_range=[0.2,0.8])  \n",
        "  \n",
        "  train_generator = train_datagen.flow_from_directory(directory=path + \"dataset_new/train/\",\n",
        "                                                      target_size=(224, 224),\n",
        "                                                      color_mode=\"rgb\",\n",
        "                                                      batch_size=32,\n",
        "                                                      class_mode=\"categorical\",\n",
        "                                                      shuffle=True,\n",
        "                                                      seed=42)\n",
        "\n",
        "  validation_datagen = ImageDataGenerator(rotation_range=5,  \n",
        "                                   width_shift_range=0.2,  \n",
        "                                   height_shift_range=0.2, \n",
        "                                   zoom_range=0.2,  \n",
        "                                   horizontal_flip=True,  \n",
        "                                   brightness_range=[0.2,0.8])  \n",
        "\n",
        "  validation_generator = validation_datagen.flow_from_directory(directory=path + \"dataset_new/valid/\",\n",
        "                                                                target_size=(224, 224),\n",
        "                                                                color_mode=\"rgb\",\n",
        "                                                                batch_size=32,\n",
        "                                                                class_mode=\"categorical\",\n",
        "                                                                shuffle=True,\n",
        "                                                                seed=42)\n",
        "  model = create_cnn_model()\n",
        "  history =  model.fit_generator(generator=train_generator,\n",
        "                                  validation_data=validation_generator,\n",
        "                                  epochs=10,\n",
        "                                  verbose=2,\n",
        "                                  callbacks=create_callbacks())\n",
        "\n",
        "  #####################################\n",
        "\n",
        "  return history"
      ]
    },
    {
      "cell_type": "code",
      "execution_count": 8,
      "metadata": {
        "id": "MFczBeEqWWnH",
        "colab": {
          "base_uri": "https://localhost:8080/"
        },
        "outputId": "7d0a4861-b257-4de5-bbfd-c504e9ec0097"
      },
      "outputs": [
        {
          "output_type": "stream",
          "name": "stdout",
          "text": [
            "Found 1602 images belonging to 5 classes.\n",
            "Found 256 images belonging to 5 classes.\n",
            "Model: \"sequential\"\n",
            "_________________________________________________________________\n",
            " Layer (type)                Output Shape              Param #   \n",
            "=================================================================\n",
            " conv2d (Conv2D)             (None, 224, 224, 16)      448       \n",
            "                                                                 \n",
            " max_pooling2d (MaxPooling2D  (None, 112, 112, 16)     0         \n",
            " )                                                               \n",
            "                                                                 \n",
            " conv2d_1 (Conv2D)           (None, 112, 112, 32)      4640      \n",
            "                                                                 \n",
            " max_pooling2d_1 (MaxPooling  (None, 56, 56, 32)       0         \n",
            " 2D)                                                             \n",
            "                                                                 \n",
            " flatten (Flatten)           (None, 100352)            0         \n",
            "                                                                 \n",
            " dense (Dense)               (None, 64)                6422592   \n",
            "                                                                 \n",
            " dense_1 (Dense)             (None, 5)                 325       \n",
            "                                                                 \n",
            "=================================================================\n",
            "Total params: 6,428,005\n",
            "Trainable params: 6,428,005\n",
            "Non-trainable params: 0\n",
            "_________________________________________________________________\n",
            "None\n"
          ]
        },
        {
          "output_type": "stream",
          "name": "stderr",
          "text": [
            "<ipython-input-7-a4971888c2ae>:48: UserWarning: `Model.fit_generator` is deprecated and will be removed in a future version. Please use `Model.fit`, which supports generators.\n",
            "  history =  model.fit_generator(generator=train_generator,\n"
          ]
        },
        {
          "output_type": "stream",
          "name": "stdout",
          "text": [
            "Epoch 1/10\n",
            "51/51 - 89s - loss: 194.2782 - accuracy: 0.2141 - val_loss: 1.7483 - val_accuracy: 0.2578 - lr: 0.0010 - 89s/epoch - 2s/step\n",
            "Epoch 2/10\n",
            "51/51 - 92s - loss: 1.6375 - accuracy: 0.2228 - val_loss: 1.6343 - val_accuracy: 0.2148 - lr: 0.0010 - 92s/epoch - 2s/step\n",
            "Epoch 3/10\n",
            "51/51 - 87s - loss: 1.6155 - accuracy: 0.2341 - val_loss: 1.6123 - val_accuracy: 0.2188 - lr: 0.0010 - 87s/epoch - 2s/step\n",
            "Epoch 4/10\n",
            "51/51 - 87s - loss: 1.6010 - accuracy: 0.2422 - val_loss: 1.6415 - val_accuracy: 0.2266 - lr: 0.0010 - 87s/epoch - 2s/step\n",
            "Epoch 5/10\n",
            "51/51 - 87s - loss: 1.5979 - accuracy: 0.2472 - val_loss: 1.6115 - val_accuracy: 0.2031 - lr: 0.0010 - 87s/epoch - 2s/step\n",
            "Epoch 6/10\n",
            "51/51 - 91s - loss: 1.5900 - accuracy: 0.2615 - val_loss: 1.6008 - val_accuracy: 0.2461 - lr: 0.0010 - 91s/epoch - 2s/step\n",
            "Epoch 7/10\n",
            "51/51 - 87s - loss: 1.5870 - accuracy: 0.2659 - val_loss: 1.6489 - val_accuracy: 0.2461 - lr: 0.0010 - 87s/epoch - 2s/step\n",
            "Epoch 8/10\n",
            "51/51 - 89s - loss: 1.5904 - accuracy: 0.2615 - val_loss: 1.5996 - val_accuracy: 0.2305 - lr: 0.0010 - 89s/epoch - 2s/step\n",
            "Epoch 9/10\n",
            "51/51 - 92s - loss: 1.5829 - accuracy: 0.2722 - val_loss: 1.6256 - val_accuracy: 0.2188 - lr: 0.0010 - 92s/epoch - 2s/step\n",
            "Epoch 10/10\n",
            "51/51 - 87s - loss: 1.5816 - accuracy: 0.2759 - val_loss: 1.6245 - val_accuracy: 0.2305 - lr: 0.0010 - 87s/epoch - 2s/step\n"
          ]
        }
      ],
      "source": [
        "## Train the model\n",
        "\n",
        "history = train_model_naive_split()"
      ]
    },
    {
      "cell_type": "code",
      "execution_count": 9,
      "metadata": {
        "id": "MRtRUeVsWeJR",
        "colab": {
          "base_uri": "https://localhost:8080/",
          "height": 545
        },
        "outputId": "a473e2a3-dbb1-4278-f91a-32f3d6a1248c"
      },
      "outputs": [
        {
          "output_type": "display_data",
          "data": {
            "text/plain": [
              "<Figure size 432x288 with 1 Axes>"
            ],
            "image/png": "[encoded data removed]"
          },
          "metadata": {
            "needs_background": "light"
          }
        },
        {
          "output_type": "display_data",
          "data": {
            "text/plain": [
              "<Figure size 432x288 with 1 Axes>"
            ],
            "image/png": "[encoded data removed]"
          },
          "metadata": {
            "needs_background": "light"
          }
        }
      ],
      "source": [
        "## just run the bellow cell and see the acc and loss plots\n",
        "\n",
        "acc = history.history['accuracy']\n",
        "val_acc = history.history['val_accuracy']\n",
        "loss = history.history['loss']\n",
        "val_loss = history.history['val_loss']\n",
        "\n",
        "epochs = range(len(acc))\n",
        "\n",
        "plt.plot(epochs, acc, 'r', label='Training accuracy')\n",
        "plt.plot(epochs, val_acc, 'b', label='Validation accuracy')\n",
        "plt.title('Training and validation accuracy')\n",
        "plt.legend()\n",
        "\n",
        "plt.figure()\n",
        "\n",
        "plt.plot(epochs, loss, 'r', label='Training Loss')\n",
        "plt.plot(epochs, val_loss, 'b', label='Validation Loss')\n",
        "plt.title('Training and validation loss')\n",
        "plt.legend()\n",
        "\n",
        "plt.show()"
      ]
    },
    {
      "cell_type": "code",
      "execution_count": 10,
      "metadata": {
        "id": "5iEUcT-yWtPl"
      },
      "outputs": [],
      "source": [
        "def load_and_predict(model, path):\n",
        "  '''\n",
        "  This function is used to generate the models predictions on test data\n",
        "\n",
        "  If you loaded your data in other way please change the function to produce your predictions correctly\n",
        "\n",
        "  If not, just run the cell\n",
        "  '''\n",
        "  test_generator = ImageDataGenerator(rescale=1. / 255)\n",
        "\n",
        "  test_iterator = test_generator.flow_from_directory(\n",
        "        path,\n",
        "        target_size=(224, 224),\n",
        "        shuffle=False,\n",
        "        class_mode='categorical',\n",
        "        batch_size=1) \n",
        "\n",
        "  ids = []\n",
        "  for filename in test_iterator.filenames:\n",
        "    print(filename)\n",
        "    ids.append(filename)\n",
        "\n",
        "  predict_result = model.predict(test_iterator, steps=len(test_iterator.filenames))\n",
        "  predictions = []\n",
        "  for index, prediction in enumerate(predict_result):\n",
        "    classes = np.argmax(prediction)\n",
        "    predictions.append([ids[index], classes])\n",
        "  predictions.sort()\n",
        "\n",
        "  return predictions"
      ]
    },
    {
      "cell_type": "code",
      "execution_count": 11,
      "metadata": {
        "id": "JnnoIf87Yrau"
      },
      "outputs": [],
      "source": [
        "def store_prediction(model_path, test_data_path, result_path):\n",
        "  '''\n",
        "  A function to run the load and predict function\n",
        "\n",
        "  just run the cell\n",
        "  '''\n",
        "  model = keras.models.load_model(model_path, compile = True)\n",
        "\n",
        "  predictions = load_and_predict(model, test_data_path)\n",
        "\n",
        "  df = pd.DataFrame(data=predictions, columns=['image_id', 'label'])\n",
        "  df = df.set_index(['image_id'])\n",
        "\n",
        "  print(df.head())\n",
        "  print('Writing submission')\n",
        "  df.to_csv(result_path)"
      ]
    },
    {
      "cell_type": "markdown",
      "metadata": {
        "id": "DzosYT3jaWXY"
      },
      "source": [
        "Here your own CNN model implementation has done"
      ]
    },
    {
      "cell_type": "markdown",
      "metadata": {
        "id": "dmOU1p6KaVaP"
      },
      "source": [
        "## **Transfer learning from a pre-trained model**\n",
        "\n",
        "This implementation is as the same to the previous one except in the model creation and training sections\n",
        "\n",
        "So use the other ones for code simplicity "
      ]
    },
    {
      "cell_type": "code",
      "execution_count": 15,
      "metadata": {
        "id": "0wzy1GJsZ_Zs"
      },
      "outputs": [],
      "source": [
        "def create_cnn_model():\n",
        "  from keras.applications.mobilenet_v2 import MobileNetV2, preprocess_input\n",
        "  '''\n",
        "  In this function you need to implement a cnn model from pre-trained one\n",
        "\n",
        "  We recommand use the MobileNetV2 network\n",
        "\n",
        "  See the bellow link:\n",
        "\n",
        "  https://keras.io/api/applications/mobilenet/\n",
        "\n",
        "  don't forget to fine-tune the last layer\n",
        "\n",
        "  Use the imagenet weights\n",
        "\n",
        "  '''\n",
        "  #####################################\n",
        "  ##### Your implementation here ######    \n",
        "  MobileNetV2 = tf.keras.applications.MobileNetV2(input_shape=(224, 224, 3),\n",
        "                                            alpha=1.0,\n",
        "                                            include_top=False,\n",
        "                                            weights=\"imagenet\",\n",
        "                                            input_tensor=None,\n",
        "                                            pooling=None,\n",
        "                                            classes=5,\n",
        "                                            classifier_activation=\"softmax\")\n",
        "  \n",
        "  model = Sequential()\n",
        "  model.add(MobileNetV2)\n",
        "  model.add(layers.Flatten())\n",
        "  model.add(layers.Dense(5, activation='softmax'))\n",
        "  \n",
        "\n",
        "  model.compile(\n",
        "      optimizer='adam',\n",
        "      loss='categorical_crossentropy',\n",
        "      metrics=['accuracy'])\n",
        "\n",
        "  print(model.summary())\n",
        "\n",
        "  #####################################\n",
        "  return model"
      ]
    },
    {
      "cell_type": "code",
      "execution_count": 16,
      "metadata": {
        "id": "YRGQaUKOdOv3",
        "colab": {
          "base_uri": "https://localhost:8080/",
          "height": 1000
        },
        "outputId": "0a002155-fe01-41a3-b46f-09d4295fd798"
      },
      "outputs": [
        {
          "metadata": {
            "tags": null
          },
          "name": "stdout",
          "output_type": "stream",
          "text": [
            "Found 1602 images belonging to 5 classes.\n",
            "Found 256 images belonging to 5 classes.\n",
            "Downloading data from https://storage.googleapis.com/tensorflow/keras-applications/mobilenet_v2/mobilenet_v2_weights_tf_dim_ordering_tf_kernels_1.0_224_no_top.h5\n",
            "9406464/9406464 [==============================] - 0s 0us/step\n",
            "Model: \"sequential_1\"\n",
            "_________________________________________________________________\n",
            " Layer (type)                Output Shape              Param #   \n",
            "=================================================================\n",
            " mobilenetv2_1.00_224 (Funct  (None, 7, 7, 1280)       2257984   \n",
            " ional)                                                          \n",
            "                                                                 \n",
            " flatten_1 (Flatten)         (None, 62720)             0         \n",
            "                                                                 \n",
            " dense_2 (Dense)             (None, 5)                 313605    \n",
            "                                                                 \n",
            "=================================================================\n",
            "Total params: 2,571,589\n",
            "Trainable params: 2,537,477\n",
            "Non-trainable params: 34,112\n",
            "_________________________________________________________________\n",
            "None\n"
          ]
        },
        {
          "metadata": {
            "tags": null
          },
          "name": "stderr",
          "output_type": "stream",
          "text": [
            "<ipython-input-7-a4971888c2ae>:48: UserWarning: `Model.fit_generator` is deprecated and will be removed in a future version. Please use `Model.fit`, which supports generators.\n",
            "  history =  model.fit_generator(generator=train_generator,\n"
          ]
        },
        {
          "metadata": {
            "tags": null
          },
          "name": "stdout",
          "output_type": "stream",
          "text": [
            "Epoch 1/10\n",
            "51/51 - 339s - loss: 2.6919 - accuracy: 0.4426 - val_loss: 89.7354 - val_accuracy: 0.1992 - lr: 0.0010 - 339s/epoch - 7s/step\n",
            "Epoch 2/10\n",
            "51/51 - 327s - loss: 2.5647 - accuracy: 0.4663 - val_loss: 94.8248 - val_accuracy: 0.1953 - lr: 0.0010 - 327s/epoch - 6s/step\n",
            "Epoch 3/10\n",
            "51/51 - 326s - loss: 2.3368 - accuracy: 0.4469 - val_loss: 53.2816 - val_accuracy: 0.1992 - lr: 0.0010 - 326s/epoch - 6s/step\n",
            "Epoch 4/10\n",
            "51/51 - 330s - loss: 2.2894 - accuracy: 0.4288 - val_loss: 73.7778 - val_accuracy: 0.2031 - lr: 0.0010 - 330s/epoch - 6s/step\n",
            "Epoch 5/10\n",
            "51/51 - 332s - loss: 1.5403 - accuracy: 0.5811 - val_loss: 41.6712 - val_accuracy: 0.1953 - lr: 0.0010 - 332s/epoch - 7s/step\n",
            "Epoch 6/10\n",
            "51/51 - 326s - loss: 1.2923 - accuracy: 0.5974 - val_loss: 52.8565 - val_accuracy: 0.1953 - lr: 0.0010 - 326s/epoch - 6s/step\n",
            "Epoch 7/10\n",
            "51/51 - 325s - loss: 2.7393 - accuracy: 0.4607 - val_loss: 83.1831 - val_accuracy: 0.1953 - lr: 0.0010 - 325s/epoch - 6s/step\n",
            "Epoch 8/10\n"
          ]
        },
        {
          "output_type": "error",
          "ename": "KeyboardInterrupt",
          "evalue": "ignored",
          "traceback": [
            "\u001b[0;31m---------------------------------------------------------------------------\u001b[0m",
            "\u001b[0;31mKeyboardInterrupt\u001b[0m                         Traceback (most recent call last)",
            "\u001b[0;32m<ipython-input-16-8230c2954632>\u001b[0m in \u001b[0;36m<module>\u001b[0;34m\u001b[0m\n\u001b[1;32m      1\u001b[0m \u001b[0;31m## train the model but don't forget adapte the hyper-parameters\u001b[0m\u001b[0;34m\u001b[0m\u001b[0;34m\u001b[0m\u001b[0;34m\u001b[0m\u001b[0m\n\u001b[1;32m      2\u001b[0m \u001b[0;34m\u001b[0m\u001b[0m\n\u001b[0;32m----> 3\u001b[0;31m \u001b[0mhistory\u001b[0m\u001b[0;34m=\u001b[0m\u001b[0mtrain_model_naive_split\u001b[0m\u001b[0;34m(\u001b[0m\u001b[0;34m)\u001b[0m\u001b[0;34m\u001b[0m\u001b[0;34m\u001b[0m\u001b[0m\n\u001b[0m",
            "\u001b[0;32m<ipython-input-7-a4971888c2ae>\u001b[0m in \u001b[0;36mtrain_model_naive_split\u001b[0;34m()\u001b[0m\n\u001b[1;32m     46\u001b[0m \u001b[0;34m\u001b[0m\u001b[0m\n\u001b[1;32m     47\u001b[0m \u001b[0;34m\u001b[0m\u001b[0m\n\u001b[0;32m---> 48\u001b[0;31m   history =  model.fit_generator(generator=train_generator,\n\u001b[0m\u001b[1;32m     49\u001b[0m                                   \u001b[0mvalidation_data\u001b[0m\u001b[0;34m=\u001b[0m\u001b[0mvalidation_generator\u001b[0m\u001b[0;34m,\u001b[0m\u001b[0;34m\u001b[0m\u001b[0;34m\u001b[0m\u001b[0m\n\u001b[1;32m     50\u001b[0m                                   \u001b[0mepochs\u001b[0m\u001b[0;34m=\u001b[0m\u001b[0;36m10\u001b[0m\u001b[0;34m,\u001b[0m\u001b[0;34m\u001b[0m\u001b[0;34m\u001b[0m\u001b[0m\n",
            "\u001b[0;32m/usr/local/lib/python3.8/dist-packages/keras/engine/training.py\u001b[0m in \u001b[0;36mfit_generator\u001b[0;34m(self, generator, steps_per_epoch, epochs, verbose, callbacks, validation_data, validation_steps, validation_freq, class_weight, max_queue_size, workers, use_multiprocessing, shuffle, initial_epoch)\u001b[0m\n\u001b[1;32m   2258\u001b[0m         \u001b[0;34m'Please use `Model.fit`, which supports generators.'\u001b[0m\u001b[0;34m,\u001b[0m\u001b[0;34m\u001b[0m\u001b[0;34m\u001b[0m\u001b[0m\n\u001b[1;32m   2259\u001b[0m         stacklevel=2)\n\u001b[0;32m-> 2260\u001b[0;31m     return self.fit(\n\u001b[0m\u001b[1;32m   2261\u001b[0m         \u001b[0mgenerator\u001b[0m\u001b[0;34m,\u001b[0m\u001b[0;34m\u001b[0m\u001b[0;34m\u001b[0m\u001b[0m\n\u001b[1;32m   2262\u001b[0m         \u001b[0msteps_per_epoch\u001b[0m\u001b[0;34m=\u001b[0m\u001b[0msteps_per_epoch\u001b[0m\u001b[0;34m,\u001b[0m\u001b[0;34m\u001b[0m\u001b[0;34m\u001b[0m\u001b[0m\n",
            "\u001b[0;32m/usr/local/lib/python3.8/dist-packages/keras/utils/traceback_utils.py\u001b[0m in \u001b[0;36merror_handler\u001b[0;34m(*args, **kwargs)\u001b[0m\n\u001b[1;32m     62\u001b[0m     \u001b[0mfiltered_tb\u001b[0m \u001b[0;34m=\u001b[0m \u001b[0;32mNone\u001b[0m\u001b[0;34m\u001b[0m\u001b[0;34m\u001b[0m\u001b[0m\n\u001b[1;32m     63\u001b[0m     \u001b[0;32mtry\u001b[0m\u001b[0;34m:\u001b[0m\u001b[0;34m\u001b[0m\u001b[0;34m\u001b[0m\u001b[0m\n\u001b[0;32m---> 64\u001b[0;31m       \u001b[0;32mreturn\u001b[0m \u001b[0mfn\u001b[0m\u001b[0;34m(\u001b[0m\u001b[0;34m*\u001b[0m\u001b[0margs\u001b[0m\u001b[0;34m,\u001b[0m \u001b[0;34m**\u001b[0m\u001b[0mkwargs\u001b[0m\u001b[0;34m)\u001b[0m\u001b[0;34m\u001b[0m\u001b[0;34m\u001b[0m\u001b[0m\n\u001b[0m\u001b[1;32m     65\u001b[0m     \u001b[0;32mexcept\u001b[0m \u001b[0mException\u001b[0m \u001b[0;32mas\u001b[0m \u001b[0me\u001b[0m\u001b[0;34m:\u001b[0m  \u001b[0;31m# pylint: disable=broad-except\u001b[0m\u001b[0;34m\u001b[0m\u001b[0;34m\u001b[0m\u001b[0m\n\u001b[1;32m     66\u001b[0m       \u001b[0mfiltered_tb\u001b[0m \u001b[0;34m=\u001b[0m \u001b[0m_process_traceback_frames\u001b[0m\u001b[0;34m(\u001b[0m\u001b[0me\u001b[0m\u001b[0;34m.\u001b[0m\u001b[0m__traceback__\u001b[0m\u001b[0;34m)\u001b[0m\u001b[0;34m\u001b[0m\u001b[0;34m\u001b[0m\u001b[0m\n",
            "\u001b[0;32m/usr/local/lib/python3.8/dist-packages/keras/engine/training.py\u001b[0m in \u001b[0;36mfit\u001b[0;34m(self, x, y, batch_size, epochs, verbose, callbacks, validation_split, validation_data, shuffle, class_weight, sample_weight, initial_epoch, steps_per_epoch, validation_steps, validation_batch_size, validation_freq, max_queue_size, workers, use_multiprocessing)\u001b[0m\n\u001b[1;32m   1407\u001b[0m                 _r=1):\n\u001b[1;32m   1408\u001b[0m               \u001b[0mcallbacks\u001b[0m\u001b[0;34m.\u001b[0m\u001b[0mon_train_batch_begin\u001b[0m\u001b[0;34m(\u001b[0m\u001b[0mstep\u001b[0m\u001b[0;34m)\u001b[0m\u001b[0;34m\u001b[0m\u001b[0;34m\u001b[0m\u001b[0m\n\u001b[0;32m-> 1409\u001b[0;31m               \u001b[0mtmp_logs\u001b[0m \u001b[0;34m=\u001b[0m \u001b[0mself\u001b[0m\u001b[0;34m.\u001b[0m\u001b[0mtrain_function\u001b[0m\u001b[0;34m(\u001b[0m\u001b[0miterator\u001b[0m\u001b[0;34m)\u001b[0m\u001b[0;34m\u001b[0m\u001b[0;34m\u001b[0m\u001b[0m\n\u001b[0m\u001b[1;32m   1410\u001b[0m               \u001b[0;32mif\u001b[0m \u001b[0mdata_handler\u001b[0m\u001b[0;34m.\u001b[0m\u001b[0mshould_sync\u001b[0m\u001b[0;34m:\u001b[0m\u001b[0;34m\u001b[0m\u001b[0;34m\u001b[0m\u001b[0m\n\u001b[1;32m   1411\u001b[0m                 \u001b[0mcontext\u001b[0m\u001b[0;34m.\u001b[0m\u001b[0masync_wait\u001b[0m\u001b[0;34m(\u001b[0m\u001b[0;34m)\u001b[0m\u001b[0;34m\u001b[0m\u001b[0;34m\u001b[0m\u001b[0m\n",
            "\u001b[0;32m/usr/local/lib/python3.8/dist-packages/tensorflow/python/util/traceback_utils.py\u001b[0m in \u001b[0;36merror_handler\u001b[0;34m(*args, **kwargs)\u001b[0m\n\u001b[1;32m    148\u001b[0m     \u001b[0mfiltered_tb\u001b[0m \u001b[0;34m=\u001b[0m \u001b[0;32mNone\u001b[0m\u001b[0;34m\u001b[0m\u001b[0;34m\u001b[0m\u001b[0m\n\u001b[1;32m    149\u001b[0m     \u001b[0;32mtry\u001b[0m\u001b[0;34m:\u001b[0m\u001b[0;34m\u001b[0m\u001b[0;34m\u001b[0m\u001b[0m\n\u001b[0;32m--> 150\u001b[0;31m       \u001b[0;32mreturn\u001b[0m \u001b[0mfn\u001b[0m\u001b[0;34m(\u001b[0m\u001b[0;34m*\u001b[0m\u001b[0margs\u001b[0m\u001b[0;34m,\u001b[0m \u001b[0;34m**\u001b[0m\u001b[0mkwargs\u001b[0m\u001b[0;34m)\u001b[0m\u001b[0;34m\u001b[0m\u001b[0;34m\u001b[0m\u001b[0m\n\u001b[0m\u001b[1;32m    151\u001b[0m     \u001b[0;32mexcept\u001b[0m \u001b[0mException\u001b[0m \u001b[0;32mas\u001b[0m \u001b[0me\u001b[0m\u001b[0;34m:\u001b[0m\u001b[0;34m\u001b[0m\u001b[0;34m\u001b[0m\u001b[0m\n\u001b[1;32m    152\u001b[0m       \u001b[0mfiltered_tb\u001b[0m \u001b[0;34m=\u001b[0m \u001b[0m_process_traceback_frames\u001b[0m\u001b[0;34m(\u001b[0m\u001b[0me\u001b[0m\u001b[0;34m.\u001b[0m\u001b[0m__traceback__\u001b[0m\u001b[0;34m)\u001b[0m\u001b[0;34m\u001b[0m\u001b[0;34m\u001b[0m\u001b[0m\n",
            "\u001b[0;32m/usr/local/lib/python3.8/dist-packages/tensorflow/python/eager/def_function.py\u001b[0m in \u001b[0;36m__call__\u001b[0;34m(self, *args, **kwds)\u001b[0m\n\u001b[1;32m    913\u001b[0m \u001b[0;34m\u001b[0m\u001b[0m\n\u001b[1;32m    914\u001b[0m       \u001b[0;32mwith\u001b[0m \u001b[0mOptionalXlaContext\u001b[0m\u001b[0;34m(\u001b[0m\u001b[0mself\u001b[0m\u001b[0;34m.\u001b[0m\u001b[0m_jit_compile\u001b[0m\u001b[0;34m)\u001b[0m\u001b[0;34m:\u001b[0m\u001b[0;34m\u001b[0m\u001b[0;34m\u001b[0m\u001b[0m\n\u001b[0;32m--> 915\u001b[0;31m         \u001b[0mresult\u001b[0m \u001b[0;34m=\u001b[0m \u001b[0mself\u001b[0m\u001b[0;34m.\u001b[0m\u001b[0m_call\u001b[0m\u001b[0;34m(\u001b[0m\u001b[0;34m*\u001b[0m\u001b[0margs\u001b[0m\u001b[0;34m,\u001b[0m \u001b[0;34m**\u001b[0m\u001b[0mkwds\u001b[0m\u001b[0;34m)\u001b[0m\u001b[0;34m\u001b[0m\u001b[0;34m\u001b[0m\u001b[0m\n\u001b[0m\u001b[1;32m    916\u001b[0m \u001b[0;34m\u001b[0m\u001b[0m\n\u001b[1;32m    917\u001b[0m       \u001b[0mnew_tracing_count\u001b[0m \u001b[0;34m=\u001b[0m \u001b[0mself\u001b[0m\u001b[0;34m.\u001b[0m\u001b[0mexperimental_get_tracing_count\u001b[0m\u001b[0;34m(\u001b[0m\u001b[0;34m)\u001b[0m\u001b[0;34m\u001b[0m\u001b[0;34m\u001b[0m\u001b[0m\n",
            "\u001b[0;32m/usr/local/lib/python3.8/dist-packages/tensorflow/python/eager/def_function.py\u001b[0m in \u001b[0;36m_call\u001b[0;34m(self, *args, **kwds)\u001b[0m\n\u001b[1;32m    945\u001b[0m       \u001b[0;31m# In this case we have created variables on the first call, so we run the\u001b[0m\u001b[0;34m\u001b[0m\u001b[0;34m\u001b[0m\u001b[0;34m\u001b[0m\u001b[0m\n\u001b[1;32m    946\u001b[0m       \u001b[0;31m# defunned version which is guaranteed to never create variables.\u001b[0m\u001b[0;34m\u001b[0m\u001b[0;34m\u001b[0m\u001b[0;34m\u001b[0m\u001b[0m\n\u001b[0;32m--> 947\u001b[0;31m       \u001b[0;32mreturn\u001b[0m \u001b[0mself\u001b[0m\u001b[0;34m.\u001b[0m\u001b[0m_stateless_fn\u001b[0m\u001b[0;34m(\u001b[0m\u001b[0;34m*\u001b[0m\u001b[0margs\u001b[0m\u001b[0;34m,\u001b[0m \u001b[0;34m**\u001b[0m\u001b[0mkwds\u001b[0m\u001b[0;34m)\u001b[0m  \u001b[0;31m# pylint: disable=not-callable\u001b[0m\u001b[0;34m\u001b[0m\u001b[0;34m\u001b[0m\u001b[0m\n\u001b[0m\u001b[1;32m    948\u001b[0m     \u001b[0;32melif\u001b[0m \u001b[0mself\u001b[0m\u001b[0;34m.\u001b[0m\u001b[0m_stateful_fn\u001b[0m \u001b[0;32mis\u001b[0m \u001b[0;32mnot\u001b[0m \u001b[0;32mNone\u001b[0m\u001b[0;34m:\u001b[0m\u001b[0;34m\u001b[0m\u001b[0;34m\u001b[0m\u001b[0m\n\u001b[1;32m    949\u001b[0m       \u001b[0;31m# Release the lock early so that multiple threads can perform the call\u001b[0m\u001b[0;34m\u001b[0m\u001b[0;34m\u001b[0m\u001b[0;34m\u001b[0m\u001b[0m\n",
            "\u001b[0;32m/usr/local/lib/python3.8/dist-packages/tensorflow/python/eager/function.py\u001b[0m in \u001b[0;36m__call__\u001b[0;34m(self, *args, **kwargs)\u001b[0m\n\u001b[1;32m   2451\u001b[0m       (graph_function,\n\u001b[1;32m   2452\u001b[0m        filtered_flat_args) = self._maybe_define_function(args, kwargs)\n\u001b[0;32m-> 2453\u001b[0;31m     return graph_function._call_flat(\n\u001b[0m\u001b[1;32m   2454\u001b[0m         filtered_flat_args, captured_inputs=graph_function.captured_inputs)  # pylint: disable=protected-access\n\u001b[1;32m   2455\u001b[0m \u001b[0;34m\u001b[0m\u001b[0m\n",
            "\u001b[0;32m/usr/local/lib/python3.8/dist-packages/tensorflow/python/eager/function.py\u001b[0m in \u001b[0;36m_call_flat\u001b[0;34m(self, args, captured_inputs, cancellation_manager)\u001b[0m\n\u001b[1;32m   1858\u001b[0m         and executing_eagerly):\n\u001b[1;32m   1859\u001b[0m       \u001b[0;31m# No tape is watching; skip to running the function.\u001b[0m\u001b[0;34m\u001b[0m\u001b[0;34m\u001b[0m\u001b[0;34m\u001b[0m\u001b[0m\n\u001b[0;32m-> 1860\u001b[0;31m       return self._build_call_outputs(self._inference_function.call(\n\u001b[0m\u001b[1;32m   1861\u001b[0m           ctx, args, cancellation_manager=cancellation_manager))\n\u001b[1;32m   1862\u001b[0m     forward_backward = self._select_forward_and_backward_functions(\n",
            "\u001b[0;32m/usr/local/lib/python3.8/dist-packages/tensorflow/python/eager/function.py\u001b[0m in \u001b[0;36mcall\u001b[0;34m(self, ctx, args, cancellation_manager)\u001b[0m\n\u001b[1;32m    495\u001b[0m       \u001b[0;32mwith\u001b[0m \u001b[0m_InterpolateFunctionError\u001b[0m\u001b[0;34m(\u001b[0m\u001b[0mself\u001b[0m\u001b[0;34m)\u001b[0m\u001b[0;34m:\u001b[0m\u001b[0;34m\u001b[0m\u001b[0;34m\u001b[0m\u001b[0m\n\u001b[1;32m    496\u001b[0m         \u001b[0;32mif\u001b[0m \u001b[0mcancellation_manager\u001b[0m \u001b[0;32mis\u001b[0m \u001b[0;32mNone\u001b[0m\u001b[0;34m:\u001b[0m\u001b[0;34m\u001b[0m\u001b[0;34m\u001b[0m\u001b[0m\n\u001b[0;32m--> 497\u001b[0;31m           outputs = execute.execute(\n\u001b[0m\u001b[1;32m    498\u001b[0m               \u001b[0mstr\u001b[0m\u001b[0;34m(\u001b[0m\u001b[0mself\u001b[0m\u001b[0;34m.\u001b[0m\u001b[0msignature\u001b[0m\u001b[0;34m.\u001b[0m\u001b[0mname\u001b[0m\u001b[0;34m)\u001b[0m\u001b[0;34m,\u001b[0m\u001b[0;34m\u001b[0m\u001b[0;34m\u001b[0m\u001b[0m\n\u001b[1;32m    499\u001b[0m               \u001b[0mnum_outputs\u001b[0m\u001b[0;34m=\u001b[0m\u001b[0mself\u001b[0m\u001b[0;34m.\u001b[0m\u001b[0m_num_outputs\u001b[0m\u001b[0;34m,\u001b[0m\u001b[0;34m\u001b[0m\u001b[0;34m\u001b[0m\u001b[0m\n",
            "\u001b[0;32m/usr/local/lib/python3.8/dist-packages/tensorflow/python/eager/execute.py\u001b[0m in \u001b[0;36mquick_execute\u001b[0;34m(op_name, num_outputs, inputs, attrs, ctx, name)\u001b[0m\n\u001b[1;32m     52\u001b[0m   \u001b[0;32mtry\u001b[0m\u001b[0;34m:\u001b[0m\u001b[0;34m\u001b[0m\u001b[0;34m\u001b[0m\u001b[0m\n\u001b[1;32m     53\u001b[0m     \u001b[0mctx\u001b[0m\u001b[0;34m.\u001b[0m\u001b[0mensure_initialized\u001b[0m\u001b[0;34m(\u001b[0m\u001b[0;34m)\u001b[0m\u001b[0;34m\u001b[0m\u001b[0;34m\u001b[0m\u001b[0m\n\u001b[0;32m---> 54\u001b[0;31m     tensors = pywrap_tfe.TFE_Py_Execute(ctx._handle, device_name, op_name,\n\u001b[0m\u001b[1;32m     55\u001b[0m                                         inputs, attrs, num_outputs)\n\u001b[1;32m     56\u001b[0m   \u001b[0;32mexcept\u001b[0m \u001b[0mcore\u001b[0m\u001b[0;34m.\u001b[0m\u001b[0m_NotOkStatusException\u001b[0m \u001b[0;32mas\u001b[0m \u001b[0me\u001b[0m\u001b[0;34m:\u001b[0m\u001b[0;34m\u001b[0m\u001b[0;34m\u001b[0m\u001b[0m\n",
            "\u001b[0;31mKeyboardInterrupt\u001b[0m: "
          ]
        }
      ],
      "source": [
        "## train the model but don't forget adapte the hyper-parameters\n",
        "\n",
        "history=train_model_naive_split()"
      ]
    },
    {
      "cell_type": "code",
      "execution_count": 17,
      "metadata": {
        "id": "AUNsb1LydmPx",
        "colab": {
          "base_uri": "https://localhost:8080/",
          "height": 545
        },
        "outputId": "2d27ae0d-3da8-4934-9b52-e88fffb58f53"
      },
      "outputs": [
        {
          "output_type": "display_data",
          "data": {
            "text/plain": [
              "<Figure size 432x288 with 1 Axes>"
            ],
            "image/png": "[encoded data removed]"
          },
          "metadata": {
            "needs_background": "light"
          }
        },
        {
          "output_type": "display_data",
          "data": {
            "text/plain": [
              "<Figure size 432x288 with 1 Axes>"
            ],
            "image/png": "[encoded data removed]"
          },
          "metadata": {
            "needs_background": "light"
          }
        }
      ],
      "source": [
        "acc = history.history['accuracy']\n",
        "val_acc = history.history['val_accuracy']\n",
        "loss = history.history['loss']\n",
        "val_loss = history.history['val_loss']\n",
        "\n",
        "epochs = range(len(acc))\n",
        "\n",
        "plt.plot(epochs, acc, 'r', label='Training accuracy')\n",
        "plt.plot(epochs, val_acc, 'b', label='Validation accuracy')\n",
        "plt.title('Training and validation accuracy')\n",
        "plt.legend()\n",
        "\n",
        "plt.figure()\n",
        "\n",
        "plt.plot(epochs, loss, 'r', label='Training Loss')\n",
        "plt.plot(epochs, val_loss, 'b', label='Validation Loss')\n",
        "plt.title('Training and validation loss')\n",
        "plt.legend()\n",
        "\n",
        "plt.show()"
      ]
    },
    {
      "cell_type": "markdown",
      "metadata": {
        "id": "jIKSfy8FQW-H"
      },
      "source": [
        "## **Grad-CAM**\n",
        "For some random images from different classes, show the heatmaps based on the grad-cam algorithm that you have learned."
      ]
    },
    {
      "cell_type": "code",
      "execution_count": null,
      "metadata": {
        "id": "LxEYBbYPQf4R"
      },
      "outputs": [],
      "source": []
    }
  ],
  "metadata": {
    "colab": {
      "provenance": []
    },
    "kernelspec": {
      "display_name": "Python 3",
      "name": "python3"
    },
    "language_info": {
      "name": "python"
    }
  },
  "nbformat": 4,
  "nbformat_minor": 0
}