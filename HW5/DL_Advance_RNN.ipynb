{
  "nbformat": 4,
  "nbformat_minor": 0,
  "metadata": {
    "colab": {
      "provenance": []
    },
    "kernelspec": {
      "name": "python3",
      "display_name": "Python 3"
    },
    "language_info": {
      "name": "python"
    },
    "accelerator": "GPU",
    "gpuClass": "standard"
  },
  "cells": [
    {
      "cell_type": "markdown",
      "source": [
        "# Import"
      ],
      "metadata": {
        "id": "YXGRiWv-Pdh-"
      }
    },
    {
      "cell_type": "code",
      "source": [
        "# this library is used for drawing the charts easily.\n",
        "# use this library to draw your charts in this homework.\n",
        "!pip install -q git+https://github.com/MJAHMADEE/docs"
      ],
      "metadata": {
        "id": "MzgqBP8pjPyS",
        "colab": {
          "base_uri": "https://localhost:8080/"
        },
        "outputId": "e01a20c5-adf4-4f24-c163-bfb449271994"
      },
      "execution_count": 1,
      "outputs": [
        {
          "output_type": "stream",
          "name": "stdout",
          "text": [
            "  Preparing metadata (setup.py) ... \u001b[?25l\u001b[?25hdone\n",
            "  Building wheel for tensorflow-docs (setup.py) ... \u001b[?25l\u001b[?25hdone\n"
          ]
        }
      ]
    },
    {
      "cell_type": "code",
      "execution_count": 25,
      "metadata": {
        "id": "bZXb6-72gjcO"
      },
      "outputs": [],
      "source": [
        "import numpy as np\n",
        "import matplotlib.pyplot as plt\n",
        "import pandas as pd\n",
        "\n",
        "from datetime import datetime, timedelta\n",
        "from sklearn.preprocessing import MinMaxScaler, StandardScaler\n",
        "from sklearn.model_selection import train_test_split\n",
        "from sklearn.utils import shuffle\n",
        "\n",
        "import tensorflow as tf\n",
        "from tensorflow import keras\n",
        "from tensorflow.keras import layers\n",
        "import tensorflow_docs as tfdocs\n",
        "import tensorflow_docs.plots\n",
        "from keras import backend as K\n",
        "from keras.layers import Dense\n",
        "from keras.models import Model"
      ]
    },
    {
      "cell_type": "markdown",
      "source": [
        "# 1.Prepare data"
      ],
      "metadata": {
        "id": "gqeka8hQPh-v"
      }
    },
    {
      "cell_type": "code",
      "source": [
        "# unzip data and load them\n",
        "from google.colab import drive\n",
        "\n",
        "drive.mount('/content/drive/')\n"
      ],
      "metadata": {
        "id": "PrZ_5svyjXgg",
        "colab": {
          "base_uri": "https://localhost:8080/"
        },
        "outputId": "b8d15e4b-61aa-4faf-c184-fd22760091d6"
      },
      "execution_count": 12,
      "outputs": [
        {
          "output_type": "stream",
          "name": "stdout",
          "text": [
            "Drive already mounted at /content/drive/; to attempt to forcibly remount, call drive.mount(\"/content/drive/\", force_remount=True).\n"
          ]
        }
      ]
    },
    {
      "cell_type": "code",
      "source": [
        "! unzip \"/content/drive/My Drive/DeepLearning/HW5/time-series.zip\" "
      ],
      "metadata": {
        "colab": {
          "base_uri": "https://localhost:8080/"
        },
        "id": "eTK-ZXDAK5P9",
        "outputId": "cd4dd1df-1809-4f6c-ca0b-0b5851111441"
      },
      "execution_count": 13,
      "outputs": [
        {
          "output_type": "stream",
          "name": "stdout",
          "text": [
            "Archive:  /content/drive/My Drive/DeepLearning/HW5/time-series.zip\n",
            "  inflating: 4.csv                   \n",
            "  inflating: 5.csv                   \n",
            "  inflating: 6.csv                   \n",
            "  inflating: 7.csv                   \n",
            "  inflating: 8.csv                   \n",
            "  inflating: 9.csv                   \n",
            "  inflating: 10.csv                  \n",
            "  inflating: 11.csv                  \n",
            "  inflating: 12.csv                  \n",
            "  inflating: 13.csv                  \n",
            "  inflating: 14.csv                  \n",
            "  inflating: 15.csv                  \n",
            "  inflating: 16.csv                  \n",
            "  inflating: 17.csv                  \n",
            "  inflating: 18.csv                  \n",
            "  inflating: 19.csv                  \n",
            "  inflating: 20.csv                  \n",
            "  inflating: 21.csv                  \n",
            "  inflating: 22.csv                  \n",
            "  inflating: 23.csv                  \n",
            "  inflating: 24.csv                  \n",
            "  inflating: 25.csv                  \n",
            "  inflating: 26.csv                  \n",
            "  inflating: 27.csv                  \n",
            "  inflating: 28.csv                  \n",
            "  inflating: 29.csv                  \n",
            "  inflating: 30.csv                  \n",
            "  inflating: 31.csv                  \n",
            "  inflating: 32.csv                  \n",
            "  inflating: 33.csv                  \n",
            "  inflating: 34.csv                  \n",
            "  inflating: 35.csv                  \n",
            "  inflating: 36.csv                  \n",
            "  inflating: 37.csv                  \n",
            "  inflating: 38.csv                  \n",
            "  inflating: 39.csv                  \n",
            "  inflating: 40.csv                  \n",
            "  inflating: 41.csv                  \n",
            "  inflating: 42.csv                  \n",
            "  inflating: 43.csv                  \n",
            "  inflating: 44.csv                  \n",
            "  inflating: 45.csv                  \n",
            "  inflating: 46.csv                  \n",
            "  inflating: 47.csv                  \n",
            "  inflating: 48.csv                  \n",
            "  inflating: 49.csv                  \n",
            "  inflating: 50.csv                  \n",
            "  inflating: 51.csv                  \n",
            "  inflating: 52.csv                  \n",
            "  inflating: 53.csv                  \n",
            "  inflating: 54.csv                  \n",
            "  inflating: 55.csv                  \n",
            "  inflating: 56.csv                  \n",
            "  inflating: 57.csv                  \n",
            "  inflating: 58.csv                  \n",
            "  inflating: 59.csv                  \n",
            "  inflating: 60.csv                  \n",
            "  inflating: 61.csv                  \n",
            "  inflating: 62.csv                  \n",
            "  inflating: 63.csv                  \n",
            "  inflating: 64.csv                  \n",
            "  inflating: 65.csv                  \n",
            "  inflating: 66.csv                  \n",
            "  inflating: 67.csv                  \n",
            "  inflating: 68.csv                  \n",
            "  inflating: 69.csv                  \n",
            "  inflating: 70.csv                  \n",
            "  inflating: 71.csv                  \n",
            "  inflating: 72.csv                  \n",
            "  inflating: 73.csv                  \n",
            "  inflating: 74.csv                  \n",
            "  inflating: 75.csv                  \n",
            "  inflating: 76.csv                  \n",
            "  inflating: 77.csv                  \n",
            "  inflating: 78.csv                  \n",
            "  inflating: 79.csv                  \n",
            "  inflating: 80.csv                  \n",
            "  inflating: 0.csv                   \n",
            "  inflating: 1.csv                   \n",
            "  inflating: 2.csv                   \n",
            "  inflating: 3.csv                   \n"
          ]
        }
      ]
    },
    {
      "cell_type": "code",
      "source": [
        "import os\n",
        "\n",
        "datasets = []\n",
        "for sample_file in os.listdir():\n",
        "  if sample_file.endswith(\".csv\"):\n",
        "    datasets.append(pd.read_csv(sample_file))"
      ],
      "metadata": {
        "id": "Y3nmxqKzJaPh"
      },
      "execution_count": 14,
      "outputs": []
    },
    {
      "cell_type": "code",
      "source": [
        "# show chart of 5 dataset(csv file) randomly\n",
        "rands = [1, 17, 32, 63, 76]\n",
        "\n",
        "for idx in rands:\n",
        "  plt.plot(datasets[idx][\"timestamp\"], datasets[idx][\"value\"], label=\"value\")\n",
        "  plt.plot(datasets[idx][\"timestamp\"], datasets[idx][\"label\"], label=\"label\")\n",
        "  plt.legend()\n",
        "  plt.figure()\n"
      ],
      "metadata": {
        "id": "QLJfV4vuwYpq",
        "colab": {
          "base_uri": "https://localhost:8080/",
          "height": 1000
        },
        "outputId": "1a66f11d-4a31-4f6b-d2b9-7b67f468a368"
      },
      "execution_count": 16,
      "outputs": [
        {
          "output_type": "display_data",
          "data": {
            "text/plain": [
              "<Figure size 432x288 with 1 Axes>"
            ],
            "image/png": "[encoded data removed]"
          },
          "metadata": {
            "needs_background": "light"
          }
        },
        {
          "output_type": "display_data",
          "data": {
            "text/plain": [
              "<Figure size 432x288 with 1 Axes>"
            ],
            "image/png": "[encoded data removed]"
          },
          "metadata": {
            "needs_background": "light"
          }
        },
        {
          "output_type": "display_data",
          "data": {
            "text/plain": [
              "<Figure size 432x288 with 1 Axes>"
            ],
            "image/png": "[encoded data removed]"
          },
          "metadata": {
            "needs_background": "light"
          }
        },
        {
          "output_type": "display_data",
          "data": {
            "text/plain": [
              "<Figure size 432x288 with 1 Axes>"
            ],
            "image/png": "[encoded data removed]"
          },
          "metadata": {
            "needs_background": "light"
          }
        },
        {
          "output_type": "display_data",
          "data": {
            "text/plain": [
              "<Figure size 432x288 with 1 Axes>"
            ],
            "image/png": "[encoded data removed]"
          },
          "metadata": {
            "needs_background": "light"
          }
        },
        {
          "output_type": "display_data",
          "data": {
            "text/plain": [
              "<Figure size 432x288 with 0 Axes>"
            ]
          },
          "metadata": {}
        }
      ]
    },
    {
      "cell_type": "code",
      "source": [
        "# split data to train and test\n",
        "df = pd.concat(datasets, ignore_index=True)\n",
        "x = df[\"value\"]\n",
        "x = x.values.reshape(-1, 1, 1)\n",
        "y = df.iloc[:, -1]\n",
        "x_train, x_test, y_train, y_test = train_test_split(x, y, random_state=0)"
      ],
      "metadata": {
        "id": "qLS29lX5whHC"
      },
      "execution_count": 19,
      "outputs": []
    },
    {
      "cell_type": "markdown",
      "source": [
        "# Metric functions"
      ],
      "metadata": {
        "id": "rw90mtkiP-DQ"
      }
    },
    {
      "cell_type": "code",
      "source": [
        "def recall_m(y_true, y_pred):\n",
        "    true_positives = K.sum(K.round(K.clip(y_true * y_pred, 0, 1)))\n",
        "    possible_positives = K.sum(K.round(K.clip(y_true, 0, 1)))\n",
        "    recall = true_positives / (possible_positives + \n",
        "    K.epsilon())\n",
        "    return recall\n",
        "\n",
        "def precision_m(y_true, y_pred):\n",
        "    true_positives = K.sum(K.round(K.clip(y_true * y_pred, 0, 1)))\n",
        "    predicted_positives = K.sum(K.round(K.clip(y_pred, 0, 1)))\n",
        "    precision = true_positives / (predicted_positives + K.epsilon())\n",
        "    return precision\n",
        "\n",
        "def f1_score_m(y_true, y_pred):\n",
        "    precision = precision_m(y_true, y_pred)\n",
        "    recall = recall_m(y_true, y_pred)\n",
        "    return 2*((precision*recall)/(precision+recall+K.epsilon()))"
      ],
      "metadata": {
        "id": "A6PCpO0q8zSL"
      },
      "execution_count": 20,
      "outputs": []
    },
    {
      "cell_type": "markdown",
      "source": [
        "# 3. Create and train 3 RNN model(Simple, LSTM, GRU)"
      ],
      "metadata": {
        "id": "dFcsB8LKwzsT"
      }
    },
    {
      "cell_type": "code",
      "source": [
        "# Simple\n",
        "model = keras.Sequential()\n",
        "model.add(layers.SimpleRNN(64, input_shape=(1, 1)))\n",
        "model.add(Dense(16, activation=\"relu\"))\n",
        "model.add(Dense(1, activation='sigmoid'))\n",
        "\n",
        "model.compile(optimizer='adam',loss='binary_crossentropy', metrics=(f1_score_m))\n",
        "model.fit(\n",
        "    x_train, y_train,\n",
        "    epochs=10,\n",
        "    batch_size=64,\n",
        "    validation_data=(x_test, y_test),\n",
        "    callbacks=keras.callbacks.EarlyStopping(monitor='val_f1_score_m',\n",
        "                                            patience=5,\n",
        "                                            restore_best_weights=True))"
      ],
      "metadata": {
        "id": "Dteq-W5bw_6E",
        "colab": {
          "base_uri": "https://localhost:8080/"
        },
        "outputId": "ceaa403b-089f-403f-c2ca-e9922b388d40"
      },
      "execution_count": 21,
      "outputs": [
        {
          "output_type": "stream",
          "name": "stdout",
          "text": [
            "Epoch 1/10\n",
            "17737/17737 [==============================] - 99s 5ms/step - loss: 0.0792 - f1_score_m: 0.0407 - val_loss: 0.0771 - val_f1_score_m: 0.0878\n",
            "Epoch 2/10\n",
            "17737/17737 [==============================] - 92s 5ms/step - loss: 0.0774 - f1_score_m: 0.0869 - val_loss: 0.0772 - val_f1_score_m: 0.1086\n",
            "Epoch 3/10\n",
            "17737/17737 [==============================] - 91s 5ms/step - loss: 0.0771 - f1_score_m: 0.0896 - val_loss: 0.0765 - val_f1_score_m: 0.0995\n",
            "Epoch 4/10\n",
            "17737/17737 [==============================] - 93s 5ms/step - loss: 0.0769 - f1_score_m: 0.0933 - val_loss: 0.0768 - val_f1_score_m: 0.0748\n",
            "Epoch 5/10\n",
            "17737/17737 [==============================] - 91s 5ms/step - loss: 0.0766 - f1_score_m: 0.0904 - val_loss: 0.0766 - val_f1_score_m: 0.1157\n",
            "Epoch 6/10\n",
            "17737/17737 [==============================] - 93s 5ms/step - loss: 0.0762 - f1_score_m: 0.0937 - val_loss: 0.0762 - val_f1_score_m: 0.0862\n",
            "Epoch 7/10\n",
            "17737/17737 [==============================] - 90s 5ms/step - loss: 0.0757 - f1_score_m: 0.0932 - val_loss: 0.0750 - val_f1_score_m: 0.0856\n",
            "Epoch 8/10\n",
            "17737/17737 [==============================] - 93s 5ms/step - loss: 0.0752 - f1_score_m: 0.0935 - val_loss: 0.0752 - val_f1_score_m: 0.0862\n",
            "Epoch 9/10\n",
            "17737/17737 [==============================] - 82s 5ms/step - loss: 0.0748 - f1_score_m: 0.0952 - val_loss: 0.0750 - val_f1_score_m: 0.0514\n",
            "Epoch 10/10\n",
            "17737/17737 [==============================] - 91s 5ms/step - loss: 0.0747 - f1_score_m: 0.0956 - val_loss: 0.0746 - val_f1_score_m: 0.0996\n"
          ]
        },
        {
          "output_type": "execute_result",
          "data": {
            "text/plain": [
              "<keras.callbacks.History at 0x7ff87c39a040>"
            ]
          },
          "metadata": {},
          "execution_count": 21
        }
      ]
    },
    {
      "cell_type": "code",
      "source": [
        "# LSTM\n",
        "model = keras.Sequential()\n",
        "model.add(layers.LSTM(64, input_shape=(1, 1)))\n",
        "model.add(Dense(16, activation=\"relu\"))\n",
        "model.add(Dense(1, activation='sigmoid'))\n",
        "\n",
        "model.compile(optimizer='adam', loss='binary_crossentropy', metrics=(f1_score_m))\n",
        "model.fit(\n",
        "    x_train, y_train,\n",
        "    epochs=10,\n",
        "    batch_size=64,\n",
        "    validation_data=(x_test, y_test),\n",
        "    callbacks=keras.callbacks.EarlyStopping(monitor='val_f1_score_m',\n",
        "                                            patience=5,\n",
        "                                            restore_best_weights=True))"
      ],
      "metadata": {
        "id": "wPx4uL7IxBwA",
        "colab": {
          "base_uri": "https://localhost:8080/"
        },
        "outputId": "0d865402-23c0-4894-cac8-392f3e49340e"
      },
      "execution_count": 22,
      "outputs": [
        {
          "output_type": "stream",
          "name": "stdout",
          "text": [
            "Epoch 1/10\n",
            "17737/17737 [==============================] - 91s 5ms/step - loss: 0.0764 - f1_score_m: 0.0086 - val_loss: 0.0703 - val_f1_score_m: 0.1057\n",
            "Epoch 2/10\n",
            "17737/17737 [==============================] - 95s 5ms/step - loss: 0.0691 - f1_score_m: 0.0575 - val_loss: 0.0710 - val_f1_score_m: 0.0666\n",
            "Epoch 3/10\n",
            "17737/17737 [==============================] - 93s 5ms/step - loss: 0.0683 - f1_score_m: 0.0780 - val_loss: 0.0690 - val_f1_score_m: 5.0736e-04\n",
            "Epoch 4/10\n",
            "17737/17737 [==============================] - 87s 5ms/step - loss: 0.0679 - f1_score_m: 0.0837 - val_loss: 0.0686 - val_f1_score_m: 0.1041\n",
            "Epoch 5/10\n",
            "17737/17737 [==============================] - 84s 5ms/step - loss: 0.0677 - f1_score_m: 0.0886 - val_loss: 0.0674 - val_f1_score_m: 0.1023\n",
            "Epoch 6/10\n",
            "17737/17737 [==============================] - 86s 5ms/step - loss: 0.0674 - f1_score_m: 0.0885 - val_loss: 0.0677 - val_f1_score_m: 0.0955\n",
            "Epoch 7/10\n",
            "17737/17737 [==============================] - 93s 5ms/step - loss: 0.0672 - f1_score_m: 0.0907 - val_loss: 0.0667 - val_f1_score_m: 0.0835\n",
            "Epoch 8/10\n",
            "17737/17737 [==============================] - 96s 5ms/step - loss: 0.0671 - f1_score_m: 0.0912 - val_loss: 0.0668 - val_f1_score_m: 0.0782\n"
          ]
        },
        {
          "output_type": "execute_result",
          "data": {
            "text/plain": [
              "<keras.callbacks.History at 0x7ff8647da1c0>"
            ]
          },
          "metadata": {},
          "execution_count": 22
        }
      ]
    },
    {
      "cell_type": "code",
      "source": [
        "# GRU\n",
        "model = keras.Sequential()\n",
        "model.add(layers.GRU(64, input_shape=(1, 1)))\n",
        "model.add(Dense(16, activation=\"relu\"))\n",
        "model.add(Dense(1, activation='sigmoid'))\n",
        "\n",
        "model.compile(optimizer='adam', loss='binary_crossentropy', metrics=(f1_score_m))\n",
        "model.fit(\n",
        "    x_train, y_train,\n",
        "    epochs=10,\n",
        "    batch_size=64,\n",
        "    validation_data=(x_test, y_test),\n",
        "    callbacks=keras.callbacks.EarlyStopping(monitor='val_f1_score_m',\n",
        "                                            patience=5,\n",
        "                                            restore_best_weights=True))"
      ],
      "metadata": {
        "id": "T0Br5f3sxDTy",
        "colab": {
          "base_uri": "https://localhost:8080/"
        },
        "outputId": "85c307f4-1d95-445d-e988-219dc0f92607"
      },
      "execution_count": 23,
      "outputs": [
        {
          "output_type": "stream",
          "name": "stdout",
          "text": [
            "Epoch 1/10\n",
            "17737/17737 [==============================] - 95s 5ms/step - loss: 0.0794 - f1_score_m: 0.0255 - val_loss: 0.0761 - val_f1_score_m: 0.0667\n",
            "Epoch 2/10\n",
            "17737/17737 [==============================] - 92s 5ms/step - loss: 0.0754 - f1_score_m: 0.0842 - val_loss: 0.0747 - val_f1_score_m: 0.0892\n",
            "Epoch 3/10\n",
            "17737/17737 [==============================] - 91s 5ms/step - loss: 0.0748 - f1_score_m: 0.0928 - val_loss: 0.0744 - val_f1_score_m: 0.0893\n",
            "Epoch 4/10\n",
            "17737/17737 [==============================] - 85s 5ms/step - loss: 0.0744 - f1_score_m: 0.0943 - val_loss: 0.0742 - val_f1_score_m: 0.0890\n",
            "Epoch 5/10\n",
            "17737/17737 [==============================] - 90s 5ms/step - loss: 0.0742 - f1_score_m: 0.0957 - val_loss: 0.0739 - val_f1_score_m: 0.0997\n",
            "Epoch 6/10\n",
            "17737/17737 [==============================] - 84s 5ms/step - loss: 0.0739 - f1_score_m: 0.0962 - val_loss: 0.0739 - val_f1_score_m: 0.0868\n"
          ]
        },
        {
          "output_type": "execute_result",
          "data": {
            "text/plain": [
              "<keras.callbacks.History at 0x7ff877f489d0>"
            ]
          },
          "metadata": {},
          "execution_count": 23
        }
      ]
    },
    {
      "cell_type": "markdown",
      "source": [
        "# 4. Preprocces data to get better performance"
      ],
      "metadata": {
        "id": "WkfPzfdQxLfr"
      }
    },
    {
      "cell_type": "code",
      "source": [
        "# Preprocces method 1\n",
        "minmax_scaler = MinMaxScaler()\n",
        "x_train = minmax_scaler.fit_transform(x_train.reshape(-1,1)).reshape(-1,1,1)\n",
        "x_test = minmax_scaler.transform(x_test.reshape(-1,1)).reshape(-1,1,1)"
      ],
      "metadata": {
        "id": "4cNmgDBZxS9R"
      },
      "execution_count": 24,
      "outputs": []
    },
    {
      "cell_type": "code",
      "source": [
        "# Preprocces method 2 = StandardScaler\n",
        "standard_scaler = StandardScaler()\n",
        "x_train = standard_scaler.fit_transform(x_train.reshape(-1,1))\n",
        "x_test = standard_scaler.transform(x_test.reshape(-1,1))"
      ],
      "metadata": {
        "id": "hxdMEiV7xXfy"
      },
      "execution_count": 26,
      "outputs": []
    },
    {
      "cell_type": "code",
      "source": [
        "# Train 3 models again\n",
        "# Simple\n",
        "model = keras.Sequential()\n",
        "model.add(layers.SimpleRNN(8, input_shape=(1, 1)))\n",
        "model.add(Dense(64, activation=\"relu\"))\n",
        "model.add(Dense(1, activation='sigmoid'))\n",
        "\n",
        "model.compile(optimizer='adam', loss='binary_crossentropy', metrics=(f1_score_m))\n",
        "model.fit(\n",
        "    x_train, y_train,\n",
        "    epochs=10,\n",
        "    batch_size=64,\n",
        "    validation_data=(x_test, y_test),\n",
        "    callbacks=keras.callbacks.EarlyStopping(monitor='val_f1_score_m',\n",
        "                                            patience=5,\n",
        "                                            restore_best_weights=True))"
      ],
      "metadata": {
        "id": "628Phgs6xaxh",
        "colab": {
          "base_uri": "https://localhost:8080/"
        },
        "outputId": "e39dd2bf-3a84-4635-eebd-04dd963d61bb"
      },
      "execution_count": 27,
      "outputs": [
        {
          "output_type": "stream",
          "name": "stdout",
          "text": [
            "Epoch 1/10\n",
            "17737/17737 [==============================] - 95s 5ms/step - loss: 0.0961 - f1_score_m: 5.3695e-06 - val_loss: 0.0930 - val_f1_score_m: 0.0000e+00\n",
            "Epoch 2/10\n",
            "17737/17737 [==============================] - 82s 5ms/step - loss: 0.0932 - f1_score_m: 0.0000e+00 - val_loss: 0.0926 - val_f1_score_m: 0.0000e+00\n",
            "Epoch 3/10\n",
            "17737/17737 [==============================] - 84s 5ms/step - loss: 0.0927 - f1_score_m: 0.0000e+00 - val_loss: 0.0927 - val_f1_score_m: 0.0000e+00\n",
            "Epoch 4/10\n",
            "17737/17737 [==============================] - 90s 5ms/step - loss: 0.0921 - f1_score_m: 5.6379e-05 - val_loss: 0.0912 - val_f1_score_m: 0.0000e+00\n",
            "Epoch 5/10\n",
            "17737/17737 [==============================] - 86s 5ms/step - loss: 0.0917 - f1_score_m: 6.0138e-05 - val_loss: 0.0910 - val_f1_score_m: 0.0000e+00\n",
            "Epoch 6/10\n",
            "17737/17737 [==============================] - 92s 5ms/step - loss: 0.0916 - f1_score_m: 2.8190e-05 - val_loss: 0.0912 - val_f1_score_m: 0.0000e+00\n"
          ]
        },
        {
          "output_type": "execute_result",
          "data": {
            "text/plain": [
              "<keras.callbacks.History at 0x7ff87727e970>"
            ]
          },
          "metadata": {},
          "execution_count": 27
        }
      ]
    },
    {
      "cell_type": "code",
      "source": [
        "# LSTM\n",
        "model = keras.Sequential()\n",
        "model.add(layers.LSTM(16, input_shape=(1, 1)))\n",
        "model.add(Dense(32, activation=\"relu\"))\n",
        "model.add(Dense(1, activation='sigmoid'))\n",
        "\n",
        "model.compile(optimizer='adam', loss='binary_crossentropy', metrics=(f1_score_m))\n",
        "model.fit(\n",
        "    x_train, y_train,\n",
        "    epochs=15,\n",
        "    batch_size=64,\n",
        "    validation_data=(x_test, y_test),\n",
        "    callbacks=keras.callbacks.EarlyStopping(monitor='val_f1_score_m',\n",
        "                                            patience=7,\n",
        "                                            restore_best_weights=True))"
      ],
      "metadata": {
        "colab": {
          "base_uri": "https://localhost:8080/"
        },
        "id": "wBW-3b3ZhQzM",
        "outputId": "326f0dac-d4cd-49d5-8855-eab89e28e28c"
      },
      "execution_count": 28,
      "outputs": [
        {
          "output_type": "stream",
          "name": "stdout",
          "text": [
            "Epoch 1/15\n",
            "17737/17737 [==============================] - 100s 6ms/step - loss: 0.0967 - f1_score_m: 0.0000e+00 - val_loss: 0.0934 - val_f1_score_m: 0.0000e+00\n",
            "Epoch 2/15\n",
            "17737/17737 [==============================] - 86s 5ms/step - loss: 0.0935 - f1_score_m: 0.0000e+00 - val_loss: 0.0928 - val_f1_score_m: 0.0000e+00\n",
            "Epoch 3/15\n",
            "17737/17737 [==============================] - 97s 5ms/step - loss: 0.0930 - f1_score_m: 0.0000e+00 - val_loss: 0.0926 - val_f1_score_m: 0.0000e+00\n",
            "Epoch 4/15\n",
            "17737/17737 [==============================] - 94s 5ms/step - loss: 0.0927 - f1_score_m: 3.7586e-05 - val_loss: 0.0922 - val_f1_score_m: 8.4559e-05\n",
            "Epoch 5/15\n",
            "17737/17737 [==============================] - 96s 5ms/step - loss: 0.0927 - f1_score_m: 9.3966e-05 - val_loss: 0.0920 - val_f1_score_m: 8.4559e-05\n",
            "Epoch 6/15\n",
            "17737/17737 [==============================] - 86s 5ms/step - loss: 0.0927 - f1_score_m: 9.3966e-05 - val_loss: 0.0921 - val_f1_score_m: 0.0000e+00\n",
            "Epoch 7/15\n",
            "17737/17737 [==============================] - 88s 5ms/step - loss: 0.0927 - f1_score_m: 7.2488e-05 - val_loss: 0.0920 - val_f1_score_m: 8.4559e-05\n",
            "Epoch 8/15\n",
            "17737/17737 [==============================] - 85s 5ms/step - loss: 0.0922 - f1_score_m: 3.7586e-05 - val_loss: 0.0920 - val_f1_score_m: 0.0000e+00\n"
          ]
        },
        {
          "output_type": "execute_result",
          "data": {
            "text/plain": [
              "<keras.callbacks.History at 0x7ff87670b5e0>"
            ]
          },
          "metadata": {},
          "execution_count": 28
        }
      ]
    },
    {
      "cell_type": "code",
      "source": [
        "# GRU\n",
        "model = keras.Sequential()\n",
        "model.add(layers.GRU(16, input_shape=(1, 1)))\n",
        "model.add(Dense(32, activation=\"relu\"))\n",
        "model.add(Dense(1, activation='sigmoid'))\n",
        "\n",
        "model.compile(optimizer='adam', loss='binary_crossentropy', metrics=(f1_score_m))\n",
        "model.fit(\n",
        "    x_train, y_train,\n",
        "    epochs=15,\n",
        "    batch_size=64,\n",
        "    validation_data=(x_test, y_test),\n",
        "    callbacks=keras.callbacks.EarlyStopping(monitor='val_f1_score_m',\n",
        "                                            patience=7,\n",
        "                                            restore_best_weights=True))"
      ],
      "metadata": {
        "colab": {
          "base_uri": "https://localhost:8080/"
        },
        "id": "56ar6itikp-j",
        "outputId": "99725063-e8e3-471b-be47-7570b3bc9fdc"
      },
      "execution_count": 29,
      "outputs": [
        {
          "output_type": "stream",
          "name": "stdout",
          "text": [
            "Epoch 1/15\n",
            "17737/17737 [==============================] - 88s 5ms/step - loss: 0.0972 - f1_score_m: 3.4169e-06 - val_loss: 0.0933 - val_f1_score_m: 0.0000e+00\n",
            "Epoch 2/15\n",
            "17737/17737 [==============================] - 93s 5ms/step - loss: 0.0935 - f1_score_m: 0.0000e+00 - val_loss: 0.0928 - val_f1_score_m: 0.0000e+00\n",
            "Epoch 3/15\n",
            "17737/17737 [==============================] - 91s 5ms/step - loss: 0.0931 - f1_score_m: 0.0000e+00 - val_loss: 0.0923 - val_f1_score_m: 0.0000e+00\n",
            "Epoch 4/15\n",
            "17737/17737 [==============================] - 84s 5ms/step - loss: 0.0926 - f1_score_m: 0.0000e+00 - val_loss: 0.0919 - val_f1_score_m: 0.0000e+00\n",
            "Epoch 5/15\n",
            "17737/17737 [==============================] - 83s 5ms/step - loss: 0.0924 - f1_score_m: 0.0000e+00 - val_loss: 0.0919 - val_f1_score_m: 0.0000e+00\n",
            "Epoch 6/15\n",
            "17737/17737 [==============================] - 83s 5ms/step - loss: 0.0921 - f1_score_m: 1.1276e-04 - val_loss: 0.0916 - val_f1_score_m: 0.0000e+00\n",
            "Epoch 7/15\n",
            "17737/17737 [==============================] - 84s 5ms/step - loss: 0.0918 - f1_score_m: 3.7586e-05 - val_loss: 0.0913 - val_f1_score_m: 0.0000e+00\n",
            "Epoch 8/15\n",
            "17737/17737 [==============================] - 91s 5ms/step - loss: 0.0916 - f1_score_m: 0.0000e+00 - val_loss: 0.0909 - val_f1_score_m: 0.0000e+00\n"
          ]
        },
        {
          "output_type": "execute_result",
          "data": {
            "text/plain": [
              "<keras.callbacks.History at 0x7ff8761b42b0>"
            ]
          },
          "metadata": {},
          "execution_count": 29
        }
      ]
    },
    {
      "cell_type": "markdown",
      "source": [
        "# 6. Train a self supervise model"
      ],
      "metadata": {
        "id": "vwjFRmdfxnPd"
      }
    },
    {
      "cell_type": "code",
      "source": [
        "# compile and train the model\n",
        "model = keras.Sequential()\n",
        "model.add(layers.LSTM(32, input_shape=(1, 1), return_sequences=True))\n",
        "model.add(layers.LSTM(8))\n",
        "model.add(layers.Dense(1))\n",
        "\n",
        "def predict_indicators(datas):\n",
        "    labels = list()\n",
        "    data = list()\n",
        "    for i in range(len(datas) - 1):\n",
        "      tmp = []\n",
        "      for k in range(1):\n",
        "        tmp.append(datas[i+k])\n",
        "      data.append(tmp)\n",
        "      labels.append(datas[i + 1])\n",
        "    return np.array(data).reshape((-1, 1)), np.array(labels)\n",
        "\n",
        "model.compile(optimizer='adam',loss='mse',metrics=(f1_score_m))\n",
        "\n",
        "x_train, y_train = predict_indicators(x_train.flatten())\n",
        "x_test, y_test = predict_indicators(x_test.flatten())\n",
        "\n",
        "model.fit(\n",
        "    x_train, y_train,\n",
        "    epochs=2,\n",
        "    batch_size=64,\n",
        "    validation_data=(x_test, y_test),\n",
        "    callbacks=keras.callbacks.EarlyStopping(monitor='val_f1_score_m',\n",
        "                                            patience=7,\n",
        "                                            restore_best_weights=True))"
      ],
      "metadata": {
        "id": "dVs4Qpxax1TH",
        "colab": {
          "base_uri": "https://localhost:8080/"
        },
        "outputId": "71173625-4828-46d7-f140-6cb29c00fa1e"
      },
      "execution_count": 31,
      "outputs": [
        {
          "output_type": "stream",
          "name": "stdout",
          "text": [
            "Epoch 1/2\n",
            "17737/17737 [==============================] - 116s 6ms/step - loss: 1.0001 - f1_score_m: 0.0042 - val_loss: 0.9009 - val_f1_score_m: 0.0000e+00\n",
            "Epoch 2/2\n",
            "17737/17737 [==============================] - 108s 6ms/step - loss: 1.0001 - f1_score_m: 0.0026 - val_loss: 0.9009 - val_f1_score_m: 0.0000e+00\n"
          ]
        },
        {
          "output_type": "execute_result",
          "data": {
            "text/plain": [
              "<keras.callbacks.History at 0x7ff8763a07f0>"
            ]
          },
          "metadata": {},
          "execution_count": 31
        }
      ]
    },
    {
      "cell_type": "code",
      "source": [
        "# delete last layer of model\n",
        "new_model = tf.keras.Sequential()\n",
        "for layer in model.layers[:-1]: \n",
        "  new_model.add(layer)"
      ],
      "metadata": {
        "id": "3NaBeDjoyAbC"
      },
      "execution_count": 32,
      "outputs": []
    },
    {
      "cell_type": "code",
      "source": [
        "# freeze all remaining layers except the last one\n",
        "for layer in new_model.layers[:-1]:\n",
        "    layer.trainable = False"
      ],
      "metadata": {
        "id": "1oQr4l3ix9SC"
      },
      "execution_count": 33,
      "outputs": []
    },
    {
      "cell_type": "code",
      "source": [
        "# add 2 dence layer to the model\n",
        "new_model.add(Dense(16, activation='relu'))\n",
        "new_model.add(Dense(1, activation='sigmoid'))"
      ],
      "metadata": {
        "id": "HpriTEpgyiuD"
      },
      "execution_count": 34,
      "outputs": []
    },
    {
      "cell_type": "code",
      "source": [
        "# train the main task(anomaly detection)\n",
        "new_model.compile(optimizer='adam', loss='binary_crossentropy', metrics=(f1_score_m))\n",
        "new_model.fit(\n",
        "    x_train, y_train,\n",
        "    epochs=10,\n",
        "    batch_size=64,\n",
        "    validation_data=(x_test, y_test),\n",
        "    callbacks=keras.callbacks.EarlyStopping(monitor='val_f1_score_m',\n",
        "                                            patience=5,\n",
        "                                            restore_best_weights=True))"
      ],
      "metadata": {
        "id": "hmSYGO-hyopy",
        "colab": {
          "base_uri": "https://localhost:8080/"
        },
        "outputId": "a519c27d-e9ec-4ad9-8c7c-6d4125e62b6a"
      },
      "execution_count": 35,
      "outputs": [
        {
          "output_type": "stream",
          "name": "stdout",
          "text": [
            "Epoch 1/10\n",
            "17737/17737 [==============================] - 107s 6ms/step - loss: 0.0113 - f1_score_m: 0.0028 - val_loss: -0.0286 - val_f1_score_m: 0.0000e+00\n",
            "Epoch 2/10\n",
            "17737/17737 [==============================] - 102s 6ms/step - loss: 0.0022 - f1_score_m: 0.0000e+00 - val_loss: -0.0387 - val_f1_score_m: 0.0000e+00\n",
            "Epoch 3/10\n",
            "17737/17737 [==============================] - 103s 6ms/step - loss: 0.0044 - f1_score_m: 0.0000e+00 - val_loss: -0.0457 - val_f1_score_m: 0.0000e+00\n",
            "Epoch 4/10\n",
            "17737/17737 [==============================] - 97s 5ms/step - loss: 0.0045 - f1_score_m: 0.0000e+00 - val_loss: -0.0510 - val_f1_score_m: 0.0000e+00\n",
            "Epoch 5/10\n",
            "17737/17737 [==============================] - 121s 7ms/step - loss: 0.0036 - f1_score_m: 0.0000e+00 - val_loss: -0.0563 - val_f1_score_m: 0.0000e+00\n",
            "Epoch 6/10\n",
            "17737/17737 [==============================] - 108s 6ms/step - loss: 0.0041 - f1_score_m: 0.0000e+00 - val_loss: -0.0590 - val_f1_score_m: 0.0000e+00\n"
          ]
        },
        {
          "output_type": "execute_result",
          "data": {
            "text/plain": [
              "<keras.callbacks.History at 0x7ff8650cb700>"
            ]
          },
          "metadata": {},
          "execution_count": 35
        }
      ]
    },
    {
      "cell_type": "markdown",
      "source": [
        "# 7. Handle unbalanced data problem"
      ],
      "metadata": {
        "id": "bkAIrck-y6SU"
      }
    },
    {
      "cell_type": "code",
      "source": [
        "from sklearn.utils import resample\n",
        "\n",
        "max = df[df[\"label\"] == 0]\n",
        "min = df[df[\"label\"] != 0]\n",
        "\n",
        "max_sampled = resample(max,random_state=42,n_samples=len(min),replace=True)\n",
        "df_upsampled = pd.concat([max_sampled,min])\n",
        "\n",
        "x = df_upsampled[\"value\"]\n",
        "x = x.values.reshape(-1, 1, 1)\n",
        "y = df_upsampled.iloc[:, -1]\n",
        "x_train, x_test, y_train, y_test = train_test_split(x, y, random_state=0)"
      ],
      "metadata": {
        "id": "hVL1QuqyzGuH"
      },
      "execution_count": 36,
      "outputs": []
    },
    {
      "cell_type": "markdown",
      "source": [
        "# 8. Statistical method for anomaly detection"
      ],
      "metadata": {
        "id": "yK5gFpMLzMOa"
      }
    },
    {
      "cell_type": "code",
      "source": [
        "model = keras.Sequential()\n",
        "model.add(layers.GRU(64, input_shape=(1, 1)))\n",
        "model.add(Dense(16, activation=\"relu\"))\n",
        "model.add(Dense(1, activation='sigmoid'))\n",
        "\n",
        "model.compile(optimizer='adam', loss='binary_crossentropy', metrics=(f1_score_m))\n",
        "model.fit(\n",
        "    x_train, y_train,\n",
        "    epochs=10,\n",
        "    batch_size=64,\n",
        "    validation_data=(x_test, y_test),\n",
        "    callbacks=keras.callbacks.EarlyStopping(monitor='val_f1_score_m',\n",
        "                                            patience=5,\n",
        "                                            restore_best_weights=True))"
      ],
      "metadata": {
        "id": "YL8bwNoYzR9k",
        "colab": {
          "base_uri": "https://localhost:8080/"
        },
        "outputId": "e9feb6ed-95dc-4c75-96a1-1b9723dbb6ef"
      },
      "execution_count": 37,
      "outputs": [
        {
          "output_type": "stream",
          "name": "stdout",
          "text": [
            "Epoch 1/10\n",
            "675/675 [==============================] - 5s 5ms/step - loss: 0.5342 - f1_score_m: 0.7506 - val_loss: 0.4748 - val_f1_score_m: 0.7955\n",
            "Epoch 2/10\n",
            "675/675 [==============================] - 3s 5ms/step - loss: 0.4660 - f1_score_m: 0.8024 - val_loss: 0.4472 - val_f1_score_m: 0.8133\n",
            "Epoch 3/10\n",
            "675/675 [==============================] - 3s 5ms/step - loss: 0.4580 - f1_score_m: 0.8084 - val_loss: 0.4467 - val_f1_score_m: 0.8200\n",
            "Epoch 4/10\n",
            "675/675 [==============================] - 3s 5ms/step - loss: 0.4496 - f1_score_m: 0.8123 - val_loss: 0.4402 - val_f1_score_m: 0.8197\n",
            "Epoch 5/10\n",
            "675/675 [==============================] - 3s 5ms/step - loss: 0.4441 - f1_score_m: 0.8149 - val_loss: 0.4404 - val_f1_score_m: 0.8225\n",
            "Epoch 6/10\n",
            "675/675 [==============================] - 3s 5ms/step - loss: 0.4406 - f1_score_m: 0.8154 - val_loss: 0.4310 - val_f1_score_m: 0.8237\n"
          ]
        },
        {
          "output_type": "execute_result",
          "data": {
            "text/plain": [
              "<keras.callbacks.History at 0x7ff85e722400>"
            ]
          },
          "metadata": {},
          "execution_count": 37
        }
      ]
    }
  ]
}