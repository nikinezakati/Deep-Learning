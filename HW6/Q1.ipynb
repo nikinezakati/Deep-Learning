{
  "nbformat": 4,
  "nbformat_minor": 0,
  "metadata": {
    "colab": {
      "provenance": []
    },
    "kernelspec": {
      "name": "python3",
      "display_name": "Python 3"
    },
    "language_info": {
      "name": "python"
    }
  },
  "cells": [
    {
      "cell_type": "markdown",
      "source": [
        "## batch normalization"
      ],
      "metadata": {
        "id": "psJzfyakcT1f"
      }
    },
    {
      "cell_type": "code",
      "source": [
        "import numpy as np"
      ],
      "metadata": {
        "id": "6pWfnZTramlo"
      },
      "execution_count": 23,
      "outputs": []
    },
    {
      "cell_type": "code",
      "execution_count": 24,
      "metadata": {
        "id": "qv7p8j-UabzA"
      },
      "outputs": [],
      "source": [
        "layer = np.array([\n",
        "    [20, 17, 32, 42, 65],\n",
        "    [13, 65, 96, 53, 21],\n",
        "    [45, 63, 74, 38, 64],\n",
        "    [23, 76, 40, 34, 26],\n",
        "    [14, 66, 78, 49, 23]\n",
        "], dtype=np.float32)"
      ]
    },
    {
      "cell_type": "code",
      "source": [
        "output=[]\n",
        "for i in range(0,5):\n",
        "  layer_mean = np.mean(layer[i])\n",
        "  layer_std = np.std(layer[i])\n",
        "  batch_normalization = (layer[i] - layer_mean) / layer_std\n",
        "  output.append(batch_normalization)"
      ],
      "metadata": {
        "id": "kuwS9jQGbHmQ"
      },
      "execution_count": 25,
      "outputs": []
    },
    {
      "cell_type": "code",
      "source": [
        "print(output)"
      ],
      "metadata": {
        "colab": {
          "base_uri": "https://localhost:8080/"
        },
        "id": "UGgr1WpPb77F",
        "outputId": "a371497c-1b09-46f5-f673-38b082650f4f"
      },
      "execution_count": 26,
      "outputs": [
        {
          "output_type": "stream",
          "name": "stdout",
          "text": [
            "[array([-0.87559   , -1.0484039 , -0.18433477,  0.39171126,  1.7166171 ],\n",
            "      dtype=float32), array([-1.2120533 ,  0.50998974,  1.5365924 ,  0.11259517, -0.94712365],\n",
            "      dtype=float32), array([-0.89006555,  0.46766162,  1.2973838 , -1.4180706 ,  0.54309094],\n",
            "      dtype=float32), array([-0.88133436,  1.8990659 ,  0.01049212, -0.30427018, -0.72395325],\n",
            "      dtype=float32), array([-1.3094535 ,  0.8184084 ,  1.3094535 ,  0.12276126, -0.94116974],\n",
            "      dtype=float32)]\n"
          ]
        }
      ]
    },
    {
      "cell_type": "markdown",
      "source": [
        "## layer normalization"
      ],
      "metadata": {
        "id": "iHAD-UG6cXH4"
      }
    },
    {
      "cell_type": "code",
      "source": [
        "new_layer = np.transpose(layer)"
      ],
      "metadata": {
        "id": "WDGrLQqecaiW"
      },
      "execution_count": 28,
      "outputs": []
    },
    {
      "cell_type": "code",
      "source": [
        "new_output=[]\n",
        "for i in range(0,5):\n",
        "  new_layer_mean = np.mean(new_layer[i])\n",
        "  new_layer_std = np.std(new_layer[i])\n",
        "  new_batch_normalization = (new_layer[i] - new_layer_mean) / new_layer_std\n",
        "  new_output.append(new_batch_normalization)"
      ],
      "metadata": {
        "id": "isWSKknPfIEQ"
      },
      "execution_count": 29,
      "outputs": []
    },
    {
      "cell_type": "code",
      "source": [
        "print(new_output)"
      ],
      "metadata": {
        "colab": {
          "base_uri": "https://localhost:8080/"
        },
        "id": "yhZa3gpHfbBu",
        "outputId": "ac48f72e-bd84-4187-87e1-76721f29f11b"
      },
      "execution_count": 30,
      "outputs": [
        {
          "output_type": "stream",
          "name": "stdout",
          "text": [
            "[array([-0.25839037, -0.8613012 ,  1.8948627 ,  0.        , -0.7751711 ],\n",
            "      dtype=float32), array([-1.9522605 ,  0.36725685,  0.27061027,  0.8988129 ,  0.41558012],\n",
            "      dtype=float32), array([-1.3241694 ,  1.3241694 ,  0.41380295, -0.99312705,  0.5793241 ],\n",
            "      dtype=float32), array([-0.17220359,  1.4063282 , -0.74621516, -1.3202267 ,  0.8323167 ],\n",
            "      dtype=float32), array([ 1.2455118 , -0.9291913 ,  1.1960868 , -0.68206596, -0.83034116],\n",
            "      dtype=float32)]\n"
          ]
        }
      ]
    }
  ]
}