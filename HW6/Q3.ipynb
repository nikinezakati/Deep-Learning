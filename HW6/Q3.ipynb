{
  "nbformat": 4,
  "nbformat_minor": 0,
  "metadata": {
    "colab": {
      "provenance": []
    },
    "kernelspec": {
      "name": "python3",
      "display_name": "Python 3"
    },
    "language_info": {
      "name": "python"
    },
    "accelerator": "GPU",
    "gpuClass": "standard"
  },
  "cells": [
    {
      "cell_type": "code",
      "execution_count": 1,
      "metadata": {
        "id": "zmxo2g4QGjOh"
      },
      "outputs": [],
      "source": [
        "import cv2\n",
        "import numpy as np\n",
        "from matplotlib import pyplot as plt\n",
        "from tensorflow import keras"
      ]
    },
    {
      "cell_type": "markdown",
      "source": [
        "# prepare data"
      ],
      "metadata": {
        "id": "bSXHDbbZLHZ0"
      }
    },
    {
      "cell_type": "code",
      "source": [
        "(x_train, y_train), (x_test, y_test) = keras.datasets.cifar10.load_data()\n",
        "\n",
        "unlabeld_index = np.ones(y_train.shape, np.bool)\n",
        "\n",
        "N = 20\n",
        "for i in range(10):\n",
        "  idx = np.where(y_train == i)[0][:N]\n",
        "  unlabeld_index[idx] = 0\n",
        "\n",
        "x_unlabeld = x_train[np.where(unlabeld_index)[0], ...]\n",
        "\n",
        "x_train = x_train[np.where(~unlabeld_index)[0], ...]\n",
        "y_train = y_train[np.where(~unlabeld_index)[0], ...]"
      ],
      "metadata": {
        "id": "9-gUZ9ZwLHEH",
        "colab": {
          "base_uri": "https://localhost:8080/"
        },
        "outputId": "b94adbcf-2c60-47b1-b09c-7af64162eda0"
      },
      "execution_count": 38,
      "outputs": [
        {
          "output_type": "stream",
          "name": "stderr",
          "text": [
            "<ipython-input-38-2c2ed39229d7>:3: DeprecationWarning: `np.bool` is a deprecated alias for the builtin `bool`. To silence this warning, use `bool` by itself. Doing this will not modify any behavior and is safe. If you specifically wanted the numpy scalar type, use `np.bool_` here.\n",
            "Deprecated in NumPy 1.20; for more details and guidance: https://numpy.org/devdocs/release/1.20.0-notes.html#deprecations\n",
            "  unlabeld_index = np.ones(y_train.shape, np.bool)\n"
          ]
        }
      ]
    },
    {
      "cell_type": "code",
      "source": [
        "# examples of categorical crossentropy\n",
        "cce = keras.losses.CategoricalCrossentropy()\n",
        "\n",
        "# a labeled data from the second class\n",
        "y_true = [[0, 1, 0, 0]]\n",
        "y_pred = [[0.05, 0.95, 0, 0]]\n",
        "print(cce(y_true, y_pred).numpy())\n",
        "\n",
        "# an ulabeled data\n",
        "y_true = [[0, 0, 0, 0]]\n",
        "y_pred = [[0.05, 0.95, 0, 0]]\n",
        "print(cce(y_true, y_pred).numpy())\n",
        "\n",
        "# another ulabeled data\n",
        "y_true = [[0, 0, 0, 0]]\n",
        "y_pred = [[0.1, 0.4, 0.3, 0.2]]\n",
        "print(cce(y_true, y_pred).numpy())"
      ],
      "metadata": {
        "id": "AdM1DXorH9eJ",
        "colab": {
          "base_uri": "https://localhost:8080/"
        },
        "outputId": "02875485-a7c2-405a-c747-0882c8144467"
      },
      "execution_count": 3,
      "outputs": [
        {
          "output_type": "stream",
          "name": "stdout",
          "text": [
            "0.051293306\n",
            "0.0\n",
            "0.0\n"
          ]
        }
      ]
    },
    {
      "cell_type": "code",
      "source": [
        "import cv2\n",
        "import numpy as np\n",
        "from matplotlib import pyplot as plt\n",
        "import tensorflow as tf\n",
        "from tensorflow.keras.applications import MobileNetV2\n",
        "from tensorflow.keras.models import Model\n",
        "from tensorflow.keras.layers import Dense, Flatten"
      ],
      "metadata": {
        "id": "fw756BXlzmsh"
      },
      "execution_count": 9,
      "outputs": []
    },
    {
      "cell_type": "markdown",
      "source": [
        "## A"
      ],
      "metadata": {
        "id": "nCIlpzl-1BNc"
      }
    },
    {
      "cell_type": "code",
      "source": [
        "\n",
        "X_train = x_train.astype('float32')\n",
        "X_test = x_test.astype('float32')\n",
        "\n",
        "mean = np.mean(X_train, axis = (0,1,2,3))\n",
        "std = np.std(X_train, axis = (0,1,2,3))\n",
        "\n",
        "X_train = (X_train-mean)/(std + 1e-7)\n",
        "X_test = (X_test-mean)/(std + 1e-7)\n",
        "\n",
        "y_train_categorial = keras.utils.to_categorical(y_train,10)\n",
        "y_test_categorial = keras.utils.to_categorical(y_test,10)\n"
      ],
      "metadata": {
        "id": "HV-kBzmQ4Rgr"
      },
      "execution_count": 39,
      "outputs": []
    },
    {
      "cell_type": "code",
      "source": [
        "MN2 = MobileNetV2(include_top=False, input_shape=(32, 32, 3), weights=None)\n",
        "flatten1 = Flatten()(MN2.layers[-1].output)\n",
        "output1 = Dense(10, activation='softmax')(flatten1)\n",
        "model1 = Model(inputs=MN2.inputs, outputs=output1)\n",
        "\n",
        "model1.compile(optimizer=tf.keras.optimizers.Adam(),\n",
        "               loss='categorical_crossentropy',\n",
        "              metrics=['accuracy'])"
      ],
      "metadata": {
        "id": "q9aiy6jUzfIG"
      },
      "execution_count": 10,
      "outputs": []
    },
    {
      "cell_type": "code",
      "source": [
        "model1.fit(x_train, y_train_categorial, batch_size=64, epochs=100)"
      ],
      "metadata": {
        "colab": {
          "base_uri": "https://localhost:8080/"
        },
        "id": "pP3Hsff72CCW",
        "outputId": "7cf9e086-6948-4bad-f5a0-3f3098d7f8e0"
      },
      "execution_count": 11,
      "outputs": [
        {
          "output_type": "stream",
          "name": "stdout",
          "text": [
            "Epoch 1/100\n",
            "4/4 [==============================] - 13s 189ms/step - loss: 2.7318 - accuracy: 0.1150\n",
            "Epoch 2/100\n",
            "4/4 [==============================] - 0s 19ms/step - loss: 2.3887 - accuracy: 0.1750\n",
            "Epoch 3/100\n",
            "4/4 [==============================] - 0s 19ms/step - loss: 2.1092 - accuracy: 0.2900\n",
            "Epoch 4/100\n",
            "4/4 [==============================] - 0s 23ms/step - loss: 1.9770 - accuracy: 0.3550\n",
            "Epoch 5/100\n",
            "4/4 [==============================] - 0s 21ms/step - loss: 1.8674 - accuracy: 0.3600\n",
            "Epoch 6/100\n",
            "4/4 [==============================] - 0s 20ms/step - loss: 1.8509 - accuracy: 0.3750\n",
            "Epoch 7/100\n",
            "4/4 [==============================] - 0s 20ms/step - loss: 1.8194 - accuracy: 0.3950\n",
            "Epoch 8/100\n",
            "4/4 [==============================] - 0s 20ms/step - loss: 1.7072 - accuracy: 0.4650\n",
            "Epoch 9/100\n",
            "4/4 [==============================] - 0s 19ms/step - loss: 1.5034 - accuracy: 0.5150\n",
            "Epoch 10/100\n",
            "4/4 [==============================] - 0s 20ms/step - loss: 1.6615 - accuracy: 0.4650\n",
            "Epoch 11/100\n",
            "4/4 [==============================] - 0s 19ms/step - loss: 1.3555 - accuracy: 0.5500\n",
            "Epoch 12/100\n",
            "4/4 [==============================] - 0s 20ms/step - loss: 1.0594 - accuracy: 0.6550\n",
            "Epoch 13/100\n",
            "4/4 [==============================] - 0s 20ms/step - loss: 1.2276 - accuracy: 0.5900\n",
            "Epoch 14/100\n",
            "4/4 [==============================] - 0s 19ms/step - loss: 0.9567 - accuracy: 0.6850\n",
            "Epoch 15/100\n",
            "4/4 [==============================] - 0s 20ms/step - loss: 1.0013 - accuracy: 0.6950\n",
            "Epoch 16/100\n",
            "4/4 [==============================] - 0s 21ms/step - loss: 1.0885 - accuracy: 0.6600\n",
            "Epoch 17/100\n",
            "4/4 [==============================] - 0s 20ms/step - loss: 0.9947 - accuracy: 0.6850\n",
            "Epoch 18/100\n",
            "4/4 [==============================] - 0s 19ms/step - loss: 1.4754 - accuracy: 0.6100\n",
            "Epoch 19/100\n",
            "4/4 [==============================] - 0s 20ms/step - loss: 1.1552 - accuracy: 0.6500\n",
            "Epoch 20/100\n",
            "4/4 [==============================] - 0s 19ms/step - loss: 1.2224 - accuracy: 0.6150\n",
            "Epoch 21/100\n",
            "4/4 [==============================] - 0s 19ms/step - loss: 0.8539 - accuracy: 0.7450\n",
            "Epoch 22/100\n",
            "4/4 [==============================] - 0s 21ms/step - loss: 0.9430 - accuracy: 0.7000\n",
            "Epoch 23/100\n",
            "4/4 [==============================] - 0s 19ms/step - loss: 0.7932 - accuracy: 0.7750\n",
            "Epoch 24/100\n",
            "4/4 [==============================] - 0s 18ms/step - loss: 0.8734 - accuracy: 0.7350\n",
            "Epoch 25/100\n",
            "4/4 [==============================] - 0s 19ms/step - loss: 0.8340 - accuracy: 0.7450\n",
            "Epoch 26/100\n",
            "4/4 [==============================] - 0s 19ms/step - loss: 0.5007 - accuracy: 0.8450\n",
            "Epoch 27/100\n",
            "4/4 [==============================] - 0s 21ms/step - loss: 0.5339 - accuracy: 0.8650\n",
            "Epoch 28/100\n",
            "4/4 [==============================] - 0s 21ms/step - loss: 0.5923 - accuracy: 0.8050\n",
            "Epoch 29/100\n",
            "4/4 [==============================] - 0s 20ms/step - loss: 0.4005 - accuracy: 0.8550\n",
            "Epoch 30/100\n",
            "4/4 [==============================] - 0s 19ms/step - loss: 0.4177 - accuracy: 0.8850\n",
            "Epoch 31/100\n",
            "4/4 [==============================] - 0s 20ms/step - loss: 0.3819 - accuracy: 0.8800\n",
            "Epoch 32/100\n",
            "4/4 [==============================] - 0s 19ms/step - loss: 0.4283 - accuracy: 0.8500\n",
            "Epoch 33/100\n",
            "4/4 [==============================] - 0s 19ms/step - loss: 0.5302 - accuracy: 0.8300\n",
            "Epoch 34/100\n",
            "4/4 [==============================] - 0s 21ms/step - loss: 0.5874 - accuracy: 0.8150\n",
            "Epoch 35/100\n",
            "4/4 [==============================] - 0s 20ms/step - loss: 0.8267 - accuracy: 0.7400\n",
            "Epoch 36/100\n",
            "4/4 [==============================] - 0s 21ms/step - loss: 0.6612 - accuracy: 0.7800\n",
            "Epoch 37/100\n",
            "4/4 [==============================] - 0s 21ms/step - loss: 0.6166 - accuracy: 0.8150\n",
            "Epoch 38/100\n",
            "4/4 [==============================] - 0s 26ms/step - loss: 0.7565 - accuracy: 0.7700\n",
            "Epoch 39/100\n",
            "4/4 [==============================] - 0s 21ms/step - loss: 0.4936 - accuracy: 0.8500\n",
            "Epoch 40/100\n",
            "4/4 [==============================] - 0s 20ms/step - loss: 0.5924 - accuracy: 0.8300\n",
            "Epoch 41/100\n",
            "4/4 [==============================] - 0s 19ms/step - loss: 0.5515 - accuracy: 0.8000\n",
            "Epoch 42/100\n",
            "4/4 [==============================] - 0s 20ms/step - loss: 0.6921 - accuracy: 0.7550\n",
            "Epoch 43/100\n",
            "4/4 [==============================] - 0s 20ms/step - loss: 0.6229 - accuracy: 0.7900\n",
            "Epoch 44/100\n",
            "4/4 [==============================] - 0s 20ms/step - loss: 0.6454 - accuracy: 0.8050\n",
            "Epoch 45/100\n",
            "4/4 [==============================] - 0s 19ms/step - loss: 0.4425 - accuracy: 0.8550\n",
            "Epoch 46/100\n",
            "4/4 [==============================] - 0s 19ms/step - loss: 0.4683 - accuracy: 0.8500\n",
            "Epoch 47/100\n",
            "4/4 [==============================] - 0s 20ms/step - loss: 0.4611 - accuracy: 0.8900\n",
            "Epoch 48/100\n",
            "4/4 [==============================] - 0s 21ms/step - loss: 0.3296 - accuracy: 0.9000\n",
            "Epoch 49/100\n",
            "4/4 [==============================] - 0s 19ms/step - loss: 0.4090 - accuracy: 0.8800\n",
            "Epoch 50/100\n",
            "4/4 [==============================] - 0s 21ms/step - loss: 0.4764 - accuracy: 0.8800\n",
            "Epoch 51/100\n",
            "4/4 [==============================] - 0s 19ms/step - loss: 0.6453 - accuracy: 0.8050\n",
            "Epoch 52/100\n",
            "4/4 [==============================] - 0s 19ms/step - loss: 0.4898 - accuracy: 0.8500\n",
            "Epoch 53/100\n",
            "4/4 [==============================] - 0s 20ms/step - loss: 0.4155 - accuracy: 0.8750\n",
            "Epoch 54/100\n",
            "4/4 [==============================] - 0s 20ms/step - loss: 0.2898 - accuracy: 0.9000\n",
            "Epoch 55/100\n",
            "4/4 [==============================] - 0s 21ms/step - loss: 0.3020 - accuracy: 0.9100\n",
            "Epoch 56/100\n",
            "4/4 [==============================] - 0s 23ms/step - loss: 0.5168 - accuracy: 0.8650\n",
            "Epoch 57/100\n",
            "4/4 [==============================] - 0s 20ms/step - loss: 0.3716 - accuracy: 0.8700\n",
            "Epoch 58/100\n",
            "4/4 [==============================] - 0s 20ms/step - loss: 0.4712 - accuracy: 0.8800\n",
            "Epoch 59/100\n",
            "4/4 [==============================] - 0s 20ms/step - loss: 0.4702 - accuracy: 0.8400\n",
            "Epoch 60/100\n",
            "4/4 [==============================] - 0s 21ms/step - loss: 0.5900 - accuracy: 0.8100\n",
            "Epoch 61/100\n",
            "4/4 [==============================] - 0s 21ms/step - loss: 0.4086 - accuracy: 0.8600\n",
            "Epoch 62/100\n",
            "4/4 [==============================] - 0s 20ms/step - loss: 0.4228 - accuracy: 0.8450\n",
            "Epoch 63/100\n",
            "4/4 [==============================] - 0s 19ms/step - loss: 0.4645 - accuracy: 0.8650\n",
            "Epoch 64/100\n",
            "4/4 [==============================] - 0s 21ms/step - loss: 0.4618 - accuracy: 0.8450\n",
            "Epoch 65/100\n",
            "4/4 [==============================] - 0s 21ms/step - loss: 0.4873 - accuracy: 0.8450\n",
            "Epoch 66/100\n",
            "4/4 [==============================] - 0s 22ms/step - loss: 0.4678 - accuracy: 0.8400\n",
            "Epoch 67/100\n",
            "4/4 [==============================] - 0s 20ms/step - loss: 0.6702 - accuracy: 0.8050\n",
            "Epoch 68/100\n",
            "4/4 [==============================] - 0s 20ms/step - loss: 0.5632 - accuracy: 0.8350\n",
            "Epoch 69/100\n",
            "4/4 [==============================] - 0s 20ms/step - loss: 0.4388 - accuracy: 0.8700\n",
            "Epoch 70/100\n",
            "4/4 [==============================] - 0s 20ms/step - loss: 0.5127 - accuracy: 0.8250\n",
            "Epoch 71/100\n",
            "4/4 [==============================] - 0s 24ms/step - loss: 0.4575 - accuracy: 0.8850\n",
            "Epoch 72/100\n",
            "4/4 [==============================] - 0s 20ms/step - loss: 0.3372 - accuracy: 0.9050\n",
            "Epoch 73/100\n",
            "4/4 [==============================] - 0s 19ms/step - loss: 0.5539 - accuracy: 0.8150\n",
            "Epoch 74/100\n",
            "4/4 [==============================] - 0s 22ms/step - loss: 0.4346 - accuracy: 0.8650\n",
            "Epoch 75/100\n",
            "4/4 [==============================] - 0s 20ms/step - loss: 0.4262 - accuracy: 0.8600\n",
            "Epoch 76/100\n",
            "4/4 [==============================] - 0s 20ms/step - loss: 0.3520 - accuracy: 0.8800\n",
            "Epoch 77/100\n",
            "4/4 [==============================] - 0s 19ms/step - loss: 0.2517 - accuracy: 0.9300\n",
            "Epoch 78/100\n",
            "4/4 [==============================] - 0s 19ms/step - loss: 0.3043 - accuracy: 0.8950\n",
            "Epoch 79/100\n",
            "4/4 [==============================] - 0s 19ms/step - loss: 0.3419 - accuracy: 0.9000\n",
            "Epoch 80/100\n",
            "4/4 [==============================] - 0s 21ms/step - loss: 0.2260 - accuracy: 0.9450\n",
            "Epoch 81/100\n",
            "4/4 [==============================] - 0s 19ms/step - loss: 0.3605 - accuracy: 0.9300\n",
            "Epoch 82/100\n",
            "4/4 [==============================] - 0s 21ms/step - loss: 0.3878 - accuracy: 0.8850\n",
            "Epoch 83/100\n",
            "4/4 [==============================] - 0s 21ms/step - loss: 0.3732 - accuracy: 0.8650\n",
            "Epoch 84/100\n",
            "4/4 [==============================] - 0s 19ms/step - loss: 0.3499 - accuracy: 0.9000\n",
            "Epoch 85/100\n",
            "4/4 [==============================] - 0s 19ms/step - loss: 0.3615 - accuracy: 0.9050\n",
            "Epoch 86/100\n",
            "4/4 [==============================] - 0s 21ms/step - loss: 0.5052 - accuracy: 0.8450\n",
            "Epoch 87/100\n",
            "4/4 [==============================] - 0s 20ms/step - loss: 0.4223 - accuracy: 0.8850\n",
            "Epoch 88/100\n",
            "4/4 [==============================] - 0s 20ms/step - loss: 0.4419 - accuracy: 0.8900\n",
            "Epoch 89/100\n",
            "4/4 [==============================] - 0s 20ms/step - loss: 0.2330 - accuracy: 0.9350\n",
            "Epoch 90/100\n",
            "4/4 [==============================] - 0s 19ms/step - loss: 0.3497 - accuracy: 0.9100\n",
            "Epoch 91/100\n",
            "4/4 [==============================] - 0s 22ms/step - loss: 0.3442 - accuracy: 0.9250\n",
            "Epoch 92/100\n",
            "4/4 [==============================] - 0s 19ms/step - loss: 0.2533 - accuracy: 0.9300\n",
            "Epoch 93/100\n",
            "4/4 [==============================] - 0s 18ms/step - loss: 0.3887 - accuracy: 0.8850\n",
            "Epoch 94/100\n",
            "4/4 [==============================] - 0s 26ms/step - loss: 0.3688 - accuracy: 0.8900\n",
            "Epoch 95/100\n",
            "4/4 [==============================] - 0s 20ms/step - loss: 0.2623 - accuracy: 0.9150\n",
            "Epoch 96/100\n",
            "4/4 [==============================] - 0s 21ms/step - loss: 0.2670 - accuracy: 0.9100\n",
            "Epoch 97/100\n",
            "4/4 [==============================] - 0s 22ms/step - loss: 0.2599 - accuracy: 0.9350\n",
            "Epoch 98/100\n",
            "4/4 [==============================] - 0s 20ms/step - loss: 0.2359 - accuracy: 0.9400\n",
            "Epoch 99/100\n",
            "4/4 [==============================] - 0s 20ms/step - loss: 0.2739 - accuracy: 0.9000\n",
            "Epoch 100/100\n",
            "4/4 [==============================] - 0s 20ms/step - loss: 0.2233 - accuracy: 0.9350\n"
          ]
        },
        {
          "output_type": "execute_result",
          "data": {
            "text/plain": [
              "<keras.callbacks.History at 0x7efe61ac8c70>"
            ]
          },
          "metadata": {},
          "execution_count": 11
        }
      ]
    },
    {
      "cell_type": "code",
      "source": [
        "print('Accuracy on Test Set :', model1.evaluate(x_test, y_test_categorial)[1] * 100)"
      ],
      "metadata": {
        "colab": {
          "base_uri": "https://localhost:8080/"
        },
        "id": "44y2FauNQjdt",
        "outputId": "8603fce4-0361-4626-8a0d-1afab7635e5a"
      },
      "execution_count": 12,
      "outputs": [
        {
          "output_type": "stream",
          "name": "stdout",
          "text": [
            "313/313 [==============================] - 4s 8ms/step - loss: 2.3061 - accuracy: 0.1000\n",
            "Accuracy on Test Set : 10.000000149011612\n"
          ]
        }
      ]
    },
    {
      "cell_type": "markdown",
      "source": [
        "## B"
      ],
      "metadata": {
        "id": "POg6GwgU8RaC"
      }
    },
    {
      "cell_type": "code",
      "source": [
        "from random import randint\n",
        "\n",
        "rotation_degrees = [None, cv2.ROTATE_90_CLOCKWISE, cv2.ROTATE_90_COUNTERCLOCKWISE, cv2.ROTATE_180]\n",
        "l = len(rotation_degrees)\n",
        "\n",
        "x_rotate = np.zeros(x_unlabeld.shape)\n",
        "y_rotate = np.zeros((x_unlabeld.shape[0],1))\n",
        "\n",
        "for i in range(x_unlabeld.shape[0]):\n",
        "  r = randint(0, l-1)\n",
        "  if r>0:\n",
        "    y_rotate[i,0] = r\n",
        "    x_rotate[i] = cv2.rotate(x_unlabeld[i], rotation_degrees[r])\n",
        "  else:\n",
        "    y_rotate[i,0] = 0\n",
        "    x_rotate[i] = x_unlabeld[i]\n",
        "\n",
        "y_rotate_categorical = tf.keras.utils.to_categorical(y_rotate)"
      ],
      "metadata": {
        "id": "jERLdhmg8SQ9"
      },
      "execution_count": 13,
      "outputs": []
    },
    {
      "cell_type": "code",
      "source": [
        "MN2 = MobileNetV2(include_top=False, input_shape=(32, 32, 3), weights=None)\n",
        "flatten2 = Flatten()(MN2.layers[-1].output)\n",
        "output2 = Dense(4, activation='softmax')(flatten2)\n",
        "\n",
        "model2 = Model(inputs=MN2.inputs, outputs=output2)\n",
        "\n",
        "model2.compile(optimizer=tf.keras.optimizers.Adam(learning_rate=0.01),\n",
        "               loss='categorical_crossentropy',\n",
        "               metrics=['accuracy'])"
      ],
      "metadata": {
        "id": "0hinsauE8l3T"
      },
      "execution_count": 14,
      "outputs": []
    },
    {
      "cell_type": "code",
      "source": [
        "model2.fit(x_rotate, y_rotate_categorical, batch_size=64, epochs=50)"
      ],
      "metadata": {
        "colab": {
          "base_uri": "https://localhost:8080/"
        },
        "id": "sH5te8Hu8rcU",
        "outputId": "d7805e57-295c-40cc-e9be-907da8f39337"
      },
      "execution_count": 15,
      "outputs": [
        {
          "output_type": "stream",
          "name": "stdout",
          "text": [
            "Epoch 1/50\n",
            "779/779 [==============================] - 20s 21ms/step - loss: 1.5353 - accuracy: 0.2553\n",
            "Epoch 2/50\n",
            "779/779 [==============================] - 16s 20ms/step - loss: 1.3203 - accuracy: 0.3392\n",
            "Epoch 3/50\n",
            "779/779 [==============================] - 16s 21ms/step - loss: 1.1694 - accuracy: 0.4603\n",
            "Epoch 4/50\n",
            "779/779 [==============================] - 16s 21ms/step - loss: 1.0765 - accuracy: 0.5315\n",
            "Epoch 5/50\n",
            "779/779 [==============================] - 16s 21ms/step - loss: 1.0091 - accuracy: 0.5785\n",
            "Epoch 6/50\n",
            "779/779 [==============================] - 16s 20ms/step - loss: 0.9728 - accuracy: 0.5952\n",
            "Epoch 7/50\n",
            "779/779 [==============================] - 17s 22ms/step - loss: 0.9345 - accuracy: 0.6132\n",
            "Epoch 8/50\n",
            "779/779 [==============================] - 16s 20ms/step - loss: 0.9139 - accuracy: 0.6233\n",
            "Epoch 9/50\n",
            "779/779 [==============================] - 16s 20ms/step - loss: 0.8900 - accuracy: 0.6360\n",
            "Epoch 10/50\n",
            "779/779 [==============================] - 16s 20ms/step - loss: 0.8681 - accuracy: 0.6482\n",
            "Epoch 11/50\n",
            "779/779 [==============================] - 16s 20ms/step - loss: 0.8459 - accuracy: 0.6541\n",
            "Epoch 12/50\n",
            "779/779 [==============================] - 16s 20ms/step - loss: 0.8275 - accuracy: 0.6618\n",
            "Epoch 13/50\n",
            "779/779 [==============================] - 16s 20ms/step - loss: 0.8053 - accuracy: 0.6722\n",
            "Epoch 14/50\n",
            "779/779 [==============================] - 17s 21ms/step - loss: 0.7855 - accuracy: 0.6819\n",
            "Epoch 15/50\n",
            "779/779 [==============================] - 16s 20ms/step - loss: 0.7651 - accuracy: 0.6915\n",
            "Epoch 16/50\n",
            "779/779 [==============================] - 16s 20ms/step - loss: 0.7472 - accuracy: 0.7016\n",
            "Epoch 17/50\n",
            "779/779 [==============================] - 16s 20ms/step - loss: 0.7258 - accuracy: 0.7083\n",
            "Epoch 18/50\n",
            "779/779 [==============================] - 16s 20ms/step - loss: 0.7100 - accuracy: 0.7170\n",
            "Epoch 19/50\n",
            "779/779 [==============================] - 16s 20ms/step - loss: 0.6938 - accuracy: 0.7240\n",
            "Epoch 20/50\n",
            "779/779 [==============================] - 16s 20ms/step - loss: 0.6728 - accuracy: 0.7335\n",
            "Epoch 21/50\n",
            "779/779 [==============================] - 16s 21ms/step - loss: 0.6549 - accuracy: 0.7407\n",
            "Epoch 22/50\n",
            "779/779 [==============================] - 16s 20ms/step - loss: 0.6380 - accuracy: 0.7479\n",
            "Epoch 23/50\n",
            "779/779 [==============================] - 16s 20ms/step - loss: 0.6206 - accuracy: 0.7562\n",
            "Epoch 24/50\n",
            "779/779 [==============================] - 16s 20ms/step - loss: 0.6050 - accuracy: 0.7603\n",
            "Epoch 25/50\n",
            "779/779 [==============================] - 16s 20ms/step - loss: 0.5850 - accuracy: 0.7712\n",
            "Epoch 26/50\n",
            "779/779 [==============================] - 16s 20ms/step - loss: 0.5723 - accuracy: 0.7784\n",
            "Epoch 27/50\n",
            "779/779 [==============================] - 15s 20ms/step - loss: 0.5597 - accuracy: 0.7813\n",
            "Epoch 28/50\n",
            "779/779 [==============================] - 16s 21ms/step - loss: 0.5452 - accuracy: 0.7880\n",
            "Epoch 29/50\n",
            "779/779 [==============================] - 16s 20ms/step - loss: 0.5290 - accuracy: 0.7954\n",
            "Epoch 30/50\n",
            "779/779 [==============================] - 16s 20ms/step - loss: 0.5187 - accuracy: 0.8012\n",
            "Epoch 31/50\n",
            "779/779 [==============================] - 16s 20ms/step - loss: 0.5037 - accuracy: 0.8063\n",
            "Epoch 32/50\n",
            "779/779 [==============================] - 16s 21ms/step - loss: 0.4942 - accuracy: 0.8108\n",
            "Epoch 33/50\n",
            "779/779 [==============================] - 16s 20ms/step - loss: 0.4844 - accuracy: 0.8135\n",
            "Epoch 34/50\n",
            "779/779 [==============================] - 17s 21ms/step - loss: 0.4721 - accuracy: 0.8194\n",
            "Epoch 35/50\n",
            "779/779 [==============================] - 17s 22ms/step - loss: 0.4579 - accuracy: 0.8241\n",
            "Epoch 36/50\n",
            "779/779 [==============================] - 16s 20ms/step - loss: 0.4495 - accuracy: 0.8276\n",
            "Epoch 37/50\n",
            "779/779 [==============================] - 16s 21ms/step - loss: 0.4461 - accuracy: 0.8311\n",
            "Epoch 38/50\n",
            "779/779 [==============================] - 15s 20ms/step - loss: 0.4330 - accuracy: 0.8350\n",
            "Epoch 39/50\n",
            "779/779 [==============================] - 16s 21ms/step - loss: 0.4212 - accuracy: 0.8414\n",
            "Epoch 40/50\n",
            "779/779 [==============================] - 16s 21ms/step - loss: 0.4140 - accuracy: 0.8413\n",
            "Epoch 41/50\n",
            "779/779 [==============================] - 16s 20ms/step - loss: 0.4022 - accuracy: 0.8484\n",
            "Epoch 42/50\n",
            "779/779 [==============================] - 16s 21ms/step - loss: 0.3943 - accuracy: 0.8501\n",
            "Epoch 43/50\n",
            "779/779 [==============================] - 16s 20ms/step - loss: 0.3809 - accuracy: 0.8576\n",
            "Epoch 44/50\n",
            "779/779 [==============================] - 16s 20ms/step - loss: 0.3729 - accuracy: 0.8581\n",
            "Epoch 45/50\n",
            "779/779 [==============================] - 16s 20ms/step - loss: 0.3735 - accuracy: 0.8592\n",
            "Epoch 46/50\n",
            "779/779 [==============================] - 16s 20ms/step - loss: 0.3756 - accuracy: 0.8591\n",
            "Epoch 47/50\n",
            "779/779 [==============================] - 16s 20ms/step - loss: 0.3628 - accuracy: 0.8628\n",
            "Epoch 48/50\n",
            "779/779 [==============================] - 15s 20ms/step - loss: 0.3496 - accuracy: 0.8689\n",
            "Epoch 49/50\n",
            "779/779 [==============================] - 16s 21ms/step - loss: 0.3430 - accuracy: 0.8697\n",
            "Epoch 50/50\n",
            "779/779 [==============================] - 16s 20ms/step - loss: 0.3290 - accuracy: 0.8772\n"
          ]
        },
        {
          "output_type": "execute_result",
          "data": {
            "text/plain": [
              "<keras.callbacks.History at 0x7efe7a1f1040>"
            ]
          },
          "metadata": {},
          "execution_count": 15
        }
      ]
    },
    {
      "cell_type": "code",
      "source": [
        "output3 = Dense(10, activation='softmax')(model2.get_layer('flatten_3').output)\n",
        "model3= Model(inputs=model2.input, outputs=output3)\n",
        "model3.compile(optimizer=tf.keras.optimizers.Adam(learning_rate=0.001),\n",
        "               loss='categorical_crossentropy',\n",
        "               metrics=['accuracy'])"
      ],
      "metadata": {
        "id": "84_Pa9To-wQg"
      },
      "execution_count": 24,
      "outputs": []
    },
    {
      "cell_type": "code",
      "source": [
        "model3.fit(x_train, y_train_categorial, batch_size=64, epochs=100)"
      ],
      "metadata": {
        "colab": {
          "base_uri": "https://localhost:8080/"
        },
        "id": "tPN2_Q25-1tt",
        "outputId": "db115d97-f19d-4eb1-bde8-f27b4360ab41"
      },
      "execution_count": 25,
      "outputs": [
        {
          "output_type": "stream",
          "name": "stdout",
          "text": [
            "Epoch 1/100\n",
            "4/4 [==============================] - 4s 26ms/step - loss: 2.3181 - accuracy: 0.0650\n",
            "Epoch 2/100\n",
            "4/4 [==============================] - 0s 28ms/step - loss: 2.3112 - accuracy: 0.0650\n",
            "Epoch 3/100\n",
            "4/4 [==============================] - 0s 22ms/step - loss: 2.3060 - accuracy: 0.0650\n",
            "Epoch 4/100\n",
            "4/4 [==============================] - 0s 21ms/step - loss: 2.2995 - accuracy: 0.0850\n",
            "Epoch 5/100\n",
            "4/4 [==============================] - 0s 20ms/step - loss: 2.2931 - accuracy: 0.0800\n",
            "Epoch 6/100\n",
            "4/4 [==============================] - 0s 21ms/step - loss: 2.2873 - accuracy: 0.0950\n",
            "Epoch 7/100\n",
            "4/4 [==============================] - 0s 18ms/step - loss: 2.2836 - accuracy: 0.1200\n",
            "Epoch 8/100\n",
            "4/4 [==============================] - 0s 18ms/step - loss: 2.2778 - accuracy: 0.1050\n",
            "Epoch 9/100\n",
            "4/4 [==============================] - 0s 19ms/step - loss: 2.2732 - accuracy: 0.1250\n",
            "Epoch 10/100\n",
            "4/4 [==============================] - 0s 20ms/step - loss: 2.2674 - accuracy: 0.1050\n",
            "Epoch 11/100\n",
            "4/4 [==============================] - 0s 19ms/step - loss: 2.2652 - accuracy: 0.1500\n",
            "Epoch 12/100\n",
            "4/4 [==============================] - 0s 20ms/step - loss: 2.2611 - accuracy: 0.1500\n",
            "Epoch 13/100\n",
            "4/4 [==============================] - 0s 19ms/step - loss: 2.2549 - accuracy: 0.1300\n",
            "Epoch 14/100\n",
            "4/4 [==============================] - 0s 22ms/step - loss: 2.2476 - accuracy: 0.1850\n",
            "Epoch 15/100\n",
            "4/4 [==============================] - 0s 20ms/step - loss: 2.2451 - accuracy: 0.1750\n",
            "Epoch 16/100\n",
            "4/4 [==============================] - 0s 18ms/step - loss: 2.2421 - accuracy: 0.1700\n",
            "Epoch 17/100\n",
            "4/4 [==============================] - 0s 19ms/step - loss: 2.2328 - accuracy: 0.1800\n",
            "Epoch 18/100\n",
            "4/4 [==============================] - 0s 19ms/step - loss: 2.2250 - accuracy: 0.2150\n",
            "Epoch 19/100\n",
            "4/4 [==============================] - 0s 20ms/step - loss: 2.2236 - accuracy: 0.2200\n",
            "Epoch 20/100\n",
            "4/4 [==============================] - 0s 20ms/step - loss: 2.2204 - accuracy: 0.2250\n",
            "Epoch 21/100\n",
            "4/4 [==============================] - 0s 20ms/step - loss: 2.2120 - accuracy: 0.2400\n",
            "Epoch 22/100\n",
            "4/4 [==============================] - 0s 19ms/step - loss: 2.2086 - accuracy: 0.2250\n",
            "Epoch 23/100\n",
            "4/4 [==============================] - 0s 20ms/step - loss: 2.1982 - accuracy: 0.2550\n",
            "Epoch 24/100\n",
            "4/4 [==============================] - 0s 20ms/step - loss: 2.1958 - accuracy: 0.2500\n",
            "Epoch 25/100\n",
            "4/4 [==============================] - 0s 19ms/step - loss: 2.1896 - accuracy: 0.2400\n",
            "Epoch 26/100\n",
            "4/4 [==============================] - 0s 18ms/step - loss: 2.1795 - accuracy: 0.2600\n",
            "Epoch 27/100\n",
            "4/4 [==============================] - 0s 19ms/step - loss: 2.1740 - accuracy: 0.2800\n",
            "Epoch 28/100\n",
            "4/4 [==============================] - 0s 20ms/step - loss: 2.1685 - accuracy: 0.2550\n",
            "Epoch 29/100\n",
            "4/4 [==============================] - 0s 19ms/step - loss: 2.1597 - accuracy: 0.2550\n",
            "Epoch 30/100\n",
            "4/4 [==============================] - 0s 19ms/step - loss: 2.1511 - accuracy: 0.2950\n",
            "Epoch 31/100\n",
            "4/4 [==============================] - 0s 18ms/step - loss: 2.1380 - accuracy: 0.3050\n",
            "Epoch 32/100\n",
            "4/4 [==============================] - 0s 21ms/step - loss: 2.1356 - accuracy: 0.3000\n",
            "Epoch 33/100\n",
            "4/4 [==============================] - 0s 19ms/step - loss: 2.1261 - accuracy: 0.3100\n",
            "Epoch 34/100\n",
            "4/4 [==============================] - 0s 18ms/step - loss: 2.1184 - accuracy: 0.3450\n",
            "Epoch 35/100\n",
            "4/4 [==============================] - 0s 19ms/step - loss: 2.1031 - accuracy: 0.3550\n",
            "Epoch 36/100\n",
            "4/4 [==============================] - 0s 18ms/step - loss: 2.0952 - accuracy: 0.3600\n",
            "Epoch 37/100\n",
            "4/4 [==============================] - 0s 19ms/step - loss: 2.0946 - accuracy: 0.3550\n",
            "Epoch 38/100\n",
            "4/4 [==============================] - 0s 22ms/step - loss: 2.0853 - accuracy: 0.3650\n",
            "Epoch 39/100\n",
            "4/4 [==============================] - 0s 18ms/step - loss: 2.0612 - accuracy: 0.3650\n",
            "Epoch 40/100\n",
            "4/4 [==============================] - 0s 20ms/step - loss: 2.0594 - accuracy: 0.3650\n",
            "Epoch 41/100\n",
            "4/4 [==============================] - 0s 21ms/step - loss: 2.0451 - accuracy: 0.3550\n",
            "Epoch 42/100\n",
            "4/4 [==============================] - 0s 19ms/step - loss: 2.0349 - accuracy: 0.3600\n",
            "Epoch 43/100\n",
            "4/4 [==============================] - 0s 19ms/step - loss: 2.0322 - accuracy: 0.4100\n",
            "Epoch 44/100\n",
            "4/4 [==============================] - 0s 21ms/step - loss: 2.0113 - accuracy: 0.3700\n",
            "Epoch 45/100\n",
            "4/4 [==============================] - 0s 21ms/step - loss: 2.0018 - accuracy: 0.3800\n",
            "Epoch 46/100\n",
            "4/4 [==============================] - 0s 19ms/step - loss: 1.9968 - accuracy: 0.3850\n",
            "Epoch 47/100\n",
            "4/4 [==============================] - 0s 19ms/step - loss: 1.9797 - accuracy: 0.3900\n",
            "Epoch 48/100\n",
            "4/4 [==============================] - 0s 20ms/step - loss: 1.9756 - accuracy: 0.3700\n",
            "Epoch 49/100\n",
            "4/4 [==============================] - 0s 22ms/step - loss: 1.9422 - accuracy: 0.4100\n",
            "Epoch 50/100\n",
            "4/4 [==============================] - 0s 22ms/step - loss: 1.9522 - accuracy: 0.3600\n",
            "Epoch 51/100\n",
            "4/4 [==============================] - 0s 20ms/step - loss: 1.9331 - accuracy: 0.3900\n",
            "Epoch 52/100\n",
            "4/4 [==============================] - 0s 20ms/step - loss: 1.9179 - accuracy: 0.3900\n",
            "Epoch 53/100\n",
            "4/4 [==============================] - 0s 19ms/step - loss: 1.9070 - accuracy: 0.3900\n",
            "Epoch 54/100\n",
            "4/4 [==============================] - 0s 20ms/step - loss: 1.8788 - accuracy: 0.4100\n",
            "Epoch 55/100\n",
            "4/4 [==============================] - 0s 21ms/step - loss: 1.8732 - accuracy: 0.4000\n",
            "Epoch 56/100\n",
            "4/4 [==============================] - 0s 21ms/step - loss: 1.8653 - accuracy: 0.4250\n",
            "Epoch 57/100\n",
            "4/4 [==============================] - 0s 22ms/step - loss: 1.8588 - accuracy: 0.4250\n",
            "Epoch 58/100\n",
            "4/4 [==============================] - 0s 21ms/step - loss: 1.8356 - accuracy: 0.4100\n",
            "Epoch 59/100\n",
            "4/4 [==============================] - 0s 19ms/step - loss: 1.8382 - accuracy: 0.4250\n",
            "Epoch 60/100\n",
            "4/4 [==============================] - 0s 22ms/step - loss: 1.8470 - accuracy: 0.3850\n",
            "Epoch 61/100\n",
            "4/4 [==============================] - 0s 20ms/step - loss: 1.8066 - accuracy: 0.4050\n",
            "Epoch 62/100\n",
            "4/4 [==============================] - 0s 20ms/step - loss: 1.7868 - accuracy: 0.4500\n",
            "Epoch 63/100\n",
            "4/4 [==============================] - 0s 21ms/step - loss: 1.7747 - accuracy: 0.4400\n",
            "Epoch 64/100\n",
            "4/4 [==============================] - 0s 20ms/step - loss: 1.7616 - accuracy: 0.4250\n",
            "Epoch 65/100\n",
            "4/4 [==============================] - 0s 26ms/step - loss: 1.7423 - accuracy: 0.4200\n",
            "Epoch 66/100\n",
            "4/4 [==============================] - 0s 20ms/step - loss: 1.7419 - accuracy: 0.4000\n",
            "Epoch 67/100\n",
            "4/4 [==============================] - 0s 21ms/step - loss: 1.7041 - accuracy: 0.4250\n",
            "Epoch 68/100\n",
            "4/4 [==============================] - 0s 20ms/step - loss: 1.7225 - accuracy: 0.4200\n",
            "Epoch 69/100\n",
            "4/4 [==============================] - 0s 19ms/step - loss: 1.7021 - accuracy: 0.4500\n",
            "Epoch 70/100\n",
            "4/4 [==============================] - 0s 19ms/step - loss: 1.7017 - accuracy: 0.4600\n",
            "Epoch 71/100\n",
            "4/4 [==============================] - 0s 23ms/step - loss: 1.6760 - accuracy: 0.4650\n",
            "Epoch 72/100\n",
            "4/4 [==============================] - 0s 19ms/step - loss: 1.6701 - accuracy: 0.4700\n",
            "Epoch 73/100\n",
            "4/4 [==============================] - 0s 19ms/step - loss: 1.6350 - accuracy: 0.4650\n",
            "Epoch 74/100\n",
            "4/4 [==============================] - 0s 21ms/step - loss: 1.6354 - accuracy: 0.4600\n",
            "Epoch 75/100\n",
            "4/4 [==============================] - 0s 19ms/step - loss: 1.6152 - accuracy: 0.4700\n",
            "Epoch 76/100\n",
            "4/4 [==============================] - 0s 19ms/step - loss: 1.5945 - accuracy: 0.4900\n",
            "Epoch 77/100\n",
            "4/4 [==============================] - 0s 19ms/step - loss: 1.5978 - accuracy: 0.4750\n",
            "Epoch 78/100\n",
            "4/4 [==============================] - 0s 20ms/step - loss: 1.6062 - accuracy: 0.4700\n",
            "Epoch 79/100\n",
            "4/4 [==============================] - 0s 20ms/step - loss: 1.5684 - accuracy: 0.5150\n",
            "Epoch 80/100\n",
            "4/4 [==============================] - 0s 19ms/step - loss: 1.5523 - accuracy: 0.4900\n",
            "Epoch 81/100\n",
            "4/4 [==============================] - 0s 19ms/step - loss: 1.5469 - accuracy: 0.5200\n",
            "Epoch 82/100\n",
            "4/4 [==============================] - 0s 19ms/step - loss: 1.5272 - accuracy: 0.5250\n",
            "Epoch 83/100\n",
            "4/4 [==============================] - 0s 23ms/step - loss: 1.5384 - accuracy: 0.5300\n",
            "Epoch 84/100\n",
            "4/4 [==============================] - 0s 19ms/step - loss: 1.5197 - accuracy: 0.5050\n",
            "Epoch 85/100\n",
            "4/4 [==============================] - 0s 19ms/step - loss: 1.4788 - accuracy: 0.5500\n",
            "Epoch 86/100\n",
            "4/4 [==============================] - 0s 19ms/step - loss: 1.5263 - accuracy: 0.5200\n",
            "Epoch 87/100\n",
            "4/4 [==============================] - 0s 18ms/step - loss: 1.4989 - accuracy: 0.5500\n",
            "Epoch 88/100\n",
            "4/4 [==============================] - 0s 19ms/step - loss: 1.5037 - accuracy: 0.5300\n",
            "Epoch 89/100\n",
            "4/4 [==============================] - 0s 19ms/step - loss: 1.4575 - accuracy: 0.5500\n",
            "Epoch 90/100\n",
            "4/4 [==============================] - 0s 20ms/step - loss: 1.4267 - accuracy: 0.5750\n",
            "Epoch 91/100\n",
            "4/4 [==============================] - 0s 19ms/step - loss: 1.4121 - accuracy: 0.5550\n",
            "Epoch 92/100\n",
            "4/4 [==============================] - 0s 19ms/step - loss: 1.4010 - accuracy: 0.5700\n",
            "Epoch 93/100\n",
            "4/4 [==============================] - 0s 18ms/step - loss: 1.3964 - accuracy: 0.5550\n",
            "Epoch 94/100\n",
            "4/4 [==============================] - 0s 20ms/step - loss: 1.4224 - accuracy: 0.5600\n",
            "Epoch 95/100\n",
            "4/4 [==============================] - 0s 22ms/step - loss: 1.3859 - accuracy: 0.5850\n",
            "Epoch 96/100\n",
            "4/4 [==============================] - 0s 20ms/step - loss: 1.3599 - accuracy: 0.5800\n",
            "Epoch 97/100\n",
            "4/4 [==============================] - 0s 19ms/step - loss: 1.3371 - accuracy: 0.6000\n",
            "Epoch 98/100\n",
            "4/4 [==============================] - 0s 19ms/step - loss: 1.3711 - accuracy: 0.5500\n",
            "Epoch 99/100\n",
            "4/4 [==============================] - 0s 19ms/step - loss: 1.3367 - accuracy: 0.5850\n",
            "Epoch 100/100\n",
            "4/4 [==============================] - 0s 19ms/step - loss: 1.3069 - accuracy: 0.6250\n"
          ]
        },
        {
          "output_type": "execute_result",
          "data": {
            "text/plain": [
              "<keras.callbacks.History at 0x7efe46367df0>"
            ]
          },
          "metadata": {},
          "execution_count": 25
        }
      ]
    },
    {
      "cell_type": "code",
      "source": [
        "print('Accuracy on Test Set :', model3.evaluate(x_test, y_test)[1] * 100)"
      ],
      "metadata": {
        "colab": {
          "base_uri": "https://localhost:8080/"
        },
        "id": "F_NnWqS3_GIP",
        "outputId": "1bbdfe29-62a6-491e-e408-6d8a19f004de"
      },
      "execution_count": 26,
      "outputs": [
        {
          "output_type": "stream",
          "name": "stdout",
          "text": [
            "313/313 [==============================] - 3s 8ms/step - loss: 2.7250 - accuracy: 0.1606\n",
            "Accuracy on Test Set : 16.06000065803528\n"
          ]
        }
      ]
    },
    {
      "cell_type": "markdown",
      "source": [
        "## C"
      ],
      "metadata": {
        "id": "pNbXso2ICVrl"
      }
    },
    {
      "cell_type": "code",
      "source": [
        "from sklearn.utils import shuffle\n",
        "\n",
        "all_x_train = np.concatenate((x_train, x_unlabeld))\n",
        "all_y_train = np.concatenate((y_train, np.zeros((x_unlabeld.shape[0], 1))))\n",
        "all_x_train, all_y_train = shuffle(all_x_train, all_y_train)\n",
        "all_y_train_categorical = tf.keras.utils.to_categorical(all_y_train, 10)"
      ],
      "metadata": {
        "id": "iqNqJBGrCU6i"
      },
      "execution_count": 44,
      "outputs": []
    },
    {
      "cell_type": "code",
      "source": [
        "rotation_degrees = [None, cv2.ROTATE_90_CLOCKWISE, cv2.ROTATE_90_COUNTERCLOCKWISE, cv2.ROTATE_180]\n",
        "l = len(rotation_degrees)\n",
        "\n",
        "all_x_train_rotate = np.zeros(all_x_train.shape)\n",
        "all_y_train_rotate = np.zeros((all_x_train.shape[0],1))\n",
        "\n",
        "for i in range(all_x_train.shape[0]):\n",
        "  r = randint(0, l-1)\n",
        "  \n",
        "  if r>0:\n",
        "    all_y_train_rotate[i,0] = r\n",
        "    all_x_train_rotate[i] = cv2.rotate(all_x_train[i], rotation_degrees[r])\n",
        "  else:\n",
        "    all_y_train_rotate[i,0] = 0\n",
        "    all_x_train_rotate[i] = all_x_train[i]\n",
        "\n",
        "all_y_train_rotate_categorical = tf.keras.utils.to_categorical(all_y_train_rotate, l)"
      ],
      "metadata": {
        "id": "GZwnPXnICjqg"
      },
      "execution_count": 45,
      "outputs": []
    },
    {
      "cell_type": "code",
      "source": [
        "x_test_rotate = np.zeros(x_test.shape)\n",
        "y_test_rotate = np.zeros(y_test.shape)\n",
        "\n",
        "for i in range(x_test.shape[0]):\n",
        "  r = randint(0, l-1)\n",
        "  \n",
        "  if r>0:\n",
        "    y_test_rotate[i,0] = r\n",
        "    x_test_rotate[i] = cv2.rotate(x_test[i], rotation_degrees[r])\n",
        "  else:\n",
        "    y_test_rotate[i,0] = 0\n",
        "    x_test_rotate[i] = x_test[i]\n",
        "\n",
        "y_test_rotate_categorical = tf.keras.utils.to_categorical(y_test_rotate, l)"
      ],
      "metadata": {
        "id": "ubcfTscpCxBB"
      },
      "execution_count": 46,
      "outputs": []
    },
    {
      "cell_type": "code",
      "source": [
        "MN2 = MobileNetV2(include_top=False, input_shape=(32, 32, 3), weights=None)\n",
        "flatten3 = Flatten()(MN2.layers[-1].output)\n",
        "output3_1 = Dense(4, activation='softmax', name='rotation_output')(flatten3)\n",
        "output3_2 = Dense(10, activation='softmax', name='classification_output')(flatten3)\n",
        "\n",
        "model4 = Model(inputs=MN2.inputs, outputs=[output3_1, output3_2])"
      ],
      "metadata": {
        "id": "lJWzPO1FC_Co"
      },
      "execution_count": 47,
      "outputs": []
    },
    {
      "cell_type": "code",
      "source": [
        "def train(class_coef, rotation_coef):\n",
        "  model4.compile(\n",
        "                optimizer=tf.keras.optimizers.Adam(learning_rate=0.01), \n",
        "                loss={\n",
        "                    'classification_output': 'categorical_crossentropy', \n",
        "                    'rotation_output': 'categorical_crossentropy'},\n",
        "                loss_weights={\n",
        "                    'classification_output': class_coef, \n",
        "                    'rotation_output': rotation_coef},\n",
        "                metrics={\n",
        "                    'classification_output': 'accuracy',\n",
        "                    'rotation_output': 'accuracy'}\n",
        "  )\n",
        "\n",
        "  model4.fit(\n",
        "              all_x_train_rotate,\n",
        "              [all_y_train_rotate_categorical, all_y_train_categorical], \n",
        "              validation_data=(x_test_rotate, [y_test_rotate_categorical, y_test_categorial]),\n",
        "              batch_size=128, \n",
        "              epochs=20\n",
        "  )"
      ],
      "metadata": {
        "id": "a9UUPBR-DPWL"
      },
      "execution_count": 48,
      "outputs": []
    },
    {
      "cell_type": "code",
      "source": [
        "train(1,5)"
      ],
      "metadata": {
        "colab": {
          "base_uri": "https://localhost:8080/"
        },
        "id": "aGUQqKIVDzXn",
        "outputId": "7ba78f5f-780b-450e-a9a8-b0a41f9d71de"
      },
      "execution_count": 50,
      "outputs": [
        {
          "output_type": "stream",
          "name": "stdout",
          "text": [
            "Epoch 1/20\n",
            "391/391 [==============================] - 16s 31ms/step - loss: 3.3191 - rotation_output_loss: 0.6572 - classification_output_loss: 0.0331 - rotation_output_accuracy: 0.7405 - classification_output_accuracy: 0.9964 - val_loss: 84.3674 - val_rotation_output_loss: 8.3291 - val_classification_output_loss: 42.7219 - val_rotation_output_accuracy: 0.4911 - val_classification_output_accuracy: 0.1000\n",
            "Epoch 2/20\n",
            "391/391 [==============================] - 10s 27ms/step - loss: 3.2100 - rotation_output_loss: 0.6356 - classification_output_loss: 0.0317 - rotation_output_accuracy: 0.7519 - classification_output_accuracy: 0.9964 - val_loss: 93.1861 - val_rotation_output_loss: 7.2456 - val_classification_output_loss: 56.9578 - val_rotation_output_accuracy: 0.5014 - val_classification_output_accuracy: 0.1000\n",
            "Epoch 3/20\n",
            "391/391 [==============================] - 11s 29ms/step - loss: 3.0836 - rotation_output_loss: 0.6105 - classification_output_loss: 0.0312 - rotation_output_accuracy: 0.7618 - classification_output_accuracy: 0.9964 - val_loss: 71.7599 - val_rotation_output_loss: 6.3202 - val_classification_output_loss: 40.1589 - val_rotation_output_accuracy: 0.5444 - val_classification_output_accuracy: 0.1000\n",
            "Epoch 4/20\n",
            "391/391 [==============================] - 11s 27ms/step - loss: 2.9953 - rotation_output_loss: 0.5928 - classification_output_loss: 0.0313 - rotation_output_accuracy: 0.7671 - classification_output_accuracy: 0.9964 - val_loss: 71.1711 - val_rotation_output_loss: 6.8938 - val_classification_output_loss: 36.7019 - val_rotation_output_accuracy: 0.5105 - val_classification_output_accuracy: 0.1000\n",
            "Epoch 5/20\n",
            "391/391 [==============================] - 11s 27ms/step - loss: 2.8846 - rotation_output_loss: 0.5707 - classification_output_loss: 0.0309 - rotation_output_accuracy: 0.7774 - classification_output_accuracy: 0.9964 - val_loss: 70.3834 - val_rotation_output_loss: 6.4083 - val_classification_output_loss: 38.3419 - val_rotation_output_accuracy: 0.5665 - val_classification_output_accuracy: 0.1000\n",
            "Epoch 6/20\n",
            "391/391 [==============================] - 11s 27ms/step - loss: 2.7897 - rotation_output_loss: 0.5517 - classification_output_loss: 0.0312 - rotation_output_accuracy: 0.7838 - classification_output_accuracy: 0.9964 - val_loss: 58.9886 - val_rotation_output_loss: 5.6398 - val_classification_output_loss: 30.7896 - val_rotation_output_accuracy: 0.5623 - val_classification_output_accuracy: 0.1000\n",
            "Epoch 7/20\n",
            "391/391 [==============================] - 11s 27ms/step - loss: 2.7045 - rotation_output_loss: 0.5347 - classification_output_loss: 0.0309 - rotation_output_accuracy: 0.7906 - classification_output_accuracy: 0.9964 - val_loss: 46.3206 - val_rotation_output_loss: 4.3296 - val_classification_output_loss: 24.6725 - val_rotation_output_accuracy: 0.5981 - val_classification_output_accuracy: 0.1000\n",
            "Epoch 8/20\n",
            "391/391 [==============================] - 11s 27ms/step - loss: 2.6037 - rotation_output_loss: 0.5145 - classification_output_loss: 0.0310 - rotation_output_accuracy: 0.8012 - classification_output_accuracy: 0.9964 - val_loss: 38.8746 - val_rotation_output_loss: 3.2576 - val_classification_output_loss: 22.5866 - val_rotation_output_accuracy: 0.6093 - val_classification_output_accuracy: 0.1000\n",
            "Epoch 9/20\n",
            "391/391 [==============================] - 11s 28ms/step - loss: 2.5314 - rotation_output_loss: 0.5000 - classification_output_loss: 0.0313 - rotation_output_accuracy: 0.8066 - classification_output_accuracy: 0.9964 - val_loss: 39.0175 - val_rotation_output_loss: 3.7458 - val_classification_output_loss: 20.2884 - val_rotation_output_accuracy: 0.6007 - val_classification_output_accuracy: 0.1000\n",
            "Epoch 10/20\n",
            "391/391 [==============================] - 10s 27ms/step - loss: 2.4409 - rotation_output_loss: 0.4820 - classification_output_loss: 0.0307 - rotation_output_accuracy: 0.8149 - classification_output_accuracy: 0.9964 - val_loss: 41.7227 - val_rotation_output_loss: 4.2973 - val_classification_output_loss: 20.2363 - val_rotation_output_accuracy: 0.5944 - val_classification_output_accuracy: 0.1000\n",
            "Epoch 11/20\n",
            "391/391 [==============================] - 11s 28ms/step - loss: 2.3728 - rotation_output_loss: 0.4684 - classification_output_loss: 0.0310 - rotation_output_accuracy: 0.8207 - classification_output_accuracy: 0.9964 - val_loss: 54.7448 - val_rotation_output_loss: 4.7359 - val_classification_output_loss: 31.0656 - val_rotation_output_accuracy: 0.5895 - val_classification_output_accuracy: 0.1000\n",
            "Epoch 12/20\n",
            "391/391 [==============================] - 11s 28ms/step - loss: 2.3111 - rotation_output_loss: 0.4560 - classification_output_loss: 0.0311 - rotation_output_accuracy: 0.8246 - classification_output_accuracy: 0.9964 - val_loss: 36.3783 - val_rotation_output_loss: 3.7257 - val_classification_output_loss: 17.7496 - val_rotation_output_accuracy: 0.5913 - val_classification_output_accuracy: 0.1000\n",
            "Epoch 13/20\n",
            "391/391 [==============================] - 11s 28ms/step - loss: 2.1903 - rotation_output_loss: 0.4318 - classification_output_loss: 0.0313 - rotation_output_accuracy: 0.8362 - classification_output_accuracy: 0.9964 - val_loss: 41.2762 - val_rotation_output_loss: 3.3128 - val_classification_output_loss: 24.7124 - val_rotation_output_accuracy: 0.6329 - val_classification_output_accuracy: 0.1000\n",
            "Epoch 14/20\n",
            "391/391 [==============================] - 11s 27ms/step - loss: 2.1348 - rotation_output_loss: 0.4207 - classification_output_loss: 0.0312 - rotation_output_accuracy: 0.8396 - classification_output_accuracy: 0.9964 - val_loss: 28.4835 - val_rotation_output_loss: 2.9289 - val_classification_output_loss: 13.8390 - val_rotation_output_accuracy: 0.6319 - val_classification_output_accuracy: 0.1000\n",
            "Epoch 15/20\n",
            "391/391 [==============================] - 11s 27ms/step - loss: 2.0875 - rotation_output_loss: 0.4113 - classification_output_loss: 0.0312 - rotation_output_accuracy: 0.8423 - classification_output_accuracy: 0.9964 - val_loss: 25.8779 - val_rotation_output_loss: 2.7359 - val_classification_output_loss: 12.1984 - val_rotation_output_accuracy: 0.6320 - val_classification_output_accuracy: 0.1000\n",
            "Epoch 16/20\n",
            "391/391 [==============================] - 10s 27ms/step - loss: 1.9929 - rotation_output_loss: 0.3923 - classification_output_loss: 0.0313 - rotation_output_accuracy: 0.8504 - classification_output_accuracy: 0.9964 - val_loss: 32.7453 - val_rotation_output_loss: 3.4689 - val_classification_output_loss: 15.4010 - val_rotation_output_accuracy: 0.6152 - val_classification_output_accuracy: 0.1000\n",
            "Epoch 17/20\n",
            "391/391 [==============================] - 10s 27ms/step - loss: 1.9326 - rotation_output_loss: 0.3803 - classification_output_loss: 0.0310 - rotation_output_accuracy: 0.8571 - classification_output_accuracy: 0.9964 - val_loss: 23.1043 - val_rotation_output_loss: 2.4245 - val_classification_output_loss: 10.9819 - val_rotation_output_accuracy: 0.6760 - val_classification_output_accuracy: 0.1000\n",
            "Epoch 18/20\n",
            "391/391 [==============================] - 11s 27ms/step - loss: 1.8718 - rotation_output_loss: 0.3682 - classification_output_loss: 0.0309 - rotation_output_accuracy: 0.8610 - classification_output_accuracy: 0.9964 - val_loss: 28.0511 - val_rotation_output_loss: 2.6444 - val_classification_output_loss: 14.8291 - val_rotation_output_accuracy: 0.6591 - val_classification_output_accuracy: 0.1000\n",
            "Epoch 19/20\n",
            "391/391 [==============================] - 10s 26ms/step - loss: 1.7817 - rotation_output_loss: 0.3501 - classification_output_loss: 0.0311 - rotation_output_accuracy: 0.8677 - classification_output_accuracy: 0.9964 - val_loss: 19.9568 - val_rotation_output_loss: 2.1001 - val_classification_output_loss: 9.4565 - val_rotation_output_accuracy: 0.6858 - val_classification_output_accuracy: 0.1000\n",
            "Epoch 20/20\n",
            "391/391 [==============================] - 11s 27ms/step - loss: 1.7362 - rotation_output_loss: 0.3411 - classification_output_loss: 0.0308 - rotation_output_accuracy: 0.8699 - classification_output_accuracy: 0.9964 - val_loss: 23.7016 - val_rotation_output_loss: 2.4674 - val_classification_output_loss: 11.3644 - val_rotation_output_accuracy: 0.6775 - val_classification_output_accuracy: 0.1000\n"
          ]
        }
      ]
    },
    {
      "cell_type": "code",
      "source": [
        "train(1, 1)"
      ],
      "metadata": {
        "colab": {
          "base_uri": "https://localhost:8080/"
        },
        "id": "HpKN00K6D9y9",
        "outputId": "b7af119a-2a10-4248-c43b-e80d53a9acd2"
      },
      "execution_count": 51,
      "outputs": [
        {
          "output_type": "stream",
          "name": "stdout",
          "text": [
            "Epoch 1/20\n",
            "391/391 [==============================] - 17s 31ms/step - loss: 0.3623 - rotation_output_loss: 0.3293 - classification_output_loss: 0.0330 - rotation_output_accuracy: 0.8746 - classification_output_accuracy: 0.9964 - val_loss: 15.1454 - val_rotation_output_loss: 2.3821 - val_classification_output_loss: 12.7633 - val_rotation_output_accuracy: 0.6632 - val_classification_output_accuracy: 0.1000\n",
            "Epoch 2/20\n",
            "391/391 [==============================] - 10s 27ms/step - loss: 0.3456 - rotation_output_loss: 0.3144 - classification_output_loss: 0.0312 - rotation_output_accuracy: 0.8805 - classification_output_accuracy: 0.9964 - val_loss: 12.4999 - val_rotation_output_loss: 2.4007 - val_classification_output_loss: 10.0992 - val_rotation_output_accuracy: 0.6714 - val_classification_output_accuracy: 0.1000\n",
            "Epoch 3/20\n",
            "391/391 [==============================] - 11s 28ms/step - loss: 0.3323 - rotation_output_loss: 0.3016 - classification_output_loss: 0.0307 - rotation_output_accuracy: 0.8857 - classification_output_accuracy: 0.9964 - val_loss: 20.1323 - val_rotation_output_loss: 2.6993 - val_classification_output_loss: 17.4330 - val_rotation_output_accuracy: 0.6586 - val_classification_output_accuracy: 0.1000\n",
            "Epoch 4/20\n",
            "391/391 [==============================] - 11s 28ms/step - loss: 0.3255 - rotation_output_loss: 0.2940 - classification_output_loss: 0.0315 - rotation_output_accuracy: 0.8886 - classification_output_accuracy: 0.9964 - val_loss: 16.6242 - val_rotation_output_loss: 2.4216 - val_classification_output_loss: 14.2026 - val_rotation_output_accuracy: 0.6537 - val_classification_output_accuracy: 0.1000\n",
            "Epoch 5/20\n",
            "391/391 [==============================] - 11s 29ms/step - loss: 0.3172 - rotation_output_loss: 0.2865 - classification_output_loss: 0.0308 - rotation_output_accuracy: 0.8919 - classification_output_accuracy: 0.9964 - val_loss: 11.9995 - val_rotation_output_loss: 2.1101 - val_classification_output_loss: 9.8894 - val_rotation_output_accuracy: 0.6754 - val_classification_output_accuracy: 0.1000\n",
            "Epoch 6/20\n",
            "391/391 [==============================] - 11s 27ms/step - loss: 0.3075 - rotation_output_loss: 0.2767 - classification_output_loss: 0.0308 - rotation_output_accuracy: 0.8959 - classification_output_accuracy: 0.9964 - val_loss: 13.5487 - val_rotation_output_loss: 2.0325 - val_classification_output_loss: 11.5162 - val_rotation_output_accuracy: 0.6698 - val_classification_output_accuracy: 0.1000\n",
            "Epoch 7/20\n",
            "391/391 [==============================] - 10s 27ms/step - loss: 0.3039 - rotation_output_loss: 0.2733 - classification_output_loss: 0.0306 - rotation_output_accuracy: 0.8971 - classification_output_accuracy: 0.9964 - val_loss: 13.3822 - val_rotation_output_loss: 2.2311 - val_classification_output_loss: 11.1511 - val_rotation_output_accuracy: 0.6680 - val_classification_output_accuracy: 0.1000\n",
            "Epoch 8/20\n",
            "391/391 [==============================] - 11s 29ms/step - loss: 0.2901 - rotation_output_loss: 0.2599 - classification_output_loss: 0.0302 - rotation_output_accuracy: 0.9024 - classification_output_accuracy: 0.9964 - val_loss: 10.9285 - val_rotation_output_loss: 1.9764 - val_classification_output_loss: 8.9521 - val_rotation_output_accuracy: 0.6895 - val_classification_output_accuracy: 0.1000\n",
            "Epoch 9/20\n",
            "391/391 [==============================] - 11s 27ms/step - loss: 0.2842 - rotation_output_loss: 0.2537 - classification_output_loss: 0.0305 - rotation_output_accuracy: 0.9057 - classification_output_accuracy: 0.9964 - val_loss: 13.6392 - val_rotation_output_loss: 2.2128 - val_classification_output_loss: 11.4264 - val_rotation_output_accuracy: 0.6867 - val_classification_output_accuracy: 0.1000\n",
            "Epoch 10/20\n",
            "391/391 [==============================] - 11s 27ms/step - loss: 0.2814 - rotation_output_loss: 0.2507 - classification_output_loss: 0.0307 - rotation_output_accuracy: 0.9051 - classification_output_accuracy: 0.9964 - val_loss: 11.1922 - val_rotation_output_loss: 1.8581 - val_classification_output_loss: 9.3341 - val_rotation_output_accuracy: 0.6696 - val_classification_output_accuracy: 0.1000\n",
            "Epoch 11/20\n",
            "391/391 [==============================] - 11s 27ms/step - loss: 0.2672 - rotation_output_loss: 0.2367 - classification_output_loss: 0.0305 - rotation_output_accuracy: 0.9113 - classification_output_accuracy: 0.9964 - val_loss: 11.1783 - val_rotation_output_loss: 1.8283 - val_classification_output_loss: 9.3499 - val_rotation_output_accuracy: 0.6863 - val_classification_output_accuracy: 0.1000\n",
            "Epoch 12/20\n",
            "391/391 [==============================] - 11s 29ms/step - loss: 0.2656 - rotation_output_loss: 0.2346 - classification_output_loss: 0.0310 - rotation_output_accuracy: 0.9115 - classification_output_accuracy: 0.9964 - val_loss: 14.6739 - val_rotation_output_loss: 1.9378 - val_classification_output_loss: 12.7362 - val_rotation_output_accuracy: 0.6794 - val_classification_output_accuracy: 0.1000\n",
            "Epoch 13/20\n",
            "391/391 [==============================] - 11s 27ms/step - loss: 0.2545 - rotation_output_loss: 0.2239 - classification_output_loss: 0.0306 - rotation_output_accuracy: 0.9156 - classification_output_accuracy: 0.9964 - val_loss: 13.0603 - val_rotation_output_loss: 2.3203 - val_classification_output_loss: 10.7400 - val_rotation_output_accuracy: 0.6833 - val_classification_output_accuracy: 0.1000\n",
            "Epoch 14/20\n",
            "391/391 [==============================] - 11s 27ms/step - loss: 0.2479 - rotation_output_loss: 0.2176 - classification_output_loss: 0.0303 - rotation_output_accuracy: 0.9176 - classification_output_accuracy: 0.9964 - val_loss: 13.2939 - val_rotation_output_loss: 2.5218 - val_classification_output_loss: 10.7720 - val_rotation_output_accuracy: 0.6809 - val_classification_output_accuracy: 0.1000\n",
            "Epoch 15/20\n",
            "391/391 [==============================] - 11s 27ms/step - loss: 0.2440 - rotation_output_loss: 0.2137 - classification_output_loss: 0.0303 - rotation_output_accuracy: 0.9197 - classification_output_accuracy: 0.9964 - val_loss: 11.4598 - val_rotation_output_loss: 2.2311 - val_classification_output_loss: 9.2287 - val_rotation_output_accuracy: 0.6830 - val_classification_output_accuracy: 0.1000\n",
            "Epoch 16/20\n",
            "391/391 [==============================] - 11s 27ms/step - loss: 0.2360 - rotation_output_loss: 0.2061 - classification_output_loss: 0.0299 - rotation_output_accuracy: 0.9231 - classification_output_accuracy: 0.9964 - val_loss: 12.6384 - val_rotation_output_loss: 2.4270 - val_classification_output_loss: 10.2113 - val_rotation_output_accuracy: 0.6600 - val_classification_output_accuracy: 0.1000\n",
            "Epoch 17/20\n",
            "391/391 [==============================] - 11s 27ms/step - loss: 0.2302 - rotation_output_loss: 0.2001 - classification_output_loss: 0.0301 - rotation_output_accuracy: 0.9255 - classification_output_accuracy: 0.9964 - val_loss: 10.6260 - val_rotation_output_loss: 2.2282 - val_classification_output_loss: 8.3979 - val_rotation_output_accuracy: 0.6807 - val_classification_output_accuracy: 0.1000\n",
            "Epoch 18/20\n",
            "391/391 [==============================] - 12s 30ms/step - loss: 0.2304 - rotation_output_loss: 0.1997 - classification_output_loss: 0.0307 - rotation_output_accuracy: 0.9243 - classification_output_accuracy: 0.9964 - val_loss: 10.9958 - val_rotation_output_loss: 1.7765 - val_classification_output_loss: 9.2192 - val_rotation_output_accuracy: 0.6918 - val_classification_output_accuracy: 0.1000\n",
            "Epoch 19/20\n",
            "391/391 [==============================] - 11s 27ms/step - loss: 0.2226 - rotation_output_loss: 0.1929 - classification_output_loss: 0.0297 - rotation_output_accuracy: 0.9283 - classification_output_accuracy: 0.9964 - val_loss: 13.3556 - val_rotation_output_loss: 1.7289 - val_classification_output_loss: 11.6267 - val_rotation_output_accuracy: 0.6942 - val_classification_output_accuracy: 0.1000\n",
            "Epoch 20/20\n",
            "391/391 [==============================] - 11s 28ms/step - loss: 0.2230 - rotation_output_loss: 0.1922 - classification_output_loss: 0.0308 - rotation_output_accuracy: 0.9285 - classification_output_accuracy: 0.9964 - val_loss: 11.8536 - val_rotation_output_loss: 2.1950 - val_classification_output_loss: 9.6585 - val_rotation_output_accuracy: 0.6860 - val_classification_output_accuracy: 0.1000\n"
          ]
        }
      ]
    },
    {
      "cell_type": "code",
      "source": [
        "train(4, 1)"
      ],
      "metadata": {
        "colab": {
          "base_uri": "https://localhost:8080/"
        },
        "id": "QKThvA4zD6w0",
        "outputId": "7655c969-9dcf-4b44-e8f6-aa03aae903bc"
      },
      "execution_count": 52,
      "outputs": [
        {
          "output_type": "stream",
          "name": "stdout",
          "text": [
            "Epoch 1/20\n",
            "391/391 [==============================] - 16s 30ms/step - loss: 0.3305 - rotation_output_loss: 0.2018 - classification_output_loss: 0.0322 - rotation_output_accuracy: 0.9230 - classification_output_accuracy: 0.9964 - val_loss: 42.1855 - val_rotation_output_loss: 1.8730 - val_classification_output_loss: 10.0781 - val_rotation_output_accuracy: 0.6865 - val_classification_output_accuracy: 0.1000\n",
            "Epoch 2/20\n",
            "391/391 [==============================] - 11s 28ms/step - loss: 0.3177 - rotation_output_loss: 0.1967 - classification_output_loss: 0.0303 - rotation_output_accuracy: 0.9269 - classification_output_accuracy: 0.9964 - val_loss: 50.4147 - val_rotation_output_loss: 2.3530 - val_classification_output_loss: 12.0154 - val_rotation_output_accuracy: 0.6749 - val_classification_output_accuracy: 0.1000\n",
            "Epoch 3/20\n",
            "391/391 [==============================] - 11s 27ms/step - loss: 0.3000 - rotation_output_loss: 0.1830 - classification_output_loss: 0.0293 - rotation_output_accuracy: 0.9307 - classification_output_accuracy: 0.9964 - val_loss: 54.0480 - val_rotation_output_loss: 2.0092 - val_classification_output_loss: 13.0097 - val_rotation_output_accuracy: 0.6818 - val_classification_output_accuracy: 0.1000\n",
            "Epoch 4/20\n",
            "391/391 [==============================] - 10s 27ms/step - loss: 0.3104 - rotation_output_loss: 0.1931 - classification_output_loss: 0.0293 - rotation_output_accuracy: 0.9279 - classification_output_accuracy: 0.9964 - val_loss: 53.8733 - val_rotation_output_loss: 1.9113 - val_classification_output_loss: 12.9905 - val_rotation_output_accuracy: 0.6773 - val_classification_output_accuracy: 0.1000\n",
            "Epoch 5/20\n",
            "391/391 [==============================] - 11s 27ms/step - loss: 0.2917 - rotation_output_loss: 0.1787 - classification_output_loss: 0.0283 - rotation_output_accuracy: 0.9325 - classification_output_accuracy: 0.9964 - val_loss: 56.8960 - val_rotation_output_loss: 2.2078 - val_classification_output_loss: 13.6720 - val_rotation_output_accuracy: 0.6729 - val_classification_output_accuracy: 0.1000\n",
            "Epoch 6/20\n",
            "391/391 [==============================] - 10s 27ms/step - loss: 0.2865 - rotation_output_loss: 0.1743 - classification_output_loss: 0.0281 - rotation_output_accuracy: 0.9354 - classification_output_accuracy: 0.9964 - val_loss: 42.4289 - val_rotation_output_loss: 1.7765 - val_classification_output_loss: 10.1631 - val_rotation_output_accuracy: 0.6870 - val_classification_output_accuracy: 0.1000\n",
            "Epoch 7/20\n",
            "391/391 [==============================] - 10s 27ms/step - loss: 0.2821 - rotation_output_loss: 0.1738 - classification_output_loss: 0.0271 - rotation_output_accuracy: 0.9354 - classification_output_accuracy: 0.9964 - val_loss: 39.0429 - val_rotation_output_loss: 1.8844 - val_classification_output_loss: 9.2896 - val_rotation_output_accuracy: 0.6840 - val_classification_output_accuracy: 0.1000\n",
            "Epoch 8/20\n",
            "391/391 [==============================] - 10s 27ms/step - loss: 0.2793 - rotation_output_loss: 0.1707 - classification_output_loss: 0.0271 - rotation_output_accuracy: 0.9374 - classification_output_accuracy: 0.9964 - val_loss: 39.2212 - val_rotation_output_loss: 1.6925 - val_classification_output_loss: 9.3822 - val_rotation_output_accuracy: 0.6942 - val_classification_output_accuracy: 0.1000\n",
            "Epoch 9/20\n",
            "391/391 [==============================] - 11s 28ms/step - loss: 0.2799 - rotation_output_loss: 0.1752 - classification_output_loss: 0.0262 - rotation_output_accuracy: 0.9358 - classification_output_accuracy: 0.9964 - val_loss: 41.5178 - val_rotation_output_loss: 1.9566 - val_classification_output_loss: 9.8903 - val_rotation_output_accuracy: 0.6912 - val_classification_output_accuracy: 0.1000\n",
            "Epoch 10/20\n",
            "391/391 [==============================] - 11s 27ms/step - loss: 0.2726 - rotation_output_loss: 0.1710 - classification_output_loss: 0.0254 - rotation_output_accuracy: 0.9360 - classification_output_accuracy: 0.9964 - val_loss: 43.3551 - val_rotation_output_loss: 2.0306 - val_classification_output_loss: 10.3311 - val_rotation_output_accuracy: 0.6903 - val_classification_output_accuracy: 0.1000\n",
            "Epoch 11/20\n",
            "391/391 [==============================] - 10s 27ms/step - loss: 0.2668 - rotation_output_loss: 0.1697 - classification_output_loss: 0.0243 - rotation_output_accuracy: 0.9374 - classification_output_accuracy: 0.9964 - val_loss: 41.8189 - val_rotation_output_loss: 1.6993 - val_classification_output_loss: 10.0299 - val_rotation_output_accuracy: 0.6959 - val_classification_output_accuracy: 0.1000\n",
            "Epoch 12/20\n",
            "391/391 [==============================] - 11s 28ms/step - loss: 0.2590 - rotation_output_loss: 0.1654 - classification_output_loss: 0.0234 - rotation_output_accuracy: 0.9386 - classification_output_accuracy: 0.9964 - val_loss: 41.1282 - val_rotation_output_loss: 1.7099 - val_classification_output_loss: 9.8546 - val_rotation_output_accuracy: 0.6924 - val_classification_output_accuracy: 0.1000\n",
            "Epoch 13/20\n",
            "391/391 [==============================] - 11s 28ms/step - loss: 0.2588 - rotation_output_loss: 0.1672 - classification_output_loss: 0.0229 - rotation_output_accuracy: 0.9375 - classification_output_accuracy: 0.9965 - val_loss: 42.5041 - val_rotation_output_loss: 1.8070 - val_classification_output_loss: 10.1743 - val_rotation_output_accuracy: 0.6831 - val_classification_output_accuracy: 0.1000\n",
            "Epoch 14/20\n",
            "391/391 [==============================] - 11s 27ms/step - loss: 0.2627 - rotation_output_loss: 0.1716 - classification_output_loss: 0.0228 - rotation_output_accuracy: 0.9363 - classification_output_accuracy: 0.9965 - val_loss: 41.7354 - val_rotation_output_loss: 1.6102 - val_classification_output_loss: 10.0313 - val_rotation_output_accuracy: 0.6946 - val_classification_output_accuracy: 0.1001\n",
            "Epoch 15/20\n",
            "391/391 [==============================] - 11s 27ms/step - loss: 0.2530 - rotation_output_loss: 0.1659 - classification_output_loss: 0.0218 - rotation_output_accuracy: 0.9392 - classification_output_accuracy: 0.9967 - val_loss: 48.4495 - val_rotation_output_loss: 2.6670 - val_classification_output_loss: 11.4456 - val_rotation_output_accuracy: 0.6704 - val_classification_output_accuracy: 0.1004\n",
            "Epoch 16/20\n",
            "391/391 [==============================] - 10s 27ms/step - loss: 0.2432 - rotation_output_loss: 0.1603 - classification_output_loss: 0.0207 - rotation_output_accuracy: 0.9417 - classification_output_accuracy: 0.9966 - val_loss: 50.8911 - val_rotation_output_loss: 1.5241 - val_classification_output_loss: 12.3418 - val_rotation_output_accuracy: 0.7013 - val_classification_output_accuracy: 0.1003\n",
            "Epoch 17/20\n",
            "391/391 [==============================] - 10s 27ms/step - loss: 0.2387 - rotation_output_loss: 0.1591 - classification_output_loss: 0.0199 - rotation_output_accuracy: 0.9411 - classification_output_accuracy: 0.9968 - val_loss: 44.2065 - val_rotation_output_loss: 1.6857 - val_classification_output_loss: 10.6302 - val_rotation_output_accuracy: 0.7049 - val_classification_output_accuracy: 0.1001\n",
            "Epoch 18/20\n",
            "391/391 [==============================] - 11s 27ms/step - loss: 0.2342 - rotation_output_loss: 0.1566 - classification_output_loss: 0.0194 - rotation_output_accuracy: 0.9422 - classification_output_accuracy: 0.9967 - val_loss: 49.7204 - val_rotation_output_loss: 2.6665 - val_classification_output_loss: 11.7635 - val_rotation_output_accuracy: 0.6374 - val_classification_output_accuracy: 0.1009\n",
            "Epoch 19/20\n",
            "391/391 [==============================] - 11s 28ms/step - loss: 0.2300 - rotation_output_loss: 0.1550 - classification_output_loss: 0.0187 - rotation_output_accuracy: 0.9423 - classification_output_accuracy: 0.9968 - val_loss: 45.0510 - val_rotation_output_loss: 1.6727 - val_classification_output_loss: 10.8446 - val_rotation_output_accuracy: 0.6715 - val_classification_output_accuracy: 0.1014\n",
            "Epoch 20/20\n",
            "391/391 [==============================] - 11s 27ms/step - loss: 0.2256 - rotation_output_loss: 0.1567 - classification_output_loss: 0.0172 - rotation_output_accuracy: 0.9427 - classification_output_accuracy: 0.9968 - val_loss: 48.4179 - val_rotation_output_loss: 2.0522 - val_classification_output_loss: 11.5914 - val_rotation_output_accuracy: 0.6673 - val_classification_output_accuracy: 0.1010\n"
          ]
        }
      ]
    }
  ]
}